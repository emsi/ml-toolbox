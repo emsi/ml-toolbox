{
 "cells": [
  {
   "cell_type": "code",
   "execution_count": 36,
   "metadata": {
    "collapsed": false
   },
   "outputs": [],
   "source": [
    "#%env KERAS_BACKEND=theano  # This is WRONG, use K.set_image_dim_ordering('th') instead\n",
    "\n",
    "#import numpy\n",
    "#import theano\n",
    "#print numpy.__version__\n",
    "#print theano.__version__\n",
    "#import keras\n",
    "#print keras.__version__\n",
    "\n",
    "\n",
    "import numpy as np\n",
    "np.random.seed(123)  # for reproducibility\n",
    "from keras.models import Sequential\n",
    "from keras.layers import Dense, Dropout, Activation, Flatten\n",
    "from keras.layers import Convolution2D, MaxPooling2D\n",
    "from keras.utils import np_utils\n",
    "\n",
    "\n",
    "from keras import backend as K\n",
    "K.set_image_dim_ordering('th')\n",
    "\n",
    "%matplotlib inline"
   ]
  },
  {
   "cell_type": "code",
   "execution_count": 37,
   "metadata": {
    "collapsed": false
   },
   "outputs": [],
   "source": [
    "from six.moves import cPickle as pickle\n",
    "pickle_file = 'notMNIST.pickle'\n",
    "try:\n",
    "    with open(pickle_file) as f:\n",
    "        save=pickle.load(f)\n",
    "except Exception as e:\n",
    "  print('Unable to load data from', pickle_file, ':', e)\n",
    "  raise\n",
    "    \n",
    "X_train_dataset=save['train_dataset']\n",
    "Y_train_labels=save['train_labels']\n",
    "\n",
    "X_test_dataset=save['test_dataset']\n",
    "Y_test_labels=save['test_labels']\n",
    "\n",
    "X_valid_dataset=save['valid_dataset']\n",
    "Y_valid_labels=save['valid_labels']\n",
    "\n",
    "letters = ['A', 'B', 'C', 'D', 'E', 'F', 'G', 'H', 'I', 'J']"
   ]
  },
  {
   "cell_type": "code",
   "execution_count": 38,
   "metadata": {
    "collapsed": false
   },
   "outputs": [
    {
     "name": "stdout",
     "output_type": "stream",
     "text": [
      "(200000, 28, 28)\n",
      "[4 9 6 ..., 2 4 4]\n",
      "(10000, 28, 28)\n",
      "[3 6 4 ..., 6 9 0]\n",
      "(10000, 28, 28)\n",
      "[1 9 3 ..., 8 9 8]\n"
     ]
    }
   ],
   "source": [
    "print (X_train_dataset.shape)\n",
    "print (Y_train_labels)\n",
    "print (X_test_dataset.shape)\n",
    "print (Y_test_labels)\n",
    "print (X_valid_dataset.shape)\n",
    "print (Y_valid_labels)\n"
   ]
  },
  {
   "cell_type": "code",
   "execution_count": 41,
   "metadata": {
    "collapsed": false
   },
   "outputs": [
    {
     "name": "stdout",
     "output_type": "stream",
     "text": [
      "J\n"
     ]
    },
    {
     "data": {
      "image/png": "[encoded data removed]",
      "text/plain": [
       "<matplotlib.figure.Figure at 0x7f8aec72c750>"
      ]
     },
     "metadata": {},
     "output_type": "display_data"
    }
   ],
   "source": [
    "sample_no=34\n",
    "\n",
    "from matplotlib import pyplot as plt\n",
    "plt.imshow(X_train_dataset[sample_no] , cmap='gray')\n",
    "print (letters[Y_train_labels[sample_no]])"
   ]
  },
  {
   "cell_type": "code",
   "execution_count": 5,
   "metadata": {
    "collapsed": false
   },
   "outputs": [],
   "source": [
    "X_train_dataset = X_train_dataset.reshape(X_train_dataset.shape[0], 1, 28, 28)\n",
    "X_test_dataset = X_test_dataset.reshape(X_test_dataset.shape[0], 1, 28, 28)\n",
    "\n",
    "X_train_dataset = X_train_dataset.astype('float32')\n",
    "X_test_dataset = X_test_dataset.astype('float32')\n",
    "\n",
    "X_train_dataset /= 255\n",
    "X_test_dataset /= 255\n",
    "\n",
    "# Convert 1-dimensional class arrays to 10-dimensional class matrices\n",
    "Y_train_labels = np_utils.to_categorical(Y_train_labels, 10)\n",
    "Y_test_labels = np_utils.to_categorical(Y_test_labels, 10)\n",
    "\n",
    "\n",
    "\n",
    "# VALID\n",
    "X_valid_dataset = X_valid_dataset.reshape(X_valid_dataset.shape[0], 1, 28, 28)\n",
    "X_valid_dataset = X_valid_dataset.astype('float32')\n",
    "X_valid_dataset /= 255\n",
    "\n",
    "# Convert 1-dimensional class arrays to 10-dimensional class matrices\n",
    "Y_valid_labels = np_utils.to_categorical(Y_valid_labels, 10)"
   ]
  },
  {
   "cell_type": "code",
   "execution_count": 6,
   "metadata": {
    "collapsed": false
   },
   "outputs": [
    {
     "name": "stdout",
     "output_type": "stream",
     "text": [
      "____________________________________________________________________________________________________\n",
      "Layer (type)                     Output Shape          Param #     Connected to                     \n",
      "====================================================================================================\n",
      "convolution2d_1 (Convolution2D)  (None, 256, 14, 14)   6656        convolution2d_input_1[0][0]      \n",
      "____________________________________________________________________________________________________\n",
      "convolution2d_2 (Convolution2D)  (None, 256, 7, 7)     1638656     convolution2d_1[0][0]            \n",
      "____________________________________________________________________________________________________\n",
      "maxpooling2d_1 (MaxPooling2D)    (None, 256, 3, 3)     0           convolution2d_2[0][0]            \n",
      "____________________________________________________________________________________________________\n",
      "dropout_1 (Dropout)              (None, 256, 3, 3)     0           maxpooling2d_1[0][0]             \n",
      "____________________________________________________________________________________________________\n",
      "flatten_1 (Flatten)              (None, 2304)          0           dropout_1[0][0]                  \n",
      "____________________________________________________________________________________________________\n",
      "dense_1 (Dense)                  (None, 128)           295040      flatten_1[0][0]                  \n",
      "____________________________________________________________________________________________________\n",
      "dropout_2 (Dropout)              (None, 128)           0           dense_1[0][0]                    \n",
      "____________________________________________________________________________________________________\n",
      "dense_2 (Dense)                  (None, 10)            1290        dropout_2[0][0]                  \n",
      "====================================================================================================\n",
      "Total params: 1,941,642\n",
      "Trainable params: 1,941,642\n",
      "Non-trainable params: 0\n",
      "____________________________________________________________________________________________________\n"
     ]
    }
   ],
   "source": [
    "model = Sequential()\n",
    " \n",
    "#model.add(Convolution2D(32, 3, 3, activation='relu', input_shape=(1,28,28)))\n",
    "#model.add(Convolution2D(32, 3, 3, activation='relu'))\n",
    "model.add(Convolution2D(256, 5, 5, subsample=(2, 2), border_mode = 'same', activation='relu',input_shape=(1,28,28)))\n",
    "model.add(Convolution2D(256, 5, 5, subsample=(2, 2), border_mode = 'same', activation='relu'))\n",
    "\n",
    "model.add(MaxPooling2D(pool_size=(2,2)))\n",
    "model.add(Dropout(0.25))\n",
    "model.add(Flatten())\n",
    "model.add(Dense(128, activation='relu'))\n",
    "model.add(Dropout(0.5))\n",
    "model.add(Dense(10, activation='softmax'))\n",
    "\n",
    "model.summary()\n",
    "\n",
    "model.compile(loss='categorical_crossentropy',\n",
    "              optimizer='adam',\n",
    "              metrics=['accuracy'])"
   ]
  },
  {
   "cell_type": "code",
   "execution_count": 7,
   "metadata": {
    "collapsed": false
   },
   "outputs": [
    {
     "name": "stdout",
     "output_type": "stream",
     "text": [
      "Train on 134000 samples, validate on 66000 samples\n",
      "Epoch 1/10\n",
      "134000/134000 [==============================] - 605s - loss: 0.8194 - acc: 0.7518 - val_loss: 0.4882 - val_acc: 0.8530\n",
      "Epoch 2/10\n",
      "134000/134000 [==============================] - 585s - loss: 0.5761 - acc: 0.8288 - val_loss: 0.4336 - val_acc: 0.8675\n",
      "Epoch 3/10\n",
      "134000/134000 [==============================] - 584s - loss: 0.5289 - acc: 0.8416 - val_loss: 0.4125 - val_acc: 0.8741\n",
      "Epoch 4/10\n",
      "134000/134000 [==============================] - 601s - loss: 0.4966 - acc: 0.8516 - val_loss: 0.3916 - val_acc: 0.8809\n",
      "Epoch 5/10\n",
      "134000/134000 [==============================] - 580s - loss: 0.4784 - acc: 0.8564 - val_loss: 0.3798 - val_acc: 0.8826\n",
      "Epoch 6/10\n",
      "134000/134000 [==============================] - 581s - loss: 0.4631 - acc: 0.8600 - val_loss: 0.3706 - val_acc: 0.8865\n",
      "Epoch 7/10\n",
      "134000/134000 [==============================] - 598s - loss: 0.4500 - acc: 0.8642 - val_loss: 0.3693 - val_acc: 0.8867\n",
      "Epoch 8/10\n",
      "134000/134000 [==============================] - 579s - loss: 0.4386 - acc: 0.8674 - val_loss: 0.3598 - val_acc: 0.8888\n",
      "Epoch 9/10\n",
      "134000/134000 [==============================] - 579s - loss: 0.4317 - acc: 0.8700 - val_loss: 0.3539 - val_acc: 0.8919\n",
      "Epoch 10/10\n",
      "134000/134000 [==============================] - 599s - loss: 0.4263 - acc: 0.8712 - val_loss: 0.3459 - val_acc: 0.8928\n"
     ]
    }
   ],
   "source": [
    "history=model.fit(X_train_dataset, Y_train_labels, validation_split=0.33,\n",
    "          batch_size=32, nb_epoch=10, verbose=1)"
   ]
  },
  {
   "cell_type": "code",
   "execution_count": 25,
   "metadata": {
    "collapsed": false
   },
   "outputs": [
    {
     "name": "stdout",
     "output_type": "stream",
     "text": [
      "Train on 134000 samples, validate on 66000 samples\n",
      "Epoch 12/15\n",
      "134000/134000 [==============================] - 580s - loss: 0.4138 - acc: 0.8743 - val_loss: 0.3350 - val_acc: 0.8967\n",
      "Epoch 13/15\n",
      "134000/134000 [==============================] - 579s - loss: 0.4059 - acc: 0.8760 - val_loss: 0.3353 - val_acc: 0.8982\n",
      "Epoch 14/15\n",
      "134000/134000 [==============================] - 592s - loss: 0.4025 - acc: 0.8772 - val_loss: 0.3293 - val_acc: 0.8983\n",
      "Epoch 15/15\n",
      "134000/134000 [==============================] - 590s - loss: 0.3968 - acc: 0.8795 - val_loss: 0.3279 - val_acc: 0.8987\n"
     ]
    }
   ],
   "source": [
    "history=model.fit(X_train_dataset, Y_train_labels, validation_split=0.33, initial_epoch=11, \n",
    "          batch_size=32, nb_epoch=15, verbose=1)"
   ]
  },
  {
   "cell_type": "code",
   "execution_count": 26,
   "metadata": {
    "collapsed": false
   },
   "outputs": [
    {
     "name": "stdout",
     "output_type": "stream",
     "text": [
      " 9984/10000 [============================>.] - ETA: 0s"
     ]
    }
   ],
   "source": [
    "score_test = model.evaluate(X_test_dataset, Y_test_labels, verbose=1)\n"
   ]
  },
  {
   "cell_type": "code",
   "execution_count": 27,
   "metadata": {
    "collapsed": false
   },
   "outputs": [
    {
     "name": "stdout",
     "output_type": "stream",
     "text": [
      "acc: 95.45%\n"
     ]
    }
   ],
   "source": [
    "print(\"%s: %.2f%%\" % (model.metrics_names[1], score_test[1]*100))"
   ]
  },
  {
   "cell_type": "code",
   "execution_count": 28,
   "metadata": {
    "collapsed": false
   },
   "outputs": [
    {
     "name": "stdout",
     "output_type": "stream",
     "text": [
      " 9952/10000 [============================>.] - ETA: 0s"
     ]
    }
   ],
   "source": [
    "score_valid = model.evaluate(X_valid_dataset, Y_valid_labels, verbose=1)\n"
   ]
  },
  {
   "cell_type": "code",
   "execution_count": 29,
   "metadata": {
    "collapsed": false
   },
   "outputs": [
    {
     "name": "stdout",
     "output_type": "stream",
     "text": [
      "acc: 89.89%\n"
     ]
    }
   ],
   "source": [
    "print(\"%s: %.2f%%\" % (model.metrics_names[1], score_valid[1]*100))"
   ]
  },
  {
   "cell_type": "code",
   "execution_count": 30,
   "metadata": {
    "collapsed": false
   },
   "outputs": [
    {
     "name": "stdout",
     "output_type": "stream",
     "text": [
      "['acc', 'loss', 'val_acc', 'val_loss']\n"
     ]
    },
    {
     "data": {
      "image/png": "[encoded data removed]",
      "text/plain": [
       "<matplotlib.figure.Figure at 0x7f8af44f4150>"
      ]
     },
     "metadata": {},
     "output_type": "display_data"
    },
    {
     "data": {
      "image/png": "[encoded data removed]",
      "text/plain": [
       "<matplotlib.figure.Figure at 0x7f8af43c8290>"
      ]
     },
     "metadata": {},
     "output_type": "display_data"
    }
   ],
   "source": [
    "print(history.history.keys())\n",
    "# summarize history for accuracy\n",
    "plt.plot(history.history['acc'])\n",
    "plt.plot(history.history['val_acc'])\n",
    "plt.title('model accuracy')\n",
    "plt.ylabel('accuracy')\n",
    "plt.xlabel('epoch')\n",
    "plt.legend(['train', 'test'], loc='upper left')\n",
    "plt.show()\n",
    "\n",
    "\n",
    "# summarize history for loss\n",
    "plt.plot(history.history['loss'])\n",
    "plt.plot(history.history['val_loss'])\n",
    "plt.title('model loss')\n",
    "plt.ylabel('loss')\n",
    "plt.xlabel('epoch')\n",
    "plt.legend(['train', 'test'], loc='upper left')\n",
    "plt.show()"
   ]
  },
  {
   "cell_type": "code",
   "execution_count": null,
   "metadata": {
    "collapsed": true
   },
   "outputs": [],
   "source": []
  }
 ],
 "metadata": {
  "kernelspec": {
   "display_name": "Python 2",
   "language": "python",
   "name": "python2"
  },
  "language_info": {
   "codemirror_mode": {
    "name": "ipython",
    "version": 2
   },
   "file_extension": ".py",
   "mimetype": "text/x-python",
   "name": "python",
   "nbconvert_exporter": "python",
   "pygments_lexer": "ipython2",
   "version": "2.7.6"
  }
 },
 "nbformat": 4,
 "nbformat_minor": 1
}
