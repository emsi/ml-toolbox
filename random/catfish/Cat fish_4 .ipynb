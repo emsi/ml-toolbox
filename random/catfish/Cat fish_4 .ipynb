{
 "cells": [
  {
   "cell_type": "code",
   "execution_count": 75,
   "metadata": {
    "collapsed": false,
    "deletable": true,
    "editable": true
   },
   "outputs": [],
   "source": [
    "from __future__ import print_function\n",
    "import matplotlib.pyplot as plt\n",
    "import numpy as np\n",
    "import os\n",
    "import sys\n",
    "import zipfile\n",
    "from IPython.display import display, Image\n",
    "from scipy import ndimage\n",
    "from sklearn.linear_model import LogisticRegression\n",
    "from six.moves.urllib.request import urlretrieve\n",
    "from six.moves import cPickle as pickle\n",
    "\n",
    "from skimage import color, io\n",
    "from scipy.misc import imresize\n",
    "\n",
    "from keras.models import Sequential\n",
    "from keras.layers import Dense, Dropout, Activation, Flatten\n",
    "from keras.layers import Convolution2D, MaxPooling2D, Convolution1D, MaxPooling1D\n",
    "from keras.callbacks import EarlyStopping\n",
    "from keras.utils import np_utils\n",
    "\n",
    "\n",
    "np.random.seed(31337)\n",
    "\n",
    "# Config the matplotlib backend as plotting inline in IPython\n",
    "%matplotlib inline"
   ]
  },
  {
   "cell_type": "code",
   "execution_count": 2,
   "metadata": {
    "collapsed": false,
    "deletable": true,
    "editable": true
   },
   "outputs": [],
   "source": [
    "# Read preds \n",
    "from six.moves import cPickle as pickle\n",
    "pickle_file = 'catfish.pickle'\n",
    "\n",
    "def unpickle(pickle_file):\n",
    "    try:\n",
    "        with open(pickle_file) as f:\n",
    "            data=pickle.load(f)\n",
    "    except Exception as e:\n",
    "      print('Unable to load data from', pickle_file, ':', e)\n",
    "      raise\n",
    "    return data\n"
   ]
  },
  {
   "cell_type": "code",
   "execution_count": 3,
   "metadata": {
    "collapsed": true,
    "deletable": true,
    "editable": true
   },
   "outputs": [],
   "source": [
    "# Read labels\n",
    "\n",
    "save=unpickle('catfish.pickle')\n",
    "train_images_sane=save['train_images_sane']\n",
    "train_images=save['train_images']\n",
    "insane_indices=save['insane_indices']\n",
    "test_images=save['test_images']\n"
   ]
  },
  {
   "cell_type": "code",
   "execution_count": 4,
   "metadata": {
    "collapsed": false,
    "deletable": true,
    "editable": true
   },
   "outputs": [],
   "source": [
    "# ResNet50 preds\n",
    "\n",
    "X_train_ResNet50=unpickle('ResNet50_train_preds.pickle')\n",
    "X_verify_ResNet50=unpickle('ResNet50_verify_preds.pickle')\n",
    "#X_test_ResNet50=unpickle('ResNet50_test_preds.pickle')\n",
    "\n",
    "# Squeeznet preds\n",
    "X_train_squeezenet=unpickle('squeezenet_train_preds.pickle')\n",
    "X_verify_squeezenet=unpickle('squeezenet_verify_preds.pickle')\n",
    "#X_test_squeezenet=unpickle('squeezenet_test_preds.pickle')"
   ]
  },
  {
   "cell_type": "code",
   "execution_count": 5,
   "metadata": {
    "collapsed": false,
    "deletable": true,
    "editable": true
   },
   "outputs": [],
   "source": [
    "# Build labels\n",
    "\n",
    "Y_train = np.array([int('dog' in train_images_sane[i]) for i in xrange(len(train_images_sane))])\n",
    "\n",
    "Y_verify = np.array([int('dog' in train_images[i]) for i in insane_indices])\n",
    "\n",
    "\n",
    "Y_train = np_utils.to_categorical(Y_train, 2)\n",
    "Y_verify = np_utils.to_categorical(Y_verify, 2)"
   ]
  },
  {
   "cell_type": "code",
   "execution_count": 65,
   "metadata": {
    "collapsed": false,
    "deletable": true,
    "editable": true
   },
   "outputs": [],
   "source": [
    "# Build model_ResNet50\n",
    "\n",
    "model_ResNet50 = Sequential()\n",
    "model_ResNet50.add(Dense(128, input_dim=1000, init='uniform', activation='relu'))\n",
    "#model_ResNet50.add(Dropout(0.25))\n",
    "model_ResNet50.add(Dense(32, init='uniform', activation='relu'))\n",
    "model_ResNet50.add(Dropout(0.5))\n",
    "model_ResNet50.add(Dense(1, init='uniform', activation='sigmoid'))\n",
    "\n",
    "# Compile model_ResNet50\n",
    "model_ResNet50.compile(loss='binary_crossentropy', optimizer='adam') #, metrics=['accuracy']) # LOSS!!!\n",
    "\n",
    "early_stop = EarlyStopping(monitor='val_loss', patience=5, verbose=1)\n"
   ]
  },
  {
   "cell_type": "code",
   "execution_count": null,
   "metadata": {
    "collapsed": false,
    "deletable": true,
    "editable": true
   },
   "outputs": [],
   "source": [
    "# Fit ResNet50 the model \n",
    "history = model_ResNet50.fit(X_train_ResNet50, Y_train, \n",
    "                             #validation_data=(X_verify_ResNet50, Y_verify),\n",
    "                             validation_split=0.33, \n",
    "                             nb_epoch=150, batch_size=500, \n",
    "                             callbacks=[early_stop],\n",
    "                             verbose=0)\n",
    "# list all data in history\n",
    "print(history.history.keys())"
   ]
  },
  {
   "cell_type": "code",
   "execution_count": 17,
   "metadata": {
    "collapsed": false,
    "deletable": true,
    "editable": true
   },
   "outputs": [
    {
     "name": "stdout",
     "output_type": "stream",
     "text": [
      "0.0658812005903\n",
      "0.326877725585\n"
     ]
    }
   ],
   "source": [
    "score_test = model_ResNet50.evaluate(X_train_ResNet50, Y_train, verbose=0)\n",
    "\n",
    "print (score_test)\n",
    "\n",
    "#print(\"%s: %.2f%%\" % (model_ResNet50.metrics_names[1], score_test[1]*100))\n",
    "\n",
    "score_valid = model_ResNet50.evaluate(X_verify_ResNet50, Y_verify, verbose=0)\n",
    "\n",
    "print (score_valid)\n",
    "\n",
    "#print(\"%s: %.2f%%\" % (model_ResNet50.metrics_names[1], score_valid[1]*100))\n"
   ]
  },
  {
   "cell_type": "code",
   "execution_count": 13,
   "metadata": {
    "collapsed": false,
    "deletable": true,
    "editable": true,
    "scrolled": true
   },
   "outputs": [
    {
     "data": {
      "image/png": "[encoded data removed]",
      "text/plain": [
       "<matplotlib.figure.Figure at 0x7f0e5e000990>"
      ]
     },
     "metadata": {},
     "output_type": "display_data"
    }
   ],
   "source": [
    "# # summarize history for accuracy\n",
    "# plt.plot(history.history['acc'])\n",
    "# plt.plot(history.history['val_acc'])\n",
    "# plt.title('model accuracy')\n",
    "# plt.ylabel('accuracy')\n",
    "# plt.xlabel('epoch')\n",
    "# plt.legend(['train', 'test'], loc='upper left')\n",
    "# plt.show()\n",
    "\n",
    "\n",
    "# summarize history for loss\n",
    "plt.plot(history.history['loss'])\n",
    "plt.plot(history.history['val_loss'])\n",
    "plt.title('model loss')\n",
    "plt.ylabel('loss')\n",
    "plt.xlabel('epoch')\n",
    "plt.legend(['train', 'test'], loc='upper left')\n",
    "plt.show()"
   ]
  },
  {
   "cell_type": "code",
   "execution_count": 123,
   "metadata": {
    "collapsed": false,
    "deletable": true,
    "editable": true
   },
   "outputs": [
    {
     "name": "stdout",
     "output_type": "stream",
     "text": [
      "____________________________________________________________________________________________________\n",
      "Layer (type)                     Output Shape          Param #     Connected to                     \n",
      "====================================================================================================\n",
      "dense_128 (Dense)                (None, 50)            50050       dense_input_33[0][0]             \n",
      "____________________________________________________________________________________________________\n",
      "dropout_81 (Dropout)             (None, 50)            0           dense_128[0][0]                  \n",
      "____________________________________________________________________________________________________\n",
      "dense_129 (Dense)                (None, 10)            510         dropout_81[0][0]                 \n",
      "____________________________________________________________________________________________________\n",
      "dropout_82 (Dropout)             (None, 10)            0           dense_129[0][0]                  \n",
      "____________________________________________________________________________________________________\n",
      "dense_130 (Dense)                (None, 10)            110         dropout_82[0][0]                 \n",
      "____________________________________________________________________________________________________\n",
      "dense_131 (Dense)                (None, 2)             22          dense_130[0][0]                  \n",
      "====================================================================================================\n",
      "Total params: 50,692\n",
      "Trainable params: 50,692\n",
      "Non-trainable params: 0\n",
      "____________________________________________________________________________________________________\n"
     ]
    }
   ],
   "source": [
    "# Build model_squeezenet\n",
    "\n",
    "model_squeezenet = Sequential()\n",
    "model_squeezenet.add(Dense(50, input_dim=1000, activation='relu',init='uniform'))\n",
    "model_squeezenet.add(Dropout(0.1))\n",
    "model_squeezenet.add(Dense(10, activation='relu',init='uniform'))\n",
    "model_squeezenet.add(Dropout(0.1))\n",
    "model_squeezenet.add(Dense(10, activation='tanh',init='uniform'))\n",
    "model_squeezenet.add(Dense(2, activation='softmax',init='uniform'))\n",
    "\n",
    "# model_squeezenet = Sequential()\n",
    "# model_squeezenet.add(Dense(12000, input_dim=1000, init='uniform', activation='relu'))\n",
    "# model_squeezenet.add(Dropout(0.9))\n",
    "# model_squeezenet.add(Dense(10000, init='uniform', activation='relu'))\n",
    "# model_squeezenet.add(Dropout(0.9))\n",
    "# model_squeezenet.add(Dense(1000, init='uniform', activation='relu'))\n",
    "# model_squeezenet.add(Dropout(0.8))\n",
    "# model_squeezenet.add(Dense(1, init='uniform', activation='sigmoid'))\n",
    "\n",
    "# Compile model_squeezenet\n",
    "model_squeezenet.compile(loss='categorical_crossentropy', optimizer='adam', metrics=['accuracy'])\n",
    "\n",
    "early_stop = EarlyStopping(monitor='val_loss', patience=15, verbose=1)\n",
    "\n",
    "model_squeezenet.summary()\n"
   ]
  },
  {
   "cell_type": "code",
   "execution_count": 124,
   "metadata": {
    "collapsed": false,
    "deletable": true,
    "editable": true
   },
   "outputs": [
    {
     "name": "stdout",
     "output_type": "stream",
     "text": [
      "Epoch 00031: early stopping\n",
      "['acc', 'loss', 'val_acc', 'val_loss']\n"
     ]
    }
   ],
   "source": [
    "# Fit squeezenet the model \n",
    "history = model_squeezenet.fit(X_train_squeezenet, Y_train, \n",
    "                             #validation_data=(X_verify_squeezenet, Y_verify),\n",
    "                             validation_split=0.33, \n",
    "                             nb_epoch=200, batch_size=500, \n",
    "                             callbacks=[early_stop],\n",
    "                             verbose=0)\n",
    "# list all data in history\n",
    "print(history.history.keys())"
   ]
  },
  {
   "cell_type": "code",
   "execution_count": 125,
   "metadata": {
    "collapsed": false,
    "deletable": true,
    "editable": true
   },
   "outputs": [
    {
     "name": "stdout",
     "output_type": "stream",
     "text": [
      "acc: 96.21%\n",
      "acc: 89.29%\n"
     ]
    }
   ],
   "source": [
    "score_test = model_squeezenet.evaluate(X_train_squeezenet, Y_train, verbose=0)\n",
    "\n",
    "print(\"%s: %.2f%%\" % (model_squeezenet.metrics_names[1], score_test[1]*100))\n",
    "\n",
    "score_valid = model_squeezenet.evaluate(X_verify_squeezenet, Y_verify, verbose=0)\n",
    "\n",
    "print(\"%s: %.2f%%\" % (model_squeezenet.metrics_names[1], score_valid[1]*100))\n"
   ]
  },
  {
   "cell_type": "code",
   "execution_count": 126,
   "metadata": {
    "collapsed": false,
    "deletable": true,
    "editable": true
   },
   "outputs": [
    {
     "data": {
      "image/png": "[encoded data removed]",
      "text/plain": [
       "<matplotlib.figure.Figure at 0x7f4f3866c950>"
      ]
     },
     "metadata": {},
     "output_type": "display_data"
    },
    {
     "data": {
      "image/png": "[encoded data removed]",
      "text/plain": [
       "<matplotlib.figure.Figure at 0x7f4f38c53690>"
      ]
     },
     "metadata": {},
     "output_type": "display_data"
    }
   ],
   "source": [
    "# summarize history for accuracy\n",
    "plt.plot(history.history['acc'])\n",
    "plt.plot(history.history['val_acc'])\n",
    "plt.title('model accuracy')\n",
    "plt.ylabel('accuracy')\n",
    "plt.xlabel('epoch')\n",
    "plt.legend(['train', 'val'], loc='upper left')\n",
    "plt.show()\n",
    "\n",
    "\n",
    "# summarize history for loss\n",
    "plt.plot(history.history['loss'])\n",
    "plt.plot(history.history['val_loss'])\n",
    "plt.title('model loss')\n",
    "plt.ylabel('loss')\n",
    "plt.xlabel('epoch')\n",
    "plt.legend(['train', 'val'], loc='upper left')\n",
    "plt.show()"
   ]
  },
  {
   "cell_type": "code",
   "execution_count": 44,
   "metadata": {
    "collapsed": false,
    "deletable": true,
    "editable": true
   },
   "outputs": [
    {
     "ename": "NameError",
     "evalue": "name 'model_ResNet50' is not defined",
     "output_type": "error",
     "traceback": [
      "\u001b[0;31m\u001b[0m",
      "\u001b[0;31mNameError\u001b[0mTraceback (most recent call last)",
      "\u001b[0;32m<ipython-input-44-34bf666526a9>\u001b[0m in \u001b[0;36m<module>\u001b[0;34m()\u001b[0m\n\u001b[1;32m      3\u001b[0m \u001b[0;34m\u001b[0m\u001b[0m\n\u001b[1;32m      4\u001b[0m \u001b[0mY_test_squeezenet\u001b[0m\u001b[0;34m=\u001b[0m\u001b[0mmodel_squeezenet\u001b[0m\u001b[0;34m.\u001b[0m\u001b[0mpredict\u001b[0m\u001b[0;34m(\u001b[0m\u001b[0mX_test_squeezenet\u001b[0m\u001b[0;34m)\u001b[0m\u001b[0;34m\u001b[0m\u001b[0m\n\u001b[0;32m----> 5\u001b[0;31m \u001b[0mY_test_ResNet50\u001b[0m\u001b[0;34m=\u001b[0m\u001b[0mmodel_ResNet50\u001b[0m\u001b[0;34m.\u001b[0m\u001b[0mpredict\u001b[0m\u001b[0;34m(\u001b[0m\u001b[0mX_test_squeezenet\u001b[0m\u001b[0;34m)\u001b[0m\u001b[0;34m\u001b[0m\u001b[0m\n\u001b[0m",
      "\u001b[0;31mNameError\u001b[0m: name 'model_ResNet50' is not defined"
     ]
    }
   ],
   "source": [
    "X_test_ResNet50=unpickle('ResNet50_test_preds.pickle')\n",
    "X_test_squeezenet=unpickle('squeezenet_test_preds.pickle')\n",
    "\n",
    "Y_test_squeezenet=model_squeezenet.predict(X_test_squeezenet)\n",
    "Y_test_ResNet50=model_ResNet50.predict(X_test_squeezenet)"
   ]
  },
  {
   "cell_type": "code",
   "execution_count": 45,
   "metadata": {
    "collapsed": false,
    "deletable": true,
    "editable": true
   },
   "outputs": [
    {
     "ename": "NameError",
     "evalue": "name 'Y_test_ResNet50' is not defined",
     "output_type": "error",
     "traceback": [
      "\u001b[0;31m\u001b[0m",
      "\u001b[0;31mNameError\u001b[0mTraceback (most recent call last)",
      "\u001b[0;32m<ipython-input-45-818c22118261>\u001b[0m in \u001b[0;36m<module>\u001b[0;34m()\u001b[0m\n\u001b[0;32m----> 1\u001b[0;31m \u001b[0mplt\u001b[0m\u001b[0;34m.\u001b[0m\u001b[0mhist\u001b[0m\u001b[0;34m(\u001b[0m\u001b[0mY_test_ResNet50\u001b[0m\u001b[0;34m,\u001b[0m \u001b[0mbins\u001b[0m\u001b[0;34m=\u001b[0m\u001b[0;34m'auto'\u001b[0m\u001b[0;34m,\u001b[0m \u001b[0mlog\u001b[0m\u001b[0;34m=\u001b[0m\u001b[0mTrue\u001b[0m\u001b[0;34m)\u001b[0m\u001b[0;34m\u001b[0m\u001b[0m\n\u001b[0m\u001b[1;32m      2\u001b[0m \u001b[0mplt\u001b[0m\u001b[0;34m.\u001b[0m\u001b[0mtitle\u001b[0m\u001b[0;34m(\u001b[0m\u001b[0;34m\"Aspect ratio Histogram (log scale)\"\u001b[0m\u001b[0;34m)\u001b[0m\u001b[0;34m\u001b[0m\u001b[0m\n\u001b[1;32m      3\u001b[0m \u001b[0mplt\u001b[0m\u001b[0;34m.\u001b[0m\u001b[0mshow\u001b[0m\u001b[0;34m(\u001b[0m\u001b[0;34m)\u001b[0m\u001b[0;34m\u001b[0m\u001b[0m\n\u001b[1;32m      4\u001b[0m \u001b[0;34m\u001b[0m\u001b[0m\n\u001b[1;32m      5\u001b[0m \u001b[0mplt\u001b[0m\u001b[0;34m.\u001b[0m\u001b[0mhist\u001b[0m\u001b[0;34m(\u001b[0m\u001b[0mY_test_squeezenet\u001b[0m\u001b[0;34m,\u001b[0m \u001b[0mbins\u001b[0m\u001b[0;34m=\u001b[0m\u001b[0;34m'auto'\u001b[0m\u001b[0;34m,\u001b[0m \u001b[0mlog\u001b[0m\u001b[0;34m=\u001b[0m\u001b[0mTrue\u001b[0m\u001b[0;34m)\u001b[0m\u001b[0;34m\u001b[0m\u001b[0m\n",
      "\u001b[0;31mNameError\u001b[0m: name 'Y_test_ResNet50' is not defined"
     ]
    }
   ],
   "source": [
    "plt.hist(Y_test_ResNet50, bins='auto', log=True) \n",
    "plt.title(\"Aspect ratio Histogram (log scale)\")\n",
    "plt.show()\n",
    "\n",
    "plt.hist(Y_test_squeezenet, bins='auto', log=True) \n",
    "plt.title(\"Aspect ratio Histogram (log scale)\")\n",
    "plt.show()"
   ]
  },
  {
   "cell_type": "code",
   "execution_count": 59,
   "metadata": {
    "collapsed": false,
    "deletable": true,
    "editable": true
   },
   "outputs": [],
   "source": [
    "import re\n",
    "test_ids=[re.split('/|\\.',i)[1] for i in test_images]"
   ]
  },
  {
   "cell_type": "code",
   "execution_count": 60,
   "metadata": {
    "collapsed": false,
    "deletable": true,
    "editable": true
   },
   "outputs": [],
   "source": [
    "Y_test_ResNet50_csv=np.column_stack((test_ids,Y_test_ResNet50))\n",
    "Y_test_squeezenet_csv=np.column_stack((test_ids,Y_test_squeezenet))\n"
   ]
  },
  {
   "cell_type": "code",
   "execution_count": 61,
   "metadata": {
    "collapsed": false,
    "deletable": true,
    "editable": true
   },
   "outputs": [],
   "source": [
    "np.savetxt('Y_test_ResNet50.csv',Y_test_ResNet50_csv, fmt=\"%s,%s\", header=(\"id,label\"),comments='')\n",
    "np.savetxt('Y_test_squeezene.csv',Y_test_squeezenet_csv, fmt=\"%s,%s\", header=(\"id,label\"),comments='')"
   ]
  },
  {
   "cell_type": "code",
   "execution_count": null,
   "metadata": {
    "collapsed": true,
    "deletable": true,
    "editable": true
   },
   "outputs": [],
   "source": []
  }
 ],
 "metadata": {
  "kernelspec": {
   "display_name": "Python 2",
   "language": "python",
   "name": "python2"
  },
  "language_info": {
   "codemirror_mode": {
    "name": "ipython",
    "version": 2
   },
   "file_extension": ".py",
   "mimetype": "text/x-python",
   "name": "python",
   "nbconvert_exporter": "python",
   "pygments_lexer": "ipython2",
   "version": "2.7.12"
  }
 },
 "nbformat": 4,
 "nbformat_minor": 2
}
