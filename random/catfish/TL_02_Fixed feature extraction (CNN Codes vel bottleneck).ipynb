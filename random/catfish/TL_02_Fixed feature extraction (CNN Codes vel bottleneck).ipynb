{
 "cells": [
  {
   "cell_type": "markdown",
   "metadata": {},
   "source": [
    "The purpose of this notebook it to provide scientific proof that cats are stranger than dogs (possibly of alien origin). Cats' features are of enormous variety compared to dogs and simply annoying to our brains. \n",
    "\n",
    "Let's start by following the procedure to rearrange folders:\n",
    "https://github.com/daavoo/kaggle_solutions/blob/master/dogs_vs_cats/01_rearrange_folders.ipynb"
   ]
  },
  {
   "cell_type": "code",
   "execution_count": 301,
   "metadata": {
    "collapsed": false,
    "deletable": true,
    "editable": true
   },
   "outputs": [],
   "source": [
    "from __future__ import print_function\n",
    "import matplotlib.pyplot as plt\n",
    "import numpy as np\n",
    "import os\n",
    "import sys\n",
    "import zipfile\n",
    "from IPython.display import display, Image\n",
    "from scipy import ndimage\n",
    "from sklearn.linear_model import LogisticRegression\n",
    "from six.moves.urllib.request import urlretrieve\n",
    "from six.moves import cPickle as pickle\n",
    "\n",
    "from skimage import color, io\n",
    "from scipy.misc import imresize\n",
    "\n",
    "from keras.models import Sequential\n",
    "from keras.layers import Dense, Dropout, Activation, Flatten\n",
    "from keras.layers import Convolution2D, MaxPooling2D, Activation, GlobalAveragePooling2D\n",
    "from keras.layers import merge, Input, Lambda\n",
    "from keras.callbacks import EarlyStopping\n",
    "from keras.models import Model\n",
    "\n",
    "np.random.seed(31337)\n",
    "\n",
    "# Config the matplotlib backend as plotting inline in IPython\n",
    "%matplotlib inline"
   ]
  },
  {
   "cell_type": "markdown",
   "metadata": {},
   "source": [
    "Load original Keras ResNet50 model without the top layer."
   ]
  },
  {
   "cell_type": "code",
   "execution_count": 188,
   "metadata": {
    "collapsed": false,
    "deletable": true,
    "editable": true
   },
   "outputs": [],
   "source": [
    "\n",
    "from keras.applications.resnet50 import ResNet50\n",
    "from keras.preprocessing import image\n",
    "from keras.applications.resnet50 import preprocess_input, decode_predictions\n",
    "import numpy as np\n",
    "\n",
    "resnet_codes_model = ResNet50(input_shape=(300,300,3), include_top=False, weights='imagenet')    \n",
    "#resnet_codes_model.summary()"
   ]
  },
  {
   "cell_type": "markdown",
   "metadata": {},
   "source": [
    "Add a Pooling layer at the top to extract the CNN coded (aka bottleneck)"
   ]
  },
  {
   "cell_type": "code",
   "execution_count": 4,
   "metadata": {
    "collapsed": false,
    "deletable": true,
    "editable": true
   },
   "outputs": [],
   "source": [
    "# Final model\n",
    "model=Model(input=resnet_codes_model.input, output=GlobalAveragePooling2D()(resnet_codes_model.output))"
   ]
  },
  {
   "cell_type": "code",
   "execution_count": null,
   "metadata": {
    "collapsed": false
   },
   "outputs": [],
   "source": [
    "model.summary()"
   ]
  },
  {
   "cell_type": "markdown",
   "metadata": {},
   "source": [
    "The following preprocessing is not proper for the ResNet as it uses mean image rather than mean pixel (I chose VGG paper values) yet it yields little numerical differencies hence works properly and is more than enough for this experiment.\n",
    "\n",
    "Note that it's required to install github version of keras for preprocessing_function to work with: \n",
    "```\n",
    "pip install git+https://github.com/fchollet/keras.git --upgrade\n",
    "```\n"
   ]
  },
  {
   "cell_type": "code",
   "execution_count": 6,
   "metadata": {
    "collapsed": false
   },
   "outputs": [],
   "source": [
    "from keras.preprocessing.image import ImageDataGenerator\n",
    "def img_to_bgr(im):\n",
    "    # the following BGR values should be subtracted: [103.939, 116.779, 123.68]. (VGG)\n",
    "    return (im[:,:,::-1] - np.array([103.939, 116.779, 123.68]))\n",
    "\n",
    "datagen = ImageDataGenerator(rescale=1., preprocessing_function=img_to_bgr) #(rescale=1./255)"
   ]
  },
  {
   "cell_type": "markdown",
   "metadata": {},
   "source": [
    "Get the trainign and validation DirectoryIterators"
   ]
  },
  {
   "cell_type": "code",
   "execution_count": 233,
   "metadata": {
    "collapsed": false
   },
   "outputs": [
    {
     "name": "stdout",
     "output_type": "stream",
     "text": [
      "Found 22949 images belonging to 2 classes.\n",
      "Found 2000 images belonging to 2 classes.\n"
     ]
    }
   ],
   "source": [
    "train_batches = datagen.flow_from_directory(\"train\", model.input_shape[1:3], shuffle=False, batch_size=32)\n",
    "valid_batches = datagen.flow_from_directory(\"valid\", model.input_shape[1:3], shuffle=False, batch_size=32)\n",
    "#test_batches = datagen.flow_from_directory(\"test\", model.input_shape[1:3], shuffle=False, batch_size=32, class_mode=None)\n"
   ]
  },
  {
   "cell_type": "markdown",
   "metadata": {},
   "source": [
    "Obtain the CNN codes for all images (it takes ~10 minutes on GTX 1080 GPU)"
   ]
  },
  {
   "cell_type": "code",
   "execution_count": 8,
   "metadata": {
    "collapsed": false
   },
   "outputs": [],
   "source": [
    "train_codes = model.predict_generator(train_batches, train_batches.nb_sample)"
   ]
  },
  {
   "cell_type": "code",
   "execution_count": 9,
   "metadata": {
    "collapsed": false
   },
   "outputs": [],
   "source": [
    "valid_codes = model.predict_generator(valid_batches, valid_batches.nb_sample)"
   ]
  },
  {
   "cell_type": "code",
   "execution_count": 10,
   "metadata": {
    "collapsed": false
   },
   "outputs": [],
   "source": [
    "#test_codes = model.predict_generator(test_batches, test_batches.nb_sample)"
   ]
  },
  {
   "cell_type": "markdown",
   "metadata": {},
   "source": [
    "Save the CNN codes for futher analysys"
   ]
  },
  {
   "cell_type": "code",
   "execution_count": 11,
   "metadata": {
    "collapsed": false
   },
   "outputs": [],
   "source": [
    "import h5py\n",
    "\n",
    "from keras.utils.np_utils import to_categorical\n",
    "\n",
    "with h5py.File(\"ResNet50-300x300_codes-train.h5\") as hf:\n",
    "    hf.create_dataset(\"X_train\", data=train_codes)\n",
    "    hf.create_dataset(\"X_valid\", data=valid_codes)\n",
    "    hf.create_dataset(\"Y_train\", data=to_categorical(train_batches.classes))\n",
    "    hf.create_dataset(\"Y_valid\", data=to_categorical(valid_batches.classes))\n",
    "\n",
    "with h5py.File(\"ResNet50-300x300_codes-test.h5\") as hf:\n",
    "    hf.create_dataset(\"X_test\", data=test_codes)\n"
   ]
  },
  {
   "cell_type": "markdown",
   "metadata": {},
   "source": [
    "Compute mean values of codes across all training codes"
   ]
  },
  {
   "cell_type": "code",
   "execution_count": 264,
   "metadata": {
    "collapsed": false
   },
   "outputs": [],
   "source": [
    "def get_codes_by_class(X,Y):\n",
    "    l=len(Y)\n",
    "    if (len(X)!=l):\n",
    "        raise Exception(\"X and Y are of different lengths\")\n",
    "    classes=set(Y)\n",
    "    \n",
    "    return [[X[i] for i in xrange(l) if Y[i]==c] for c in classes], classes\n",
    "    \n",
    "class_codes, classes=get_codes_by_class(train_codes, train_batches.classes)\n",
    "\n",
    "cats=np.mean(class_codes[0],0)\n",
    "dogs=np.mean(class_codes[1],0)\n",
    "cats=cats/cats.max()\n",
    "dogs=dogs/dogs.max()"
   ]
  },
  {
   "cell_type": "markdown",
   "metadata": {},
   "source": [
    "Visualize codes as images. As it can be clearly seen, Cats have many different features (plenty of high value - dark spots) while dogs highly activate only two neurons (two distinct dark spots). \n",
    "\n",
    "It can be concluded that cats activate more brain regions or are more annoying than dogs.\n",
    "\n",
    "It's even more apparent when looking at the histograms of frequency domain."
   ]
  },
  {
   "cell_type": "code",
   "execution_count": 324,
   "metadata": {
    "collapsed": false,
    "deletable": true,
    "editable": true,
    "scrolled": false
   },
   "outputs": [
    {
     "data": {
      "image/png": "[encoded data removed]",
      "text/plain": [
       "<matplotlib.figure.Figure at 0x7f7bc0641b50>"
      ]
     },
     "metadata": {},
     "output_type": "display_data"
    }
   ],
   "source": [
    "fig, ax = plt.subplots(nrows=2, ncols=2, figsize=(12, 6))\n",
    "ax[0,0].imshow(cats.reshape(32,64),cmap=\"Greys\")\n",
    "ax[0,0].set_title('Cats')\n",
    "\n",
    "ax[0,1].imshow(dogs.reshape(32,64),cmap=\"Greys\")\n",
    "ax[0,1].set_title('Dogs')\n",
    "\n",
    "freq = np.fft.fft2(cats.reshape(32,64))\n",
    "freq = np.abs(freq)\n",
    "ax[1,0].hist(np.log(freq).ravel(), bins=100)\n",
    "ax[1,0].set_title('hist(log(freq))')\n",
    "\n",
    "freq = np.fft.fft2(dogs.reshape(32,64))\n",
    "freq = np.abs(freq)\n",
    "ax[1,1].hist(np.log(freq).ravel(), bins=100)\n",
    "ax[1,1].set_title('hist(log(freq))')\n",
    "\n",
    "plt.show()"
   ]
  },
  {
   "cell_type": "code",
   "execution_count": null,
   "metadata": {
    "collapsed": true
   },
   "outputs": [],
   "source": []
  }
 ],
 "metadata": {
  "kernelspec": {
   "display_name": "Python 2",
   "language": "python",
   "name": "python2"
  },
  "language_info": {
   "codemirror_mode": {
    "name": "ipython",
    "version": 2
   },
   "file_extension": ".py",
   "mimetype": "text/x-python",
   "name": "python",
   "nbconvert_exporter": "python",
   "pygments_lexer": "ipython2",
   "version": "2.7.12"
  }
 },
 "nbformat": 4,
 "nbformat_minor": 2
}
