{
 "cells": [
  {
   "cell_type": "code",
   "execution_count": 1,
   "metadata": {
    "collapsed": false,
    "deletable": true,
    "editable": true
   },
   "outputs": [
    {
     "name": "stderr",
     "output_type": "stream",
     "text": [
      "Using TensorFlow backend.\n"
     ]
    }
   ],
   "source": [
    "from __future__ import print_function\n",
    "from keras.preprocessing.image import ImageDataGenerator\n",
    "from keras.models import Sequential\n",
    "from keras.layers import Convolution2D, MaxPooling2D\n",
    "from keras.layers import Activation, Dropout, Flatten, Dense\n",
    "from keras.callbacks import ModelCheckpoint, EarlyStopping, LambdaCallback\n",
    "from keras.optimizers import Adam\n",
    "\n",
    "import numpy as np\n",
    "import matplotlib.pyplot as plt\n",
    "\n",
    "# reproducibility\n",
    "np.random.seed(31337)"
   ]
  },
  {
   "cell_type": "code",
   "execution_count": 2,
   "metadata": {
    "collapsed": false,
    "deletable": true,
    "editable": true
   },
   "outputs": [],
   "source": [
    "import h5py\n",
    "import numpy as np\n",
    "with h5py.File(\"ResNet50-300x300_codes-train.h5\") as hf:\n",
    "    X_train = hf[\"X_train\"][:]\n",
    "    Y_train = hf[\"Y_train\"][:]\n",
    "    X_valid = hf[\"X_valid\"][:]\n",
    "    Y_valid = hf[\"Y_valid\"][:]\n",
    "    \n",
    "\n",
    "# with h5py.File(\"ResNet50-300x300_codes-test.h5\") as hf:\n",
    "#      X_test = hf[\"X_test\"][:]\n"
   ]
  },
  {
   "cell_type": "code",
   "execution_count": 3,
   "metadata": {
    "collapsed": false,
    "deletable": true,
    "editable": true
   },
   "outputs": [
    {
     "name": "stdout",
     "output_type": "stream",
     "text": [
      "____________________________________________________________________________________________________\n",
      "Layer (type)                     Output Shape          Param #     Connected to                     \n",
      "====================================================================================================\n",
      "dropout_1 (Dropout)              (None, 2048)          0           dropout_input_1[0][0]            \n",
      "____________________________________________________________________________________________________\n",
      "dense_1 (Dense)                  (None, 2)             4098        dropout_1[0][0]                  \n",
      "====================================================================================================\n",
      "Total params: 4,098\n",
      "Trainable params: 4,098\n",
      "Non-trainable params: 0\n",
      "____________________________________________________________________________________________________\n"
     ]
    },
    {
     "data": {
      "text/plain": [
       "(2048,)"
      ]
     },
     "execution_count": 3,
     "metadata": {},
     "output_type": "execute_result"
    }
   ],
   "source": [
    "model = Sequential()\n",
    "model.add(Dropout(0.1, input_shape=(2048,)))\n",
    "# model.add(Dense(256, activation='relu', input_dim=2048))\n",
    "# model.add(Dropout(0.5))\n",
    "model.add(Dense(2, input_dim=2048, activation=\"softmax\"))\n",
    "\n",
    "# Callbacks\n",
    "early_stop_cb = EarlyStopping(monitor='val_loss', patience=20, verbose=1)\n",
    "\n",
    "checkpoit_cb = ModelCheckpoint(\"ResNet-head-Dense2.h5\")#, save_best_only=True)\n",
    "\n",
    "# Print the batch number at the beginning of every batch.\n",
    "batch_print_cb = LambdaCallback(on_batch_begin=lambda batch, logs: print(\".\",end=''), \n",
    "                                on_epoch_end=lambda batch, logs: print(batch))\n",
    "\n",
    "# Plot the loss after every epoch.\n",
    "plot_loss_cb = LambdaCallback(on_epoch_end=lambda epoch, logs: \n",
    "                              print (epoch, logs))\n",
    "                              #plt.plot(np.arange(epoch), logs['loss']))\n",
    "\n",
    "\n",
    "model.compile(loss='categorical_crossentropy',\n",
    "              optimizer=Adam(lr=0.0001),\n",
    "              metrics=['accuracy'],\n",
    "             )\n",
    "\n",
    "model.summary()\n",
    "X_train.shape[1:]"
   ]
  },
  {
   "cell_type": "code",
   "execution_count": 4,
   "metadata": {
    "collapsed": false,
    "deletable": true,
    "editable": true
   },
   "outputs": [
    {
     "name": "stdout",
     "output_type": "stream",
     "text": [
      ".......................0\n",
      "0 {'acc': 0.67828663703512115, 'loss': 0.6524449532040012, 'val_acc': 0.77799999189376834, 'val_loss': 0.48448808670043947}\n",
      ".......................1\n",
      "1 {'acc': 0.82164800212535882, 'loss': 0.41697638395139192, 'val_acc': 0.86949996328353885, 'val_loss': 0.3291307079792023}\n",
      ".......................2\n",
      "2 {'acc': 0.88857902337577155, 'loss': 0.29710427707545645, 'val_acc': 0.91549999666213988, 'val_loss': 0.24563757300376893}\n",
      ".......................3\n",
      "3 {'acc': 0.92187023437113025, 'loss': 0.2307246185505103, 'val_acc': 0.94049997758865356, 'val_loss': 0.19590697884559632}\n",
      ".......................4\n",
      "4 {'acc': 0.93960521202876135, 'loss': 0.18851140675419967, 'val_acc': 0.94749997949600218, 'val_loss': 0.16322273445129395}\n",
      ".......................5\n",
      "5 {'acc': 0.95032463249721177, 'loss': 0.16005434775693758, 'val_acc': 0.95850001716613764, 'val_loss': 0.14023673367500306}\n",
      ".......................6\n",
      "6 {'acc': 0.95742733887667397, 'loss': 0.13929198374856899, 'val_acc': 0.96449995422363277, 'val_loss': 0.12328691911697388}\n",
      ".......................7\n",
      "7 {'acc': 0.96208985188234974, 'loss': 0.12513971204521132, 'val_acc': 0.96699996757507323, 'val_loss': 0.11006981927156448}\n",
      ".......................8\n",
      "8 {'acc': 0.96814676077362027, 'loss': 0.11152978085477844, 'val_acc': 0.97249999427795408, 'val_loss': 0.099753102064132695}\n",
      ".......................9\n",
      "9 {'acc': 0.96980260582218303, 'loss': 0.10269421942931717, 'val_acc': 0.97449994945526119, 'val_loss': 0.091400661170482636}\n",
      ".......................10\n",
      "10 {'acc': 0.97137130271937056, 'loss': 0.094577119803357479, 'val_acc': 0.97699999856948849, 'val_loss': 0.084542219996452325}\n",
      ".......................11\n",
      "11 {'acc': 0.97463941888365802, 'loss': 0.087833244637771035, 'val_acc': 0.97849996948242191, 'val_loss': 0.078738009691238398}\n",
      ".......................12\n",
      "12 {'acc': 0.97581594102216118, 'loss': 0.082014931312360151, 'val_acc': 0.98000000524520869, 'val_loss': 0.073929134845733643}\n",
      ".......................13\n",
      "13 {'acc': 0.97747178587852634, 'loss': 0.078274745162488946, 'val_acc': 0.98199999618530276, 'val_loss': 0.069629832744598386}\n",
      ".......................14\n",
      "14 {'acc': 0.97829970937808086, 'loss': 0.074902044946752372, 'val_acc': 0.9824999961853027, 'val_loss': 0.065989071011543277}\n",
      ".......................15\n",
      "15 {'acc': 0.97930193084003858, 'loss': 0.071220830641954766, 'val_acc': 0.98299999618530276, 'val_loss': 0.062722637772560125}\n",
      ".......................16\n",
      "16 {'acc': 0.98030415401619142, 'loss': 0.067865267428439027, 'val_acc': 0.98300001192092901, 'val_loss': 0.059930273771286013}\n",
      ".......................17\n",
      "17 {'acc': 0.98095777831184994, 'loss': 0.064322588553062027, 'val_acc': 0.98349998950958251, 'val_loss': 0.05737438416481018}\n",
      ".......................18\n",
      "18 {'acc': 0.9816985497147831, 'loss': 0.062612051796399407, 'val_acc': 0.98399998950958256, 'val_loss': 0.055211385339498521}\n",
      ".......................19\n",
      "19 {'acc': 0.9820907243799657, 'loss': 0.061019046881014838, 'val_acc': 0.98499999618530276, 'val_loss': 0.053271702200174333}\n",
      ".......................20\n",
      "20 {'acc': 0.98261362240981354, 'loss': 0.05792730666956427, 'val_acc': 0.98549997377395626, 'val_loss': 0.051444223254919055}\n",
      ".......................21\n",
      "21 {'acc': 0.98313652072536062, 'loss': 0.057004074988487141, 'val_acc': 0.98549997377395626, 'val_loss': 0.049784721016883852}\n",
      ".......................22\n",
      "22 {'acc': 0.98396444408206551, 'loss': 0.054401335760134853, 'val_acc': 0.98649998044967646, 'val_loss': 0.048399445503950117}\n",
      ".......................23\n",
      "23 {'acc': 0.98540241566404152, 'loss': 0.053098639630372452, 'val_acc': 0.98649998044967646, 'val_loss': 0.046983997732400896}\n",
      ".......................24\n",
      "24 {'acc': 0.98466164155216063, 'loss': 0.051853838853826655, 'val_acc': 0.98649998044967646, 'val_loss': 0.045814882934093477}\n",
      ".......................25\n",
      "25 {'acc': 0.98426946840897545, 'loss': 0.050852827163538727, 'val_acc': 0.98649998044967646, 'val_loss': 0.044556121826171878}\n",
      ".......................26\n",
      "26 {'acc': 0.98509739119428197, 'loss': 0.049831712387394735, 'val_acc': 0.98649998044967646, 'val_loss': 0.043545466631650924}\n",
      ".......................27\n",
      "27 {'acc': 0.98605603820135135, 'loss': 0.048396747223287788, 'val_acc': 0.98749998712539677, 'val_loss': 0.042506916105747222}\n",
      ".......................28\n",
      "28 {'acc': 0.98483594203650848, 'loss': 0.048179039491455855, 'val_acc': 0.98799998712539672, 'val_loss': 0.04159580996632576}\n",
      ".......................29\n",
      "29 {'acc': 0.98609961322763817, 'loss': 0.046734332448426161, 'val_acc': 0.98699998044967652, 'val_loss': 0.040861701130867005}\n",
      ".......................30\n",
      "30 {'acc': 0.98557671424719118, 'loss': 0.046244105663011105, 'val_acc': 0.98900000047683712, 'val_loss': 0.039895619511604308}\n",
      ".......................31\n",
      "31 {'acc': 0.98557671505494071, 'loss': 0.04532049612867229, 'val_acc': 0.98849996471405033, 'val_loss': 0.039195444285869602}\n",
      ".......................32\n",
      "32 {'acc': 0.98649178774997115, 'loss': 0.043597961564484318, 'val_acc': 0.98849996471405033, 'val_loss': 0.038509669065475462}\n",
      ".......................33\n",
      "33 {'acc': 0.9867532366220455, 'loss': 0.043158040091845352, 'val_acc': 0.98849996471405033, 'val_loss': 0.037918511897325514}\n",
      ".......................34\n",
      "34 {'acc': 0.98670966216715716, 'loss': 0.042943072247476101, 'val_acc': 0.98900000047683712, 'val_loss': 0.037176053196191786}\n",
      ".......................35\n",
      "35 {'acc': 0.98614318882532326, 'loss': 0.042933536950988893, 'val_acc': 0.98899997138977047, 'val_loss': 0.036552507996559146}\n",
      ".......................36\n",
      "36 {'acc': 0.98710183540384377, 'loss': 0.041699095833243882, 'val_acc': 0.98899997138977047, 'val_loss': 0.03599860060214996}\n",
      ".......................37\n",
      "37 {'acc': 0.98762473471933809, 'loss': 0.041062135545464555, 'val_acc': 0.98899997138977047, 'val_loss': 0.035504768341779708}\n",
      ".......................38\n",
      "38 {'acc': 0.98745043437783975, 'loss': 0.040177253561890711, 'val_acc': 0.98899997138977047, 'val_loss': 0.034964675843715667}\n",
      ".......................39\n",
      "39 {'acc': 0.98784260870797524, 'loss': 0.039673557181895504, 'val_acc': 0.98899999380111692, 'val_loss': 0.034623350352048873}\n",
      ".......................40\n",
      "40 {'acc': 0.98758115940735203, 'loss': 0.039127586775095854, 'val_acc': 0.98900000047683712, 'val_loss': 0.034044163614511493}\n",
      ".......................41\n",
      "41 {'acc': 0.98727613493759259, 'loss': 0.038780575203802847, 'val_acc': 0.98899997138977047, 'val_loss': 0.033513601779937743}\n",
      ".......................42\n",
      "42 {'acc': 0.98705826066325619, 'loss': 0.038746306015178318, 'val_acc': 0.98949999380111697, 'val_loss': 0.033322759479284286}\n",
      ".......................43\n",
      "43 {'acc': 0.98801690838457357, 'loss': 0.03802401122635754, 'val_acc': 0.99000001382827763, 'val_loss': 0.032692693024873737}\n",
      ".......................44\n",
      "44 {'acc': 0.98771188310706448, 'loss': 0.037030464420294347, 'val_acc': 0.98949996471405033, 'val_loss': 0.032543081641197208}\n",
      ".......................45\n",
      "45 {'acc': 0.9882347822303611, 'loss': 0.036980598384484503, 'val_acc': 0.99050000715255737, 'val_loss': 0.032076551735401151}\n",
      ".......................46\n",
      "46 {'acc': 0.98840908262120741, 'loss': 0.035922558407694372, 'val_acc': 0.99100001382827763, 'val_loss': 0.031679355442523954}\n",
      ".......................47\n",
      "47 {'acc': 0.98836550716637184, 'loss': 0.035758126222541625, 'val_acc': 0.99099998474121098, 'val_loss': 0.031372111707925796}\n",
      ".......................48\n",
      "48 {'acc': 0.98849623129463304, 'loss': 0.03535462969823093, 'val_acc': 0.99099998474121098, 'val_loss': 0.031024548500776291}\n",
      ".......................49\n",
      "49 {'acc': 0.98858338172640736, 'loss': 0.035242862138445741, 'val_acc': 0.99100001382827763, 'val_loss': 0.030769141644239426}\n",
      ".......................50\n",
      "50 {'acc': 0.98836550716637184, 'loss': 0.034579431470679149, 'val_acc': 0.99100001382827763, 'val_loss': 0.030468465983867644}\n",
      ".......................51\n",
      "51 {'acc': 0.98901913032442812, 'loss': 0.034404187054195207, 'val_acc': 0.99100001382827763, 'val_loss': 0.0301875382065773}\n",
      ".......................52\n",
      "52 {'acc': 0.98923700554936356, 'loss': 0.033889102411760248, 'val_acc': 0.99099998474121098, 'val_loss': 0.029967047274112701}\n",
      ".......................53\n",
      "53 {'acc': 0.98923700540651394, 'loss': 0.033561418479527386, 'val_acc': 0.98999997138977047, 'val_loss': 0.029830162405967711}\n",
      ".......................54\n",
      "54 {'acc': 0.9893677297711263, 'loss': 0.032893807736954571, 'val_acc': 0.99099998474121098, 'val_loss': 0.029415493786334991}\n",
      ".......................55\n",
      "55 {'acc': 0.98928057933935198, 'loss': 0.032268519348017402, 'val_acc': 0.99049997806549073, 'val_loss': 0.029159220278263093}\n",
      ".......................56\n",
      "56 {'acc': 0.98967275381233699, 'loss': 0.032630630636496752, 'val_acc': 0.99100001382827763, 'val_loss': 0.028880143404006957}\n",
      ".......................57\n",
      "57 {'acc': 0.98958560380911154, 'loss': 0.032558616083473275, 'val_acc': 0.98999997138977047, 'val_loss': 0.028816492944955825}\n",
      ".......................58\n",
      "58 {'acc': 0.99006492804897095, 'loss': 0.031541582345563195, 'val_acc': 0.99099998474121098, 'val_loss': 0.028476046264171599}\n",
      ".......................59\n",
      "59 {'acc': 0.9889755558201917, 'loss': 0.032277534263379523, 'val_acc': 0.99050000715255737, 'val_loss': 0.028327532082796095}\n",
      ".......................60\n",
      "60 {'acc': 0.98906270530136686, 'loss': 0.031622213906226604, 'val_acc': 0.99049997806549073, 'val_loss': 0.028133174866437911}\n",
      ".......................61\n",
      "61 {'acc': 0.99006492804897095, 'loss': 0.030793513780798785, 'val_acc': 0.99050000715255737, 'val_loss': 0.028052675604820252}\n",
      ".......................62\n",
      "62 {'acc': 0.98945487968085033, 'loss': 0.031006965781429936, 'val_acc': 0.99049997806549073, 'val_loss': 0.027753868013620377}\n",
      ".......................63\n",
      "63 {'acc': 0.98945487953800071, 'loss': 0.030925095824147264, 'val_acc': 0.99049997806549073, 'val_loss': 0.027639085814356805}\n",
      ".......................64\n",
      "64 {'acc': 0.99063140029735597, 'loss': 0.030065814435320994, 'val_acc': 0.99050000715255737, 'val_loss': 0.027490636944770813}\n",
      ".......................65\n",
      "65 {'acc': 0.99058782665021716, 'loss': 0.029318700898454113, 'val_acc': 0.99050000715255737, 'val_loss': 0.027336821377277373}\n",
      ".......................66\n",
      "66 {'acc': 0.99045710185705604, 'loss': 0.029102194248491073, 'val_acc': 0.99049997806549073, 'val_loss': 0.027104263931512832}\n",
      ".......................67\n",
      "67 {'acc': 0.99010850212465851, 'loss': 0.030114501271061016, 'val_acc': 0.98999997138977047, 'val_loss': 0.027083922773599625}\n",
      ".......................68\n",
      "68 {'acc': 0.99036995280442963, 'loss': 0.029672026193736323, 'val_acc': 0.99050000715255737, 'val_loss': 0.026837695151567458}\n",
      ".......................69\n",
      "69 {'acc': 0.99019565269928245, 'loss': 0.029743189916931506, 'val_acc': 0.98949999380111697, 'val_loss': 0.026748688653111457}\n",
      ".......................70\n",
      "70 {'acc': 0.9901085033609569, 'loss': 0.029305400765542396, 'val_acc': 0.98949996471405033, 'val_loss': 0.026603925198316575}\n",
      ".......................71\n",
      "71 {'acc': 0.99010850293240815, 'loss': 0.028959731191891491, 'val_acc': 0.98999997138977047, 'val_loss': 0.026440027698874474}\n",
      ".......................72\n",
      "72 {'acc': 0.99032637749244368, 'loss': 0.028538386719541183, 'val_acc': 0.98999997138977047, 'val_loss': 0.026263006329536438}\n",
      ".......................73\n",
      "73 {'acc': 0.99058782622166841, 'loss': 0.028439537009201651, 'val_acc': 0.98999997138977047, 'val_loss': 0.02609447893500328}\n",
      ".......................74\n",
      "74 {'acc': 0.99076212646966511, 'loss': 0.028144213254223633, 'val_acc': 0.99099998474121098, 'val_loss': 0.02586075136065483}\n",
      ".......................75\n",
      "75 {'acc': 0.99115429947000067, 'loss': 0.02783890369862527, 'val_acc': 0.99099998474121098, 'val_loss': 0.025761912435293199}\n",
      ".......................76\n",
      "76 {'acc': 0.99150289977379646, 'loss': 0.0274930400462211, 'val_acc': 0.98949996471405033, 'val_loss': 0.025883859485387802}\n",
      ".......................77\n",
      "77 {'acc': 0.99097999912850232, 'loss': 0.027346329102852285, 'val_acc': 0.99050000715255737, 'val_loss': 0.025596286937594415}\n",
      ".......................78\n",
      "78 {'acc': 0.99063140167650399, 'loss': 0.027655087361081639, 'val_acc': 0.99049997806549073, 'val_loss': 0.025510264649987222}\n",
      ".......................79\n",
      "79 {'acc': 0.99071855130052877, 'loss': 0.027444636547183404, 'val_acc': 0.99050000715255737, 'val_loss': 0.025461959257721902}\n",
      ".......................80\n",
      "80 {'acc': 0.99150289920239809, 'loss': 0.02617541079416847, 'val_acc': 0.99050000715255737, 'val_loss': 0.025412543699145317}\n",
      ".......................81\n",
      "81 {'acc': 0.99067497494444201, 'loss': 0.027055577206294246, 'val_acc': 0.99049997806549073, 'val_loss': 0.025198285594582558}\n",
      ".......................82\n",
      "82 {'acc': 0.99154647380013605, 'loss': 0.026661171795919397, 'val_acc': 0.99049997806549073, 'val_loss': 0.025203905552625656}\n",
      ".......................83\n",
      "83 {'acc': 0.99119787544688653, 'loss': 0.026818544341763322, 'val_acc': 0.99049997806549073, 'val_loss': 0.02506804709136486}\n",
      ".......................84\n",
      "84 {'acc': 0.99080570135310231, 'loss': 0.026416723622711476, 'val_acc': 0.99049997806549073, 'val_loss': 0.025070342868566513}\n",
      ".......................85\n",
      "85 {'acc': 0.99124144990177498, 'loss': 0.025854495755152519, 'val_acc': 0.99050000715255737, 'val_loss': 0.024829895094037057}\n",
      ".......................86\n",
      "86 {'acc': 0.99102357562743859, 'loss': 0.025900266633019493, 'val_acc': 0.99049997806549073, 'val_loss': 0.024771728336811065}\n",
      ".......................87\n",
      "87 {'acc': 0.99115429984920134, 'loss': 0.026057885715844994, 'val_acc': 0.99100000715255743, 'val_loss': 0.024770760074257849}\n",
      ".......................88\n",
      "88 {'acc': 0.99097999979340223, 'loss': 0.025727000829749384, 'val_acc': 0.99050000715255737, 'val_loss': 0.02455652743577957}\n",
      ".......................89\n",
      "89 {'acc': 0.99211294785621784, 'loss': 0.02526273522864482, 'val_acc': 0.99049997806549073, 'val_loss': 0.024521291375160216}\n",
      ".......................90\n",
      "90 {'acc': 0.99097999974405426, 'loss': 0.025721226963778872, 'val_acc': 0.99099997806549067, 'val_loss': 0.024511097431182863}\n",
      ".......................91\n",
      "91 {'acc': 0.99150289948809733, 'loss': 0.024336292080704883, 'val_acc': 0.99099997806549067, 'val_loss': 0.024460552781820296}\n",
      ".......................92\n",
      "92 {'acc': 0.99202579808934355, 'loss': 0.025141674282893756, 'val_acc': 0.99099997806549067, 'val_loss': 0.024341662883758546}\n",
      ".......................93\n",
      "93 {'acc': 0.99145932474750964, 'loss': 0.024654414316789379, 'val_acc': 0.99100000715255743, 'val_loss': 0.024359509617090224}\n",
      ".......................94\n",
      "94 {'acc': 0.99189507358188156, 'loss': 0.024879205135474449, 'val_acc': 0.99100000715255743, 'val_loss': 0.024249654129147528}\n",
      ".......................95\n",
      "95 {'acc': 0.99233082051505517, 'loss': 0.024181763896717567, 'val_acc': 0.99100000715255743, 'val_loss': 0.024239779800176619}\n",
      ".......................96\n",
      "96 {'acc': 0.99198222320590634, 'loss': 0.024320569534312979, 'val_acc': 0.99100000715255743, 'val_loss': 0.024159442111849786}\n",
      ".......................97\n",
      "97 {'acc': 0.99215652178905589, 'loss': 0.024114575535396619, 'val_acc': 0.99099998474121098, 'val_loss': 0.023902642443776132}\n",
      ".......................98\n",
      "98 {'acc': 0.99254869683343938, 'loss': 0.023490813339935135, 'val_acc': 0.99100000715255743, 'val_loss': 0.023994611054658891}\n",
      ".......................99\n",
      "99 {'acc': 0.99154647408583529, 'loss': 0.024379624300332591, 'val_acc': 0.99049997138977053, 'val_loss': 0.023949997410178184}\n"
     ]
    }
   ],
   "source": [
    "history = model.fit(\n",
    "        X_train,\n",
    "        Y_train,\n",
    "        nb_epoch=100,\n",
    "        batch_size=1024,\n",
    "        validation_data=(X_valid,Y_valid),\n",
    "        callbacks=[early_stop_cb, checkpoit_cb, batch_print_cb, plot_loss_cb],\n",
    "        verbose=0\n",
    "        )\n"
   ]
  },
  {
   "cell_type": "code",
   "execution_count": null,
   "metadata": {
    "collapsed": false,
    "deletable": true,
    "editable": true
   },
   "outputs": [],
   "source": []
  },
  {
   "cell_type": "code",
   "execution_count": 5,
   "metadata": {
    "collapsed": false,
    "deletable": true,
    "editable": true
   },
   "outputs": [
    {
     "name": "stdout",
     "output_type": "stream",
     "text": [
      "OOS acc: 99.05%\n",
      "OOS loss: 0.02\n"
     ]
    }
   ],
   "source": [
    "score=model.evaluate(X_valid,Y_valid, verbose=0)\n",
    "print(\"OOS %s: %.2f%%\" % (model.metrics_names[1], score[1]*100))\n",
    "print(\"OOS %s: %.2f\" % (model.metrics_names[0], score[0]))\n",
    "\n",
    "#print(\"min(val los)\",np.min(history.history['val_loss']))"
   ]
  },
  {
   "cell_type": "code",
   "execution_count": 6,
   "metadata": {
    "collapsed": false,
    "deletable": true,
    "editable": true
   },
   "outputs": [
    {
     "data": {
      "image/png": "[encoded data removed]",
      "text/plain": [
       "<matplotlib.figure.Figure at 0x7f175a45eb50>"
      ]
     },
     "metadata": {},
     "output_type": "display_data"
    },
    {
     "data": {
      "image/png": "[encoded data removed]",
      "text/plain": [
       "<matplotlib.figure.Figure at 0x7f1759d6ed10>"
      ]
     },
     "metadata": {},
     "output_type": "display_data"
    }
   ],
   "source": [
    "# summarize history for accuracy\n",
    "plt.plot(history.history['acc'])\n",
    "plt.plot(history.history['val_acc'])\n",
    "plt.title('model accuracy')\n",
    "plt.ylabel('accuracy')\n",
    "plt.xlabel('epoch')\n",
    "plt.legend(['train', 'val'], loc='lower right')\n",
    "plt.show()\n",
    "\n",
    "\n",
    "# summarize history for loss\n",
    "plt.plot(history.history['loss'])\n",
    "plt.plot(history.history['val_loss'])\n",
    "plt.title('model loss (log scale)')\n",
    "plt.ylabel('loss')\n",
    "plt.xlabel('epoch')\n",
    "plt.legend(['train', 'val'], loc='upper right')\n",
    "plt.yscale('log')\n",
    "plt.show()"
   ]
  },
  {
   "cell_type": "code",
   "execution_count": 7,
   "metadata": {
    "collapsed": true,
    "deletable": true,
    "editable": true
   },
   "outputs": [],
   "source": [
    "from keras.models import load_model\n",
    "from sklearn.metrics import log_loss\n",
    "\n",
    "model = load_model(\"ResNet-head-Dense2.h5\")\n",
    "with h5py.File(\"ResNet50-300x300_codes-test.h5\") as hf:\n",
    "     X_test = hf[\"X_test\"][:]\n"
   ]
  },
  {
   "cell_type": "code",
   "execution_count": 8,
   "metadata": {
    "collapsed": false,
    "deletable": true,
    "editable": true
   },
   "outputs": [
    {
     "name": "stdout",
     "output_type": "stream",
     "text": [
      "0.0218201231761\n",
      "0.0239499943343\n"
     ]
    }
   ],
   "source": [
    "Y_train_preds=model.predict(X_train)\n",
    "print(log_loss(Y_train,Y_train_preds))\n",
    "Y_valid_preds=model.predict(X_valid)\n",
    "print(log_loss(Y_valid,Y_valid_preds))"
   ]
  },
  {
   "cell_type": "code",
   "execution_count": 9,
   "metadata": {
    "collapsed": false,
    "deletable": true,
    "editable": true
   },
   "outputs": [
    {
     "name": "stdout",
     "output_type": "stream",
     "text": [
      "0.01 0.0320367247821\n",
      "0.02 0.0410589998495\n",
      "0.03 0.0504452312002\n",
      "0.04 0.059979778057\n",
      "0.05 0.069663551461\n",
      "0.06 0.0795069333445\n",
      "0.07 0.0895306640416\n",
      "0.08 0.0997284778431\n",
      "0.09 0.11009468611\n",
      "0.01 0.0296653949259\n",
      "0.02 0.0386681678272\n",
      "0.03 0.0480361190443\n",
      "0.04 0.0576385563198\n",
      "0.05 0.0674303964584\n",
      "0.06 0.0773910999336\n",
      "0.07 0.0875064673725\n",
      "0.08 0.0977672467778\n",
      "0.09 0.108174311925\n"
     ]
    }
   ],
   "source": [
    "for i in range(1,10):\n",
    "    m=i/100.0\n",
    "    print(m,log_loss(Y_valid,Y_valid_preds.clip(min=m, max=1-m)))\n",
    "    \n",
    "for i in range(1,10):\n",
    "    m=i/100.0\n",
    "    print(m,log_loss(Y_train,Y_train_preds.clip(min=m, max=1-m)))\n"
   ]
  },
  {
   "cell_type": "code",
   "execution_count": 10,
   "metadata": {
    "collapsed": false,
    "deletable": true,
    "editable": true
   },
   "outputs": [
    {
     "name": "stdout",
     "output_type": "stream",
     "text": [
      "Found 12500 images belonging to 1 classes.\n"
     ]
    }
   ],
   "source": [
    "import re\n",
    "datagen = ImageDataGenerator()\n",
    "test_batches = datagen.flow_from_directory(\"test\", model.input_shape[1:3], shuffle=False, batch_size=32, class_mode=None)\n",
    "#test_codes = model.predict_generator(test_batches, test_batches.nb_sample)\n",
    "\n",
    "ids = [re.split('/|\\.',x)[1] for x in test_batches.filenames]\n"
   ]
  },
  {
   "cell_type": "code",
   "execution_count": 11,
   "metadata": {
    "collapsed": false,
    "deletable": true,
    "editable": true
   },
   "outputs": [],
   "source": [
    "Y_test = model.predict(X_test)"
   ]
  },
  {
   "cell_type": "code",
   "execution_count": 12,
   "metadata": {
    "collapsed": false,
    "deletable": true,
    "editable": true
   },
   "outputs": [],
   "source": [
    "Y_test_csv=np.column_stack((ids,Y_test[:,1]))\n",
    "np.savetxt('Y_test_ResNet-head-Dense2.csv',Y_test_csv, fmt=\"%s,%s\", header=(\"id,label\"),comments='')"
   ]
  },
  {
   "cell_type": "code",
   "execution_count": 13,
   "metadata": {
    "collapsed": false,
    "deletable": true,
    "editable": true
   },
   "outputs": [],
   "source": [
    "Y_test_csv=np.column_stack((ids,Y_test[:,1].clip(min=0.02, max=0.98)))\n",
    "np.savetxt('Y_test_ResNet-head-Dense2-clipped.csv',Y_test_csv, fmt=\"%s,%s\", header=(\"id,label\"),comments='')"
   ]
  },
  {
   "cell_type": "code",
   "execution_count": null,
   "metadata": {
    "collapsed": true,
    "deletable": true,
    "editable": true
   },
   "outputs": [],
   "source": []
  }
 ],
 "metadata": {
  "kernelspec": {
   "display_name": "Python 2",
   "language": "python",
   "name": "python2"
  },
  "language_info": {
   "codemirror_mode": {
    "name": "ipython",
    "version": 2
   },
   "file_extension": ".py",
   "mimetype": "text/x-python",
   "name": "python",
   "nbconvert_exporter": "python",
   "pygments_lexer": "ipython2",
   "version": "2.7.12"
  }
 },
 "nbformat": 4,
 "nbformat_minor": 2
}
