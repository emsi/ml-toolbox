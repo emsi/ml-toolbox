{
 "cells": [
  {
   "cell_type": "code",
   "execution_count": 1,
   "metadata": {
    "collapsed": false,
    "deletable": true,
    "editable": true
   },
   "outputs": [
    {
     "name": "stderr",
     "output_type": "stream",
     "text": [
      "Using TensorFlow backend.\n"
     ]
    }
   ],
   "source": [
    "from __future__ import print_function\n",
    "from keras.preprocessing.image import ImageDataGenerator\n",
    "from keras.models import Sequential\n",
    "from keras.layers import Convolution2D, MaxPooling2D\n",
    "from keras.layers import Activation, Dropout, Flatten, Dense\n",
    "from keras.callbacks import ModelCheckpoint, EarlyStopping, LambdaCallback\n",
    "from keras.optimizers import Adam\n",
    "\n",
    "import numpy as np\n",
    "import matplotlib.pyplot as plt\n",
    "\n",
    "# reproducibility\n",
    "np.random.seed(31337)\n",
    "\n",
    "NAME=\"ResNet50-300x300-supersimple\""
   ]
  },
  {
   "cell_type": "code",
   "execution_count": 2,
   "metadata": {
    "collapsed": false,
    "deletable": true,
    "editable": true
   },
   "outputs": [],
   "source": [
    "import h5py\n",
    "import numpy as np\n",
    "with h5py.File(NAME+\"_codes-train.h5\") as hf:\n",
    "    X_train = hf[\"X_train\"][:]\n",
    "    Y_train = hf[\"Y_train\"][:]\n",
    "    X_valid = hf[\"X_valid\"][:]\n",
    "    Y_valid = hf[\"Y_valid\"][:]\n",
    "    \n",
    "\n",
    "with h5py.File(NAME+\"_codes-test.h5\") as hf:\n",
    "      X_test = hf[\"X_test\"][:]\n"
   ]
  },
  {
   "cell_type": "code",
   "execution_count": 3,
   "metadata": {
    "collapsed": false,
    "deletable": true,
    "editable": true
   },
   "outputs": [
    {
     "name": "stdout",
     "output_type": "stream",
     "text": [
      "____________________________________________________________________________________________________\n",
      "Layer (type)                     Output Shape          Param #     Connected to                     \n",
      "====================================================================================================\n",
      "dense_1 (Dense)                  (None, 2)             4098        dense_input_1[0][0]              \n",
      "====================================================================================================\n",
      "Total params: 4,098\n",
      "Trainable params: 4,098\n",
      "Non-trainable params: 0\n",
      "____________________________________________________________________________________________________\n"
     ]
    },
    {
     "data": {
      "text/plain": [
       "(2048,)"
      ]
     },
     "execution_count": 3,
     "metadata": {},
     "output_type": "execute_result"
    }
   ],
   "source": [
    "model = Sequential()\n",
    "#model.add(Dropout(0.1, input_shape=(2048,)))\n",
    "# model.add(Dense(256, activation='relu', input_dim=2048))\n",
    "# model.add(Dropout(0.5))\n",
    "model.add(Dense(2, input_dim=2048, activation=\"softmax\"))\n",
    "\n",
    "# Callbacks\n",
    "early_stop_cb = EarlyStopping(monitor='val_loss', patience=20, verbose=1)\n",
    "\n",
    "checkpoit_cb = ModelCheckpoint(NAME+\"-head-Dense2.h5\", save_best_only=True)\n",
    "\n",
    "# Print the batch number at the beginning of every batch.\n",
    "batch_print_cb = LambdaCallback(on_batch_begin=lambda batch, logs: print(\".\",end=''), \n",
    "                                on_epoch_end=lambda batch, logs: print(batch))\n",
    "\n",
    "# Plot the loss after every epoch.\n",
    "plot_loss_cb = LambdaCallback(on_epoch_end=lambda epoch, logs: \n",
    "                              print (logs))\n",
    "                              #plt.plot(np.arange(epoch), logs['loss']))\n",
    "\n",
    "\n",
    "model.compile(loss='categorical_crossentropy',\n",
    "              optimizer=Adam(lr=0.00001),\n",
    "              metrics=['accuracy'],\n",
    "             )\n",
    "\n",
    "model.summary()\n",
    "X_train.shape[1:]"
   ]
  },
  {
   "cell_type": "code",
   "execution_count": 4,
   "metadata": {
    "collapsed": false,
    "deletable": true,
    "editable": true
   },
   "outputs": [
    {
     "name": "stdout",
     "output_type": "stream",
     "text": [
      ".......................0\n",
      "0 {'acc': 0.63828489399043564, 'loss': 0.68735777499852468, 'val_acc': 0.76599994134902949, 'val_loss': 0.51126053714752195}\n",
      ".......................1\n",
      "1 {'acc': 0.83323892154819934, 'loss': 0.4131021931948623, 'val_acc': 0.88499994993209841, 'val_loss': 0.32560990691184999}\n",
      ".......................2\n",
      "2 {'acc': 0.90936424196756005, 'loss': 0.27649790796871421, 'val_acc': 0.93249997758865355, 'val_loss': 0.2337777774333954}\n",
      ".......................3\n",
      "3 {'acc': 0.94047671102730501, 'loss': 0.20576188165776127, 'val_acc': 0.94699999713897709, 'val_loss': 0.18337068402767182}\n",
      ".......................4\n",
      "4 {'acc': 0.956642990881303, 'loss': 0.16458701465746858, 'val_acc': 0.95749998998641972, 'val_loss': 0.15145972108840941}\n",
      ".......................5\n",
      "5 {'acc': 0.96391999712956122, 'loss': 0.13812038407967944, 'val_acc': 0.96350001239776606, 'val_loss': 0.13021751379966737}\n",
      ".......................6\n",
      "6 {'acc': 0.96988975644615505, 'loss': 0.11987400691034415, 'val_acc': 0.96999998521804809, 'val_loss': 0.11443098676204681}\n",
      ".......................7\n",
      "7 {'acc': 0.97324502232796883, 'loss': 0.10633987455954973, 'val_acc': 0.97299995613098145, 'val_loss': 0.10281830263137817}\n",
      ".......................8\n",
      "8 {'acc': 0.97524946763097931, 'loss': 0.096084662327538276, 'val_acc': 0.97500001430511474, 'val_loss': 0.093614681720733645}\n",
      ".......................9\n",
      "9 {'acc': 0.9777332356076982, 'loss': 0.088020766300920608, 'val_acc': 0.97450000095367428, 'val_loss': 0.086280018866062166}\n",
      ".......................10\n",
      "10 {'acc': 0.9786918827576172, 'loss': 0.081476647787802864, 'val_acc': 0.9774999561309814, 'val_loss': 0.080164462804794306}\n",
      ".......................11\n",
      "11 {'acc': 0.97982483029838241, 'loss': 0.07609757751322524, 'val_acc': 0.9794999561309814, 'val_loss': 0.075227080702781682}\n",
      ".......................12\n",
      "12 {'acc': 0.98047845340709061, 'loss': 0.071535680215625425, 'val_acc': 0.98049996948242191, 'val_loss': 0.070766219556331639}\n",
      ".......................13\n",
      "13 {'acc': 0.98161140032710947, 'loss': 0.067693109718928585, 'val_acc': 0.98099996280670165, 'val_loss': 0.06723329377174378}\n",
      ".......................14\n",
      "14 {'acc': 0.98226502405656413, 'loss': 0.064325088469754835, 'val_acc': 0.98149999856948855, 'val_loss': 0.063910866796970361}\n",
      ".......................15\n",
      "15 {'acc': 0.98318009603734657, 'loss': 0.061393084679079904, 'val_acc': 0.98099996280670165, 'val_loss': 0.061124111533164979}\n",
      ".......................16\n",
      "16 {'acc': 0.98387729379314082, 'loss': 0.058865589863149173, 'val_acc': 0.98099996280670165, 'val_loss': 0.058592080414295193}\n",
      ".......................17\n",
      "17 {'acc': 0.98435661731875224, 'loss': 0.056525651049463832, 'val_acc': 0.98099996280670165, 'val_loss': 0.056414710104465485}\n",
      ".......................18\n",
      "18 {'acc': 0.98483594160795973, 'loss': 0.054506199962699627, 'val_acc': 0.98149996948242191, 'val_loss': 0.054425508499145507}\n",
      ".......................19\n",
      "19 {'acc': 0.9853152657543176, 'loss': 0.052657258928944128, 'val_acc': 0.98249995374679566, 'val_loss': 0.052651556730270388}\n",
      ".......................20\n",
      "20 {'acc': 0.98553313974295464, 'loss': 0.050964470846099043, 'val_acc': 0.98249998283386231, 'val_loss': 0.051065981447696689}\n",
      ".......................21\n",
      "21 {'acc': 0.98596888943442418, 'loss': 0.049429854972309846, 'val_acc': 0.98349996042251586, 'val_loss': 0.049469659268856048}\n",
      ".......................22\n",
      "22 {'acc': 0.98636106295681003, 'loss': 0.048027090173766752, 'val_acc': 0.98399996042251592, 'val_loss': 0.048216637790203097}\n",
      ".......................23\n",
      "23 {'acc': 0.98666608699802072, 'loss': 0.046745192969739863, 'val_acc': 0.98449996042251586, 'val_loss': 0.046906831949949261}\n",
      ".......................24\n",
      "24 {'acc': 0.98684038696031828, 'loss': 0.0455606147634567, 'val_acc': 0.98449996042251586, 'val_loss': 0.045843184232711789}\n",
      ".......................25\n",
      "25 {'acc': 0.98692753534804467, 'loss': 0.044483633451152409, 'val_acc': 0.98449996042251586, 'val_loss': 0.044674824923276901}\n",
      ".......................26\n",
      "26 {'acc': 0.9875375856173636, 'loss': 0.04347089516012189, 'val_acc': 0.98499996042251592, 'val_loss': 0.043683980584144591}\n",
      ".......................27\n",
      "27 {'acc': 0.98762473362588932, 'loss': 0.042548678529990294, 'val_acc': 0.98549996042251586, 'val_loss': 0.042875763356685637}\n",
      ".......................28\n",
      "28 {'acc': 0.98753758385901491, 'loss': 0.041564859110027483, 'val_acc': 0.98499996042251592, 'val_loss': 0.041963043510913851}\n",
      ".......................29\n",
      "29 {'acc': 0.98788618387711158, 'loss': 0.040711626048003456, 'val_acc': 0.98549996042251586, 'val_loss': 0.04120485642552376}\n",
      ".......................30\n",
      "30 {'acc': 0.98792975752425038, 'loss': 0.039928716219384729, 'val_acc': 0.98549996042251586, 'val_loss': 0.04043063509464264}\n",
      ".......................31\n",
      "31 {'acc': 0.98827835892149496, 'loss': 0.039204011147287374, 'val_acc': 0.98549996042251586, 'val_loss': 0.03975957077741623}\n",
      ".......................32\n",
      "32 {'acc': 0.98849623115178342, 'loss': 0.038478435273120913, 'val_acc': 0.98599996042251592, 'val_loss': 0.039256265103816988}\n",
      ".......................33\n",
      "33 {'acc': 0.98853980698581978, 'loss': 0.037802677513268823, 'val_acc': 0.98599996042251592, 'val_loss': 0.038586802393198012}\n",
      ".......................34\n",
      "34 {'acc': 0.98875768183155455, 'loss': 0.037131394418754723, 'val_acc': 0.98599996709823612, 'val_loss': 0.037852207362651824}\n",
      ".......................35\n",
      "35 {'acc': 0.98888840648186604, 'loss': 0.036539362139713844, 'val_acc': 0.98649996709823606, 'val_loss': 0.037380474478006361}\n",
      ".......................36\n",
      "36 {'acc': 0.98901913098932803, 'loss': 0.035957668903192262, 'val_acc': 0.98749998044967646, 'val_loss': 0.036839545667171479}\n",
      ".......................37\n",
      "37 {'acc': 0.98932415531623796, 'loss': 0.035395570224184859, 'val_acc': 0.98699996709823612, 'val_loss': 0.036442669838666918}\n",
      ".......................38\n",
      "38 {'acc': 0.98923700540651394, 'loss': 0.034896783264735914, 'val_acc': 0.98799998044967652, 'val_loss': 0.03593157896399498}\n",
      ".......................39\n",
      "39 {'acc': 0.98932415517338834, 'loss': 0.034376750110474759, 'val_acc': 0.98799998044967652, 'val_loss': 0.035483815878629685}\n",
      ".......................40\n",
      "40 {'acc': 0.98932415503053872, 'loss': 0.033883654210654639, 'val_acc': 0.98799998044967652, 'val_loss': 0.035187417328357694}\n",
      ".......................41\n",
      "41 {'acc': 0.98949845399288905, 'loss': 0.03341996645127731, 'val_acc': 0.98799998044967652, 'val_loss': 0.034683665007352829}\n",
      ".......................42\n",
      "42 {'acc': 0.98967275381233699, 'loss': 0.032946659425983162, 'val_acc': 0.98799998044967652, 'val_loss': 0.034247032046318057}\n",
      ".......................43\n",
      "43 {'acc': 0.98980347779774869, 'loss': 0.032535673239860015, 'val_acc': 0.98799998044967652, 'val_loss': 0.03387485647201538}\n",
      ".......................44\n",
      "44 {'acc': 0.98993420339865934, 'loss': 0.032148675200188465, 'val_acc': 0.98799995136260987, 'val_loss': 0.033551775723695755}\n",
      ".......................45\n",
      "45 {'acc': 0.99028280232330723, 'loss': 0.03171062287803704, 'val_acc': 0.98949997138977053, 'val_loss': 0.03308041051030159}\n",
      ".......................46\n",
      "46 {'acc': 0.99010850212465851, 'loss': 0.031350308636628632, 'val_acc': 0.98899996471405027, 'val_loss': 0.032869191318750379}\n",
      ".......................47\n",
      "47 {'acc': 0.99023922663212049, 'loss': 0.030947952730821168, 'val_acc': 0.98950000047683717, 'val_loss': 0.032483145058155062}\n",
      ".......................48\n",
      "48 {'acc': 0.99050067674049314, 'loss': 0.030617413764202732, 'val_acc': 0.98949997138977053, 'val_loss': 0.032214557528495787}\n",
      ".......................49\n",
      "49 {'acc': 0.99036995237588088, 'loss': 0.030237713513196311, 'val_acc': 0.98949997138977053, 'val_loss': 0.031959339290857314}\n",
      ".......................50\n",
      "50 {'acc': 0.99032637763529319, 'loss': 0.029902333307415058, 'val_acc': 0.98949997138977053, 'val_loss': 0.031771584779024122}\n",
      ".......................51\n",
      "51 {'acc': 0.99071855115767915, 'loss': 0.029568156810961359, 'val_acc': 0.99000000715255743, 'val_loss': 0.031306338667869568}\n",
      ".......................52\n",
      "52 {'acc': 0.99084927471454187, 'loss': 0.029225149349578119, 'val_acc': 0.98949997138977053, 'val_loss': 0.031093785524368287}\n",
      ".......................53\n",
      "53 {'acc': 0.99102357534173946, 'loss': 0.028911609883106915, 'val_acc': 0.98999997806549067, 'val_loss': 0.030951213806867599}\n",
      ".......................54\n",
      "54 {'acc': 0.99080570063885431, 'loss': 0.028602425202833157, 'val_acc': 0.98999997806549067, 'val_loss': 0.03065786737203598}\n",
      ".......................55\n",
      "55 {'acc': 0.99137217388718657, 'loss': 0.028309425951651569, 'val_acc': 0.98949997138977053, 'val_loss': 0.030492779284715651}\n",
      ".......................56\n",
      "56 {'acc': 0.99119787449628738, 'loss': 0.028056795646703665, 'val_acc': 0.98999997806549067, 'val_loss': 0.030283585697412491}\n",
      ".......................57\n",
      "57 {'acc': 0.99124144909402545, 'loss': 0.027788599275412593, 'val_acc': 0.98999997806549067, 'val_loss': 0.030022456824779511}\n",
      ".......................58\n",
      "58 {'acc': 0.99141574943552369, 'loss': 0.027461098864414193, 'val_acc': 0.98999997806549067, 'val_loss': 0.029881281733512878}\n",
      ".......................59\n",
      "59 {'acc': 0.99159004968352049, 'loss': 0.027214481415008481, 'val_acc': 0.98999997806549067, 'val_loss': 0.029655907809734344}\n",
      ".......................60\n",
      "60 {'acc': 0.99163362428125845, 'loss': 0.026955342133151216, 'val_acc': 0.98999997806549067, 'val_loss': 0.029523011147975921}\n",
      ".......................61\n",
      "61 {'acc': 0.99163362413840883, 'loss': 0.026708778487803723, 'val_acc': 0.98999997806549067, 'val_loss': 0.029289579153060914}\n",
      ".......................62\n",
      "62 {'acc': 0.99172077376243362, 'loss': 0.026435853237082245, 'val_acc': 0.98999997806549067, 'val_loss': 0.029149123936891556}\n",
      ".......................63\n",
      "63 {'acc': 0.99206937311563026, 'loss': 0.026218523159171871, 'val_acc': 0.98999997806549067, 'val_loss': 0.02900228801369667}\n",
      ".......................64\n",
      "64 {'acc': 0.9920257985178923, 'loss': 0.025984287807226305, 'val_acc': 0.98999997806549067, 'val_loss': 0.028836922883987426}\n",
      ".......................65\n",
      "65 {'acc': 0.99202579808934355, 'loss': 0.025731697525246153, 'val_acc': 0.98999997806549067, 'val_loss': 0.028719297349452971}\n",
      ".......................66\n",
      "66 {'acc': 0.99220009790879149, 'loss': 0.025532959737239142, 'val_acc': 0.98999997806549067, 'val_loss': 0.028700835824012755}\n",
      ".......................67\n",
      "67 {'acc': 0.99228724724711703, 'loss': 0.02528472081412118, 'val_acc': 0.98999997806549067, 'val_loss': 0.028460304558277132}\n",
      ".......................68\n",
      "68 {'acc': 0.99237439701399144, 'loss': 0.025063294108215697, 'val_acc': 0.98999997806549067, 'val_loss': 0.028242528140544891}\n",
      ".......................69\n",
      "69 {'acc': 0.99241797189742864, 'loss': 0.024832777146445939, 'val_acc': 0.98999997806549067, 'val_loss': 0.028136045753955841}\n",
      ".......................70\n",
      "70 {'acc': 0.99250512195000218, 'loss': 0.024647444988539591, 'val_acc': 0.99049998474121093, 'val_loss': 0.027945463359355927}\n",
      ".......................71\n",
      "71 {'acc': 0.99250512152145343, 'loss': 0.024475379988094671, 'val_acc': 0.98999997806549067, 'val_loss': 0.027918537080287933}\n",
      ".......................72\n",
      "72 {'acc': 0.99237439715684106, 'loss': 0.02429658904800883, 'val_acc': 0.98999997806549067, 'val_loss': 0.027792064517736435}\n",
      ".......................73\n",
      "73 {'acc': 0.9924615464951666, 'loss': 0.024018169172253294, 'val_acc': 0.99049995565414428, 'val_loss': 0.027615201964974405}\n",
      ".......................74\n",
      "74 {'acc': 0.99276657096492615, 'loss': 0.0238396210247039, 'val_acc': 0.99049995565414428, 'val_loss': 0.027539837330579759}\n",
      ".......................75\n",
      "75 {'acc': 0.99259227171687658, 'loss': 0.023665886182646263, 'val_acc': 0.98999997806549067, 'val_loss': 0.027502264589071273}\n",
      ".......................76\n",
      "76 {'acc': 0.99272299541658893, 'loss': 0.023461740462916953, 'val_acc': 0.99049998474121093, 'val_loss': 0.027263873487710952}\n",
      ".......................77\n",
      "77 {'acc': 0.99276657015717651, 'loss': 0.023307317719912134, 'val_acc': 0.98999997806549067, 'val_loss': 0.027312939345836638}\n",
      ".......................78\n",
      "78 {'acc': 0.99289729590093689, 'loss': 0.023131982310140575, 'val_acc': 0.99049998474121093, 'val_loss': 0.027106434151530266}\n",
      ".......................79\n",
      "79 {'acc': 0.99267942105520213, 'loss': 0.022950362485221771, 'val_acc': 0.99099999141693118, 'val_loss': 0.026936671584844588}\n",
      ".......................80\n",
      "80 {'acc': 0.99307159543468559, 'loss': 0.022749435550394159, 'val_acc': 0.99049997806549073, 'val_loss': 0.0271103173494339}\n",
      ".......................81\n",
      "81 {'acc': 0.99281014599121287, 'loss': 0.022606046751444779, 'val_acc': 0.99049998474121093, 'val_loss': 0.026812936574220656}\n",
      ".......................82\n",
      "82 {'acc': 0.99281014556266411, 'loss': 0.022379495501125415, 'val_acc': 0.98999997806549067, 'val_loss': 0.026826073259115218}\n",
      ".......................83\n",
      "83 {'acc': 0.99294087049867485, 'loss': 0.02228978752753559, 'val_acc': 0.99049998474121093, 'val_loss': 0.026603641286492348}\n",
      ".......................84\n",
      "84 {'acc': 0.9929408695480757, 'loss': 0.022081843391580282, 'val_acc': 0.99099996232986454, 'val_loss': 0.026502892822027207}\n",
      ".......................85\n",
      "85 {'acc': 0.99307159529183597, 'loss': 0.021901483702676618, 'val_acc': 0.99049998474121093, 'val_loss': 0.026545689314603806}\n",
      ".......................86\n",
      "86 {'acc': 0.99315874382241198, 'loss': 0.02175932532666041, 'val_acc': 0.99099996232986454, 'val_loss': 0.026447189033031462}\n",
      ".......................87\n",
      "87 {'acc': 0.99298444552496168, 'loss': 0.021656327322547492, 'val_acc': 0.99050000715255737, 'val_loss': 0.026460972130298615}\n",
      ".......................88\n",
      "88 {'acc': 0.99324589453988554, 'loss': 0.021450444085233649, 'val_acc': 0.99099999141693118, 'val_loss': 0.026221975833177567}\n",
      ".......................89\n",
      "89 {'acc': 0.99333304378470955, 'loss': 0.021324197368025832, 'val_acc': 0.99099999141693118, 'val_loss': 0.026163755148649215}\n",
      ".......................90\n",
      "90 {'acc': 0.99355091915249472, 'loss': 0.021122420970505529, 'val_acc': 0.99049998474121093, 'val_loss': 0.026192023426294328}\n",
      ".......................91\n",
      "91 {'acc': 0.99337661947589628, 'loss': 0.021001940236486424, 'val_acc': 0.99099999141693118, 'val_loss': 0.026028215810656549}\n",
      ".......................92\n",
      "92 {'acc': 0.99350734412620789, 'loss': 0.020948878530219903, 'val_acc': 0.99050001382827757, 'val_loss': 0.026064252182841301}\n",
      ".......................93\n",
      "93 {'acc': 0.99342019355158395, 'loss': 0.02065966066434545, 'val_acc': 0.99049999141693112, 'val_loss': 0.025869241505861281}\n",
      ".......................94\n",
      "94 {'acc': 0.99363806877651939, 'loss': 0.020558752535022474, 'val_acc': 0.99099999141693118, 'val_loss': 0.025964643716812133}\n",
      ".......................95\n",
      "95 {'acc': 0.99368164394565583, 'loss': 0.020422524343751563, 'val_acc': 0.99099999141693118, 'val_loss': 0.025924378663301467}\n",
      ".......................96\n",
      "96 {'acc': 0.99389951836284174, 'loss': 0.020275591493391167, 'val_acc': 0.99049999141693112, 'val_loss': 0.025691517382860185}\n",
      ".......................97\n",
      "97 {'acc': 0.99376879328398138, 'loss': 0.02017625037783153, 'val_acc': 0.99049999141693112, 'val_loss': 0.025591694980859756}\n",
      ".......................98\n",
      "98 {'acc': 0.99394309281773019, 'loss': 0.020043422988311927, 'val_acc': 0.99049996232986448, 'val_loss': 0.025540421381592751}\n",
      ".......................99\n",
      "99 {'acc': 0.9937252185433938, 'loss': 0.019877716711103395, 'val_acc': 0.99099999141693118, 'val_loss': 0.025714648097753524}\n"
     ]
    }
   ],
   "source": [
    "history = model.fit(\n",
    "        X_train,\n",
    "        Y_train,\n",
    "        nb_epoch=300,\n",
    "        batch_size=1024,\n",
    "        #validation_data=(X_valid,Y_valid),\n",
    "        validation_split=0.33,\n",
    "        callbacks=[early_stop_cb, checkpoit_cb, batch_print_cb, plot_loss_cb],\n",
    "        verbose=0\n",
    "        )\n"
   ]
  },
  {
   "cell_type": "code",
   "execution_count": null,
   "metadata": {
    "collapsed": false,
    "deletable": true,
    "editable": true
   },
   "outputs": [],
   "source": []
  },
  {
   "cell_type": "code",
   "execution_count": 5,
   "metadata": {
    "collapsed": false,
    "deletable": true,
    "editable": true
   },
   "outputs": [
    {
     "name": "stdout",
     "output_type": "stream",
     "text": [
      "OOS acc: 99.10%\n",
      "OOS loss: 0.03\n"
     ]
    }
   ],
   "source": [
    "score=model.evaluate(X_valid,Y_valid, verbose=0)\n",
    "print(\"OOS %s: %.2f%%\" % (model.metrics_names[1], score[1]*100))\n",
    "print(\"OOS %s: %.2f\" % (model.metrics_names[0], score[0]))\n",
    "\n",
    "#print(\"min(val los)\",np.min(history.history['val_loss']))"
   ]
  },
  {
   "cell_type": "code",
   "execution_count": 6,
   "metadata": {
    "collapsed": false,
    "deletable": true,
    "editable": true
   },
   "outputs": [
    {
     "data": {
      "image/png": "[encoded data removed]",
      "text/plain": [
       "<matplotlib.figure.Figure at 0x7f7f42b74e10>"
      ]
     },
     "metadata": {},
     "output_type": "display_data"
    },
    {
     "data": {
      "image/png": "[encoded data removed]",
      "text/plain": [
       "<matplotlib.figure.Figure at 0x7f7f432b7610>"
      ]
     },
     "metadata": {},
     "output_type": "display_data"
    }
   ],
   "source": [
    "# summarize history for accuracy\n",
    "plt.plot(history.history['acc'])\n",
    "plt.plot(history.history['val_acc'])\n",
    "plt.title('model accuracy')\n",
    "plt.ylabel('accuracy')\n",
    "plt.xlabel('epoch')\n",
    "plt.legend(['train', 'val'], loc='lower right')\n",
    "plt.show()\n",
    "\n",
    "\n",
    "# summarize history for loss\n",
    "plt.plot(history.history['loss'])\n",
    "plt.plot(history.history['val_loss'])\n",
    "plt.title('model loss (log scale)')\n",
    "plt.ylabel('loss')\n",
    "plt.xlabel('epoch')\n",
    "plt.legend(['train', 'val'], loc='upper right')\n",
    "plt.yscale('log')\n",
    "plt.show()"
   ]
  },
  {
   "cell_type": "code",
   "execution_count": 7,
   "metadata": {
    "collapsed": true,
    "deletable": true,
    "editable": true
   },
   "outputs": [],
   "source": [
    "from keras.models import load_model\n",
    "from sklearn.metrics import log_loss\n",
    "\n",
    "model = load_model(\"ResNet-head-Dense2.h5\")\n",
    "with h5py.File(\"ResNet50-300x300_codes-test.h5\") as hf:\n",
    "     X_test = hf[\"X_test\"][:]\n"
   ]
  },
  {
   "cell_type": "code",
   "execution_count": 8,
   "metadata": {
    "collapsed": false,
    "deletable": true,
    "editable": true
   },
   "outputs": [
    {
     "name": "stdout",
     "output_type": "stream",
     "text": [
      "0.0197293185243\n",
      "0.0257146473853\n"
     ]
    }
   ],
   "source": [
    "Y_train_preds=model.predict(X_train)\n",
    "print(log_loss(Y_train,Y_train_preds))\n",
    "Y_valid_preds=model.predict(X_valid)\n",
    "print(log_loss(Y_valid,Y_valid_preds))"
   ]
  },
  {
   "cell_type": "code",
   "execution_count": 9,
   "metadata": {
    "collapsed": false,
    "deletable": true,
    "editable": true
   },
   "outputs": [
    {
     "name": "stdout",
     "output_type": "stream",
     "text": [
      "0.01 0.0338038361608\n",
      "0.02 0.0428599127205\n",
      "0.03 0.0522148580924\n",
      "0.04 0.0617933657486\n",
      "0.05 0.0715946517959\n",
      "0.06 0.0815958315395\n",
      "0.07 0.0917674249485\n",
      "0.08 0.102088050611\n",
      "0.09 0.112511019211\n",
      "0.01 0.0277817506332\n",
      "0.02 0.0368027210934\n",
      "0.03 0.0461583567202\n",
      "0.04 0.0557684585934\n",
      "0.05 0.0655785367798\n",
      "0.06 0.0755731418931\n",
      "0.07 0.0857064590752\n",
      "0.08 0.0959931560553\n",
      "0.09 0.106439248855\n"
     ]
    }
   ],
   "source": [
    "for i in range(1,10):\n",
    "    m=i/100.0\n",
    "    print(m,log_loss(Y_valid,Y_valid_preds.clip(min=m, max=1-m)))\n",
    "    \n",
    "for i in range(1,10):\n",
    "    m=i/100.0\n",
    "    print(m,log_loss(Y_train,Y_train_preds.clip(min=m, max=1-m)))\n"
   ]
  },
  {
   "cell_type": "code",
   "execution_count": 10,
   "metadata": {
    "collapsed": false,
    "deletable": true,
    "editable": true
   },
   "outputs": [
    {
     "name": "stdout",
     "output_type": "stream",
     "text": [
      "Found 12500 images belonging to 1 classes.\n"
     ]
    }
   ],
   "source": [
    "import re\n",
    "datagen = ImageDataGenerator()\n",
    "test_batches = datagen.flow_from_directory(\"test\", model.input_shape[1:3], shuffle=False, batch_size=32, class_mode=None)\n",
    "#test_codes = model.predict_generator(test_batches, test_batches.nb_sample)\n",
    "\n",
    "ids = [re.split('/|\\.',x)[1] for x in test_batches.filenames]\n"
   ]
  },
  {
   "cell_type": "code",
   "execution_count": 11,
   "metadata": {
    "collapsed": false,
    "deletable": true,
    "editable": true
   },
   "outputs": [],
   "source": [
    "Y_test = model.predict(X_test)"
   ]
  },
  {
   "cell_type": "code",
   "execution_count": 12,
   "metadata": {
    "collapsed": false,
    "deletable": true,
    "editable": true
   },
   "outputs": [],
   "source": [
    "Y_test_csv=np.column_stack((ids,Y_test[:,1]))\n",
    "np.savetxt('Y_test_ResNet-head-Dense2.csv',Y_test_csv, fmt=\"%s,%s\", header=(\"id,label\"),comments='')"
   ]
  },
  {
   "cell_type": "code",
   "execution_count": 13,
   "metadata": {
    "collapsed": false,
    "deletable": true,
    "editable": true
   },
   "outputs": [],
   "source": [
    "Y_test_csv=np.column_stack((ids,Y_test[:,1].clip(min=0.02, max=0.98)))\n",
    "np.savetxt('Y_test_ResNet-head-Dense2-clipped.csv',Y_test_csv, fmt=\"%s,%s\", header=(\"id,label\"),comments='')"
   ]
  },
  {
   "cell_type": "code",
   "execution_count": null,
   "metadata": {
    "collapsed": true,
    "deletable": true,
    "editable": true
   },
   "outputs": [],
   "source": []
  }
 ],
 "metadata": {
  "kernelspec": {
   "display_name": "Python 2",
   "language": "python",
   "name": "python2"
  },
  "language_info": {
   "codemirror_mode": {
    "name": "ipython",
    "version": 2
   },
   "file_extension": ".py",
   "mimetype": "text/x-python",
   "name": "python",
   "nbconvert_exporter": "python",
   "pygments_lexer": "ipython2",
   "version": "2.7.12"
  }
 },
 "nbformat": 4,
 "nbformat_minor": 2
}
