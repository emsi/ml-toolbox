{
 "cells": [
  {
   "cell_type": "code",
   "execution_count": 1,
   "metadata": {
    "collapsed": false,
    "deletable": true,
    "editable": true
   },
   "outputs": [
    {
     "name": "stderr",
     "output_type": "stream",
     "text": [
      "Using TensorFlow backend.\n"
     ]
    }
   ],
   "source": [
    "from __future__ import print_function\n",
    "from keras.preprocessing.image import ImageDataGenerator\n",
    "from keras.models import Sequential\n",
    "from keras.layers import Convolution2D, MaxPooling2D\n",
    "from keras.layers import Activation, Dropout, Flatten, Dense\n",
    "from keras.callbacks import ModelCheckpoint, EarlyStopping, LambdaCallback\n",
    "from keras.optimizers import Adam\n",
    "\n",
    "import numpy as np\n",
    "import matplotlib.pyplot as plt\n",
    "\n",
    "# reproducibility\n",
    "np.random.seed(31337)"
   ]
  },
  {
   "cell_type": "code",
   "execution_count": 2,
   "metadata": {
    "collapsed": false,
    "deletable": true,
    "editable": true
   },
   "outputs": [],
   "source": [
    "import h5py\n",
    "import numpy as np\n",
    "with h5py.File(\"ResNet50-300x300_codes-train.h5\") as hf:\n",
    "    X_train = hf[\"X_train\"][:]\n",
    "    Y_train = hf[\"Y_train\"][:]\n",
    "    X_valid = hf[\"X_valid\"][:]\n",
    "    Y_valid = hf[\"Y_valid\"][:]\n",
    "    \n",
    "\n",
    "# with h5py.File(\"ResNet50-300x300_codes-test.h5\") as hf:\n",
    "#      X_test = hf[\"X_test\"][:]\n"
   ]
  },
  {
   "cell_type": "code",
   "execution_count": null,
   "metadata": {
    "collapsed": false,
    "deletable": true,
    "editable": true
   },
   "outputs": [
    {
     "name": "stdout",
     "output_type": "stream",
     "text": [
      "____________________________________________________________________________________________________\n",
      "Layer (type)                     Output Shape          Param #     Connected to                     \n",
      "====================================================================================================\n",
      "dropout_1 (Dropout)              (None, 2048)          0           dropout_input_1[0][0]            \n",
      "____________________________________________________________________________________________________\n",
      "dense_1 (Dense)                  (None, 16)            32784       dropout_1[0][0]                  \n",
      "____________________________________________________________________________________________________\n",
      "dense_2 (Dense)                  (None, 2)             34          dense_1[0][0]                    \n",
      "====================================================================================================\n",
      "Total params: 32,818\n",
      "Trainable params: 32,818\n",
      "Non-trainable params: 0\n",
      "____________________________________________________________________________________________________\n"
     ]
    },
    {
     "data": {
      "text/plain": [
       "(2048,)"
      ]
     },
     "execution_count": 3,
     "metadata": {},
     "output_type": "execute_result"
    }
   ],
   "source": [
    "model = Sequential()\n",
    "model.add(Dropout(0.2, input_shape=(2048,)))\n",
    "model.add(Dense(16, activation='relu', input_dim=2048))\n",
    "# model.add(Dropout(0.5))\n",
    "model.add(Dense(2, input_dim=2048, activation=\"softmax\"))\n",
    "\n",
    "# Callbacks\n",
    "early_stop_cb = EarlyStopping(monitor='val_loss', patience=20, verbose=1)\n",
    "\n",
    "checkpoit_cb = ModelCheckpoint(\"ResNet-head-Dense2.h5\")#, save_best_only=True)\n",
    "\n",
    "# Print the batch number at the beginning of every batch.\n",
    "batch_print_cb = LambdaCallback(on_batch_begin=lambda batch, logs: print(\".\",end=''), \n",
    "                                on_epoch_end=lambda batch, logs: print(batch))\n",
    "\n",
    "# Plot the loss after every epoch.\n",
    "plot_loss_cb = LambdaCallback(on_epoch_end=lambda epoch, logs: \n",
    "                              print (epoch, logs))\n",
    "                              #plt.plot(np.arange(epoch), logs['loss']))\n",
    "\n",
    "\n",
    "model.compile(loss='categorical_crossentropy',\n",
    "              optimizer=Adam(lr=0.0001),\n",
    "              metrics=['accuracy'],\n",
    "             )\n",
    "\n",
    "model.summary()\n",
    "X_train.shape[1:]"
   ]
  },
  {
   "cell_type": "code",
   "execution_count": null,
   "metadata": {
    "collapsed": false,
    "deletable": true,
    "editable": true
   },
   "outputs": [
    {
     "name": "stdout",
     "output_type": "stream",
     "text": [
      ".......................0\n",
      "0 {'acc': 0.67593359300485489, 'loss': 0.61457940618313134, 'val_acc': 0.89399997568130496, 'val_loss': 0.36338787460327149}\n",
      ".......................1\n",
      "1 {'acc': 0.90335090938822271, 'loss': 0.29945019231008191, 'val_acc': 0.95949999952316289, 'val_loss': 0.17859927618503571}\n",
      ".......................2\n",
      "2 {'acc': 0.95385419957762141, 'loss': 0.16278603003308831, 'val_acc': 0.97500000095367434, 'val_loss': 0.10554605048894883}\n",
      ".......................3\n",
      "3 {'acc': 0.96880038364597731, 'loss': 0.10603578030982565, 'val_acc': 0.98049993801116941, 'val_loss': 0.0776646619439125}\n",
      ".......................4\n",
      "4 {'acc': 0.97363719627890344, 'loss': 0.084492036876603047, 'val_acc': 0.98299997377395631, 'val_loss': 0.064122485399246212}\n",
      ".......................5\n",
      "5 {'acc': 0.97816898444207012, 'loss': 0.070823171034587115, 'val_acc': 0.98599995136260987, 'val_loss': 0.056152971744537351}\n",
      ".......................6\n",
      "6 {'acc': 0.98087062750087495, 'loss': 0.061768968993438096, 'val_acc': 0.98749995803833013, 'val_loss': 0.050744062930345536}\n",
      ".......................7\n",
      "7 {'acc': 0.98100135253038723, 'loss': 0.057422725510153615, 'val_acc': 0.98849998712539677, 'val_loss': 0.046850246548652649}\n",
      ".......................8\n",
      "8 {'acc': 0.98296222204870942, 'loss': 0.053444723413806787, 'val_acc': 0.99000000715255743, 'val_loss': 0.043670082420110702}\n",
      ".......................9\n",
      "9 {'acc': 0.98400801896550272, 'loss': 0.049435298123357445, 'val_acc': 0.99050004291534421, 'val_loss': 0.040981411695480349}\n",
      ".......................10\n",
      "10 {'acc': 0.98453091799529779, 'loss': 0.046098258741590535, 'val_acc': 0.99000001382827763, 'val_loss': 0.038966536164283749}\n",
      ".......................11\n",
      "11 {'acc': 0.98562028979552829, 'loss': 0.04405201136071784, 'val_acc': 0.98999997806549067, 'val_loss': 0.037419356048107144}\n",
      ".......................12\n",
      "12 {'acc': 0.98609961446393646, 'loss': 0.041055606697201909, 'val_acc': 0.98949997806549073, 'val_loss': 0.035686745375394818}\n",
      ".......................13\n",
      "13 {'acc': 0.9858817390961514, 'loss': 0.039755726636431357, 'val_acc': 0.98999997138977047, 'val_loss': 0.034666725993156434}\n",
      ".......................14\n",
      "14 {'acc': 0.98596888857732656, 'loss': 0.039292676175544244, 'val_acc': 0.98899996471405027, 'val_loss': 0.033655499696731567}\n",
      ".......................15\n",
      "15 {'acc': 0.98723256076840338, 'loss': 0.036956852560464298, 'val_acc': 0.98949997138977053, 'val_loss': 0.032684226274490358}\n",
      ".......................16\n",
      "16 {'acc': 0.98714541085867935, 'loss': 0.035665777008796272, 'val_acc': 0.98949997138977053, 'val_loss': 0.031818817913532256}\n",
      ".......................17\n",
      "17 {'acc': 0.98814763274918593, 'loss': 0.035262142893536803, 'val_acc': 0.98999995565414434, 'val_loss': 0.030915387600660323}\n",
      ".......................18\n",
      "18 {'acc': 0.98736328513301574, 'loss': 0.034716253117869023, 'val_acc': 0.98999997806549067, 'val_loss': 0.030561524927616119}\n",
      ".......................19\n",
      "19 {'acc': 0.98858338134720658, 'loss': 0.03270174968794369, 'val_acc': 0.99049997138977053, 'val_loss': 0.030579168677330019}\n",
      ".......................20\n",
      "20 {'acc': 0.98893198136530325, 'loss': 0.032440573581985398, 'val_acc': 0.99049998474121093, 'val_loss': 0.029236781716346742}\n",
      ".......................21\n",
      "21 {'acc': 0.98893198188735365, 'loss': 0.032066336309956832, 'val_acc': 0.99049998474121093, 'val_loss': 0.028696366935968397}\n",
      ".......................22\n",
      "22 {'acc': 0.98949845427858829, 'loss': 0.030665232912968892, 'val_acc': 0.99049998474121093, 'val_loss': 0.028377530992031098}\n",
      ".......................23\n",
      "23 {'acc': 0.98954202849712547, 'loss': 0.030177960826238311, 'val_acc': 0.99050001382827757, 'val_loss': 0.0282885360121727}\n",
      ".......................24\n",
      "24 {'acc': 0.98945487968085033, 'loss': 0.029759511109065728, 'val_acc': 0.99049997806549073, 'val_loss': 0.028313495755195619}\n",
      ".......................25\n",
      "25 {'acc': 0.98949845375653789, 'loss': 0.029460283004413338, 'val_acc': 0.99049998474121093, 'val_loss': 0.027308471232652665}\n",
      ".......................26\n",
      "26 {'acc': 0.99054425176677996, 'loss': 0.028125168133930102, 'val_acc': 0.99049995565414428, 'val_loss': 0.02710224223136902}\n",
      ".......................27\n",
      "27 {'acc': 0.99041352740216759, 'loss': 0.027136366169360281, 'val_acc': 0.99049998474121093, 'val_loss': 0.026600414469838143}\n",
      ".......................28\n",
      "28 {'acc': 0.99089285002652794, 'loss': 0.027681378305576494, 'val_acc': 0.99049995565414428, 'val_loss': 0.026578229427337646}\n",
      ".......................29\n",
      "29 {'acc': 0.99054425190962958, 'loss': 0.026085847074324941, 'val_acc': 0.99050001382827757, 'val_loss': 0.026144895762205123}\n",
      ".......................30\n",
      "30 {'acc': 0.9906314018193535, 'loss': 0.027183422857495435, 'val_acc': 0.99049998474121093, 'val_loss': 0.026271811902523041}\n",
      ".......................31\n",
      "31 {'acc': 0.99050067688334276, 'loss': 0.025760223538568505, 'val_acc': 0.99049998474121093, 'val_loss': 0.025926584780216217}\n",
      "......................."
     ]
    }
   ],
   "source": [
    "history = model.fit(\n",
    "        X_train,\n",
    "        Y_train,\n",
    "        nb_epoch=100,\n",
    "        batch_size=1024,\n",
    "        validation_data=(X_valid,Y_valid),\n",
    "        callbacks=[early_stop_cb, checkpoit_cb, batch_print_cb, plot_loss_cb],\n",
    "        verbose=0\n",
    "        )\n"
   ]
  },
  {
   "cell_type": "code",
   "execution_count": null,
   "metadata": {
    "collapsed": false,
    "deletable": true,
    "editable": true
   },
   "outputs": [],
   "source": []
  },
  {
   "cell_type": "code",
   "execution_count": null,
   "metadata": {
    "collapsed": false,
    "deletable": true,
    "editable": true
   },
   "outputs": [],
   "source": [
    "score=model.evaluate(X_valid,Y_valid, verbose=0)\n",
    "print(\"OOS %s: %.2f%%\" % (model.metrics_names[1], score[1]*100))\n",
    "print(\"OOS %s: %.2f\" % (model.metrics_names[0], score[0]))\n",
    "\n",
    "#print(\"min(val los)\",np.min(history.history['val_loss']))"
   ]
  },
  {
   "cell_type": "code",
   "execution_count": null,
   "metadata": {
    "collapsed": false,
    "deletable": true,
    "editable": true
   },
   "outputs": [],
   "source": [
    "# summarize history for accuracy\n",
    "plt.plot(history.history['acc'])\n",
    "plt.plot(history.history['val_acc'])\n",
    "plt.title('model accuracy')\n",
    "plt.ylabel('accuracy')\n",
    "plt.xlabel('epoch')\n",
    "plt.legend(['train', 'val'], loc='lower right')\n",
    "plt.show()\n",
    "\n",
    "\n",
    "# summarize history for loss\n",
    "plt.plot(history.history['loss'])\n",
    "plt.plot(history.history['val_loss'])\n",
    "plt.title('model loss (log scale)')\n",
    "plt.ylabel('loss')\n",
    "plt.xlabel('epoch')\n",
    "plt.legend(['train', 'val'], loc='upper right')\n",
    "plt.yscale('log')\n",
    "plt.show()"
   ]
  },
  {
   "cell_type": "code",
   "execution_count": null,
   "metadata": {
    "collapsed": true,
    "deletable": true,
    "editable": true
   },
   "outputs": [],
   "source": [
    "from keras.models import load_model\n",
    "from sklearn.metrics import log_loss\n",
    "\n",
    "model = load_model(\"ResNet-head-Dense2.h5\")\n",
    "with h5py.File(\"ResNet50-300x300_codes-test.h5\") as hf:\n",
    "     X_test = hf[\"X_test\"][:]\n"
   ]
  },
  {
   "cell_type": "code",
   "execution_count": null,
   "metadata": {
    "collapsed": false,
    "deletable": true,
    "editable": true
   },
   "outputs": [],
   "source": [
    "Y_train_preds=model.predict(X_train)\n",
    "print(log_loss(Y_train,Y_train_preds))\n",
    "Y_valid_preds=model.predict(X_valid)\n",
    "print(log_loss(Y_valid,Y_valid_preds))"
   ]
  },
  {
   "cell_type": "code",
   "execution_count": null,
   "metadata": {
    "collapsed": false,
    "deletable": true,
    "editable": true
   },
   "outputs": [],
   "source": [
    "for i in range(1,10):\n",
    "    m=i/100.0\n",
    "    print(m,log_loss(Y_valid,Y_valid_preds.clip(min=m, max=1-m)))\n",
    "    \n",
    "for i in range(1,10):\n",
    "    m=i/100.0\n",
    "    print(m,log_loss(Y_train,Y_train_preds.clip(min=m, max=1-m)))\n"
   ]
  },
  {
   "cell_type": "code",
   "execution_count": null,
   "metadata": {
    "collapsed": false,
    "deletable": true,
    "editable": true
   },
   "outputs": [],
   "source": [
    "import re\n",
    "datagen = ImageDataGenerator()\n",
    "test_batches = datagen.flow_from_directory(\"test\", model.input_shape[1:3], shuffle=False, batch_size=32, class_mode=None)\n",
    "#test_codes = model.predict_generator(test_batches, test_batches.nb_sample)\n",
    "\n",
    "ids = [re.split('/|\\.',x)[1] for x in test_batches.filenames]\n"
   ]
  },
  {
   "cell_type": "code",
   "execution_count": null,
   "metadata": {
    "collapsed": false,
    "deletable": true,
    "editable": true
   },
   "outputs": [],
   "source": [
    "Y_test = model.predict(X_test)"
   ]
  },
  {
   "cell_type": "code",
   "execution_count": null,
   "metadata": {
    "collapsed": false,
    "deletable": true,
    "editable": true
   },
   "outputs": [],
   "source": [
    "Y_test_csv=np.column_stack((ids,Y_test[:,1]))\n",
    "np.savetxt('Y_test_ResNet-head-Dense2.csv',Y_test_csv, fmt=\"%s,%s\", header=(\"id,label\"),comments='')"
   ]
  },
  {
   "cell_type": "code",
   "execution_count": null,
   "metadata": {
    "collapsed": false,
    "deletable": true,
    "editable": true
   },
   "outputs": [],
   "source": [
    "Y_test_csv=np.column_stack((ids,Y_test[:,1].clip(min=0.02, max=0.98)))\n",
    "np.savetxt('Y_test_ResNet-head-Dense2-clipped.csv',Y_test_csv, fmt=\"%s,%s\", header=(\"id,label\"),comments='')"
   ]
  },
  {
   "cell_type": "code",
   "execution_count": null,
   "metadata": {
    "collapsed": true,
    "deletable": true,
    "editable": true
   },
   "outputs": [],
   "source": []
  }
 ],
 "metadata": {
  "kernelspec": {
   "display_name": "Python 2",
   "language": "python",
   "name": "python2"
  },
  "language_info": {
   "codemirror_mode": {
    "name": "ipython",
    "version": 2
   },
   "file_extension": ".py",
   "mimetype": "text/x-python",
   "name": "python",
   "nbconvert_exporter": "python",
   "pygments_lexer": "ipython2",
   "version": "2.7.12"
  }
 },
 "nbformat": 4,
 "nbformat_minor": 2
}
