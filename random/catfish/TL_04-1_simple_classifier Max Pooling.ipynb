{
 "cells": [
  {
   "cell_type": "code",
   "execution_count": 1,
   "metadata": {
    "collapsed": false,
    "deletable": true,
    "editable": true
   },
   "outputs": [
    {
     "name": "stderr",
     "output_type": "stream",
     "text": [
      "Using TensorFlow backend.\n"
     ]
    }
   ],
   "source": [
    "from __future__ import print_function\n",
    "from keras.preprocessing.image import ImageDataGenerator\n",
    "from keras.models import Sequential\n",
    "from keras.layers import Convolution2D, MaxPooling2D\n",
    "from keras.layers import Activation, Dropout, Flatten, Dense\n",
    "from keras.callbacks import ModelCheckpoint, EarlyStopping, LambdaCallback\n",
    "from keras.optimizers import Adam\n",
    "\n",
    "import numpy as np\n",
    "import matplotlib.pyplot as plt\n",
    "\n",
    "# reproducibility\n",
    "np.random.seed(31337)\n",
    "\n",
    "NAME=\"ResNet50-300x300-MaxPooling\""
   ]
  },
  {
   "cell_type": "code",
   "execution_count": 2,
   "metadata": {
    "collapsed": false,
    "deletable": true,
    "editable": true
   },
   "outputs": [],
   "source": [
    "import h5py\n",
    "import numpy as np\n",
    "with h5py.File(NAME+\"_codes-train.h5\") as hf:\n",
    "    X_train = hf[\"X_train\"][:]\n",
    "    Y_train = hf[\"Y_train\"][:]\n",
    "    X_valid = hf[\"X_valid\"][:]\n",
    "    Y_valid = hf[\"Y_valid\"][:]\n",
    "    \n",
    "\n",
    "with h5py.File(NAME+\"_codes-test.h5\") as hf:\n",
    "      X_test = hf[\"X_test\"][:]\n"
   ]
  },
  {
   "cell_type": "code",
   "execution_count": 3,
   "metadata": {
    "collapsed": false,
    "deletable": true,
    "editable": true
   },
   "outputs": [
    {
     "name": "stdout",
     "output_type": "stream",
     "text": [
      "____________________________________________________________________________________________________\n",
      "Layer (type)                     Output Shape          Param #     Connected to                     \n",
      "====================================================================================================\n",
      "dropout_1 (Dropout)              (None, 2048)          0           dropout_input_1[0][0]            \n",
      "____________________________________________________________________________________________________\n",
      "dense_1 (Dense)                  (None, 256)           524544      dropout_1[0][0]                  \n",
      "____________________________________________________________________________________________________\n",
      "dropout_2 (Dropout)              (None, 256)           0           dense_1[0][0]                    \n",
      "____________________________________________________________________________________________________\n",
      "dense_2 (Dense)                  (None, 2)             514         dropout_2[0][0]                  \n",
      "====================================================================================================\n",
      "Total params: 525,058\n",
      "Trainable params: 525,058\n",
      "Non-trainable params: 0\n",
      "____________________________________________________________________________________________________\n"
     ]
    },
    {
     "data": {
      "text/plain": [
       "(2048,)"
      ]
     },
     "execution_count": 3,
     "metadata": {},
     "output_type": "execute_result"
    }
   ],
   "source": [
    "model = Sequential()\n",
    "model.add(Dropout(0.5, input_shape=(2048,)))\n",
    "model.add(Dense(256, activation='relu', input_dim=2048))\n",
    "model.add(Dropout(0.5))\n",
    "model.add(Dense(2, activation=\"softmax\"))\n",
    "\n",
    "# Callbacks\n",
    "early_stop_cb = EarlyStopping(monitor='val_loss', patience=20, verbose=1)\n",
    "\n",
    "checkpoit_cb = ModelCheckpoint(NAME+\"-head-Droput0.5-Dense256-Dropout.5-Dense2.h5\")#, save_best_only=True)\n",
    "\n",
    "# Print the batch number at the beginning of every batch.\n",
    "batch_print_cb = LambdaCallback(on_batch_begin=lambda batch, logs: print(\".\",end=''), \n",
    "                                on_epoch_end=lambda batch, logs: print(batch))\n",
    "\n",
    "# Plot the loss after every epoch.\n",
    "plot_loss_cb = LambdaCallback(on_epoch_end=lambda epoch, logs: \n",
    "                              print (epoch, logs))\n",
    "                              #plt.plot(np.arange(epoch), logs['loss']))\n",
    "\n",
    "\n",
    "model.compile(loss='categorical_crossentropy',\n",
    "              optimizer=Adam(lr=0.0001),\n",
    "              metrics=['accuracy'],\n",
    "             )\n",
    "\n",
    "model.summary()\n",
    "X_train.shape[1:]"
   ]
  },
  {
   "cell_type": "code",
   "execution_count": 4,
   "metadata": {
    "collapsed": false,
    "deletable": true,
    "editable": true
   },
   "outputs": [
    {
     "name": "stdout",
     "output_type": "stream",
     "text": [
      ".......................0\n",
      "0 {'acc': 0.80644036800317287, 'loss': 0.45093796398871977, 'val_acc': 0.97499997806549077, 'val_loss': 0.073657757252454756}\n",
      ".......................1\n",
      "1 {'acc': 0.94731796525434664, 'loss': 0.14339060077663757, 'val_acc': 0.98850000476837163, 'val_loss': 0.043811898857355119}\n",
      ".......................2\n",
      "2 {'acc': 0.96466076943374546, 'loss': 0.097721164102395675, 'val_acc': 0.98949997806549073, 'val_loss': 0.035184177577495576}\n",
      ".......................3\n",
      "3 {'acc': 0.96858250908594179, 'loss': 0.084874869282832416, 'val_acc': 0.99049997806549073, 'val_loss': 0.031402944236993788}\n",
      ".......................4\n",
      "4 {'acc': 0.97363719656460268, 'loss': 0.076635909054889845, 'val_acc': 0.99049997806549073, 'val_loss': 0.028966330289840699}\n",
      ".......................5\n",
      "5 {'acc': 0.97633883862346027, 'loss': 0.064427709009303072, 'val_acc': 0.99050000715255737, 'val_loss': 0.027198798865079879}\n",
      ".......................6\n",
      "6 {'acc': 0.97795111002488422, 'loss': 0.063583494753750636, 'val_acc': 0.99100000715255743, 'val_loss': 0.026740831673145293}\n",
      ".......................7\n",
      "7 {'acc': 0.97829970880668249, 'loss': 0.058683487947737555, 'val_acc': 0.99050000047683717, 'val_loss': 0.027382925570011138}\n",
      ".......................8\n",
      "8 {'acc': 0.98017342936587992, 'loss': 0.05629744557570053, 'val_acc': 0.99099995565414434, 'val_loss': 0.025201029196381571}\n",
      ".......................9\n",
      "9 {'acc': 0.98047845383563947, 'loss': 0.053737960303089208, 'val_acc': 0.99149998474121093, 'val_loss': 0.02454887929558754}\n",
      ".......................10\n",
      "10 {'acc': 0.98187284981993017, 'loss': 0.05329609363121874, 'val_acc': 0.99049997806549073, 'val_loss': 0.025005382865667343}\n",
      ".......................11\n",
      "11 {'acc': 0.98379014483401606, 'loss': 0.047561421847707321, 'val_acc': 0.99049997806549073, 'val_loss': 0.024766222536563874}\n",
      ".......................12\n",
      "12 {'acc': 0.98370299506714165, 'loss': 0.047232113563829767, 'val_acc': 0.99099994897842403, 'val_loss': 0.024292704582214355}\n",
      ".......................13\n",
      "13 {'acc': 0.98191642398911938, 'loss': 0.049146344550263989, 'val_acc': 0.99050000047683717, 'val_loss': 0.025142980456352233}\n",
      ".......................14\n",
      "14 {'acc': 0.9832236710636334, 'loss': 0.044885875091402766, 'val_acc': 0.99149997806549073, 'val_loss': 0.024381492406129836}\n",
      ".......................15\n",
      "15 {'acc': 0.98426946855182507, 'loss': 0.045394585351444465, 'val_acc': 0.99149997806549073, 'val_loss': 0.024431747838854791}\n",
      ".......................16\n",
      "16 {'acc': 0.9834415454808193, 'loss': 0.046474038189408297, 'val_acc': 0.99099997806549067, 'val_loss': 0.024561455190181731}\n",
      ".......................17\n",
      "17 {'acc': 0.98400801925120196, 'loss': 0.044916554418941108, 'val_acc': 0.99099997138977047, 'val_loss': 0.024625039815902711}\n",
      ".......................18\n",
      "18 {'acc': 0.983964443939216, 'loss': 0.043200812949289492, 'val_acc': 0.99099997138977047, 'val_loss': 0.024013401657342909}\n",
      ".......................19\n",
      "19 {'acc': 0.98448734282616146, 'loss': 0.041679464760450105, 'val_acc': 0.99099997138977047, 'val_loss': 0.023967293173074722}\n",
      ".......................20\n",
      "20 {'acc': 0.985184541104006, 'loss': 0.040214446485980833, 'val_acc': 0.99099997138977047, 'val_loss': 0.023662266328930856}\n",
      ".......................21\n",
      "21 {'acc': 0.98514096650626803, 'loss': 0.039792430908808581, 'val_acc': 0.99149997138977053, 'val_loss': 0.024756906479597093}\n",
      ".......................22\n",
      "22 {'acc': 0.98544599054747872, 'loss': 0.038203505013582675, 'val_acc': 0.99099997806549067, 'val_loss': 0.022760649442672729}\n",
      ".......................23\n",
      "23 {'acc': 0.98596888843447694, 'loss': 0.037737738217560622, 'val_acc': 0.99149997138977053, 'val_loss': 0.023778466641902925}\n",
      ".......................24\n",
      "24 {'acc': 0.98710183583239264, 'loss': 0.036032149894238093, 'val_acc': 0.99149997138977053, 'val_loss': 0.024781521201133729}\n",
      ".......................25\n",
      "25 {'acc': 0.98609961241988853, 'loss': 0.03792955659359435, 'val_acc': 0.99099997138977047, 'val_loss': 0.023465090006589889}\n",
      ".......................26\n",
      "26 {'acc': 0.98731971039242816, 'loss': 0.03490793238663794, 'val_acc': 0.99099997806549067, 'val_loss': 0.022894337520003319}\n",
      ".......................27\n",
      "27 {'acc': 0.98631748821622245, 'loss': 0.037407783170270582, 'val_acc': 0.99149997138977053, 'val_loss': 0.02406880521774292}\n",
      ".......................28\n",
      "28 {'acc': 0.98705826094895543, 'loss': 0.033214625303439001, 'val_acc': 0.99150000047683717, 'val_loss': 0.023954637467861174}\n",
      ".......................29\n",
      "29 {'acc': 0.98596888814877781, 'loss': 0.037096612404287965, 'val_acc': 0.99149997138977053, 'val_loss': 0.023511901453137397}\n",
      ".......................30\n",
      "30 {'acc': 0.98670966202430754, 'loss': 0.035533211351803241, 'val_acc': 0.99149997138977053, 'val_loss': 0.024023303508758545}\n",
      ".......................31\n",
      "31 {'acc': 0.98801690852742319, 'loss': 0.035647945890793266, 'val_acc': 0.99199995565414434, 'val_loss': 0.022537823617458343}\n",
      ".......................32\n",
      "32 {'acc': 0.98736328541871499, 'loss': 0.034284857727557676, 'val_acc': 0.99149997138977053, 'val_loss': 0.0237538543343544}\n",
      ".......................33\n",
      "33 {'acc': 0.98775545879825122, 'loss': 0.033161095178969063, 'val_acc': 0.99099997806549067, 'val_loss': 0.022930716320872308}\n",
      ".......................34\n",
      "34 {'acc': 0.98862695718124294, 'loss': 0.031306086034715741, 'val_acc': 0.99149997138977053, 'val_loss': 0.023872280091047287}\n",
      ".......................35\n",
      "35 {'acc': 0.98792975861769916, 'loss': 0.032846340392500943, 'val_acc': 0.99150000047683717, 'val_loss': 0.024236527591943741}\n",
      ".......................36\n",
      "36 {'acc': 0.98801690838457357, 'loss': 0.032318518208388103, 'val_acc': 0.99099997138977047, 'val_loss': 0.022824499398469925}\n",
      ".......................37\n",
      "37 {'acc': 0.98871410694811734, 'loss': 0.030822643552093503, 'val_acc': 0.99149997138977053, 'val_loss': 0.02422050440311432}\n",
      ".......................38\n",
      "38 {'acc': 0.98788618359141234, 'loss': 0.032084242972834312, 'val_acc': 0.99100000047683712, 'val_loss': 0.023166073456406592}\n",
      ".......................39\n",
      "39 {'acc': 0.98810405786574873, 'loss': 0.031813532523747558, 'val_acc': 0.99149997806549073, 'val_loss': 0.022947862118482591}\n",
      ".......................40\n",
      "40 {'acc': 0.9885398071286694, 'loss': 0.030664989617699253, 'val_acc': 0.99150000047683717, 'val_loss': 0.023495952486991881}\n",
      ".......................41\n",
      "41 {'acc': 0.98814763246348669, 'loss': 0.03190600746786669, 'val_acc': 0.99099997138977047, 'val_loss': 0.022783542886376382}\n",
      ".......................42\n",
      "42 {'acc': 0.98832193299718263, 'loss': 0.030206045314093016, 'val_acc': 0.99100000047683712, 'val_loss': 0.022478218644857408}\n",
      ".......................43\n",
      "43 {'acc': 0.98888840619616691, 'loss': 0.029827633059034811, 'val_acc': 0.99149997138977053, 'val_loss': 0.023067831933498383}\n",
      ".......................44\n",
      "44 {'acc': 0.98836550788061983, 'loss': 0.031516458873997677, 'val_acc': 0.99050000047683717, 'val_loss': 0.021918022990226747}\n",
      ".......................45\n",
      "45 {'acc': 0.98884483188412808, 'loss': 0.030528718286092736, 'val_acc': 0.99150000047683717, 'val_loss': 0.022883676677942277}\n",
      ".......................46\n",
      "46 {'acc': 0.98919343038022722, 'loss': 0.029376999063192407, 'val_acc': 0.99050000047683717, 'val_loss': 0.022357505843043326}\n",
      ".......................47\n",
      "47 {'acc': 0.98836550773777021, 'loss': 0.029185584364543736, 'val_acc': 0.99049997138977053, 'val_loss': 0.022877760648727416}\n",
      ".......................48\n",
      "48 {'acc': 0.98980347765489907, 'loss': 0.0285113366604237, 'val_acc': 0.99099998474121098, 'val_loss': 0.02217436444759369}\n",
      ".......................49\n",
      "49 {'acc': 0.98980347874834784, 'loss': 0.027538857382876696, 'val_acc': 0.99150000715255737, 'val_loss': 0.023461646556854249}\n"
     ]
    }
   ],
   "source": [
    "history = model.fit(\n",
    "        X_train,\n",
    "        Y_train,\n",
    "        nb_epoch=50,\n",
    "        batch_size=1024,\n",
    "        validation_data=(X_valid,Y_valid),\n",
    "        callbacks=[early_stop_cb, checkpoit_cb, batch_print_cb, plot_loss_cb],\n",
    "        verbose=0\n",
    "        )\n"
   ]
  },
  {
   "cell_type": "code",
   "execution_count": null,
   "metadata": {
    "collapsed": false,
    "deletable": true,
    "editable": true
   },
   "outputs": [],
   "source": []
  },
  {
   "cell_type": "code",
   "execution_count": 5,
   "metadata": {
    "collapsed": false,
    "deletable": true,
    "editable": true
   },
   "outputs": [
    {
     "name": "stdout",
     "output_type": "stream",
     "text": [
      "OOS acc: 99.15%\n",
      "OOS loss: 0.02\n"
     ]
    }
   ],
   "source": [
    "score=model.evaluate(X_valid,Y_valid, verbose=0)\n",
    "print(\"OOS %s: %.2f%%\" % (model.metrics_names[1], score[1]*100))\n",
    "print(\"OOS %s: %.2f\" % (model.metrics_names[0], score[0]))\n",
    "\n",
    "#print(\"min(val los)\",np.min(history.history['val_loss']))"
   ]
  },
  {
   "cell_type": "code",
   "execution_count": 6,
   "metadata": {
    "collapsed": false,
    "deletable": true,
    "editable": true
   },
   "outputs": [
    {
     "data": {
      "image/png": "[encoded data removed]",
      "text/plain": [
       "<matplotlib.figure.Figure at 0x7f1e2dd59310>"
      ]
     },
     "metadata": {},
     "output_type": "display_data"
    },
    {
     "data": {
      "image/png": "[encoded data removed]",
      "text/plain": [
       "<matplotlib.figure.Figure at 0x7f1e2dc66f90>"
      ]
     },
     "metadata": {},
     "output_type": "display_data"
    }
   ],
   "source": [
    "# summarize history for accuracy\n",
    "plt.plot(history.history['acc'])\n",
    "plt.plot(history.history['val_acc'])\n",
    "plt.title('model accuracy')\n",
    "plt.ylabel('accuracy')\n",
    "plt.xlabel('epoch')\n",
    "plt.legend(['train', 'val'], loc='lower right')\n",
    "plt.show()\n",
    "\n",
    "\n",
    "# summarize history for loss\n",
    "plt.plot(history.history['loss'])\n",
    "plt.plot(history.history['val_loss'])\n",
    "plt.title('model loss (log scale)')\n",
    "plt.ylabel('loss')\n",
    "plt.xlabel('epoch')\n",
    "plt.legend(['train', 'val'], loc='upper right')\n",
    "plt.yscale('log')\n",
    "plt.show()"
   ]
  },
  {
   "cell_type": "code",
   "execution_count": 7,
   "metadata": {
    "collapsed": true,
    "deletable": true,
    "editable": true
   },
   "outputs": [],
   "source": [
    "from keras.models import load_model\n",
    "from sklearn.metrics import log_loss\n",
    "\n",
    "model = load_model(NAME+\"-head-Droput0.5-Dense256-Dropout.5-Dense2.h5\")\n"
   ]
  },
  {
   "cell_type": "code",
   "execution_count": 8,
   "metadata": {
    "collapsed": false,
    "deletable": true,
    "editable": true
   },
   "outputs": [
    {
     "name": "stdout",
     "output_type": "stream",
     "text": [
      "0.0143592754212\n",
      "0.0234616376284\n"
     ]
    }
   ],
   "source": [
    "Y_train_preds=model.predict(X_train)\n",
    "print(log_loss(Y_train,Y_train_preds))\n",
    "Y_valid_preds=model.predict(X_valid)\n",
    "print(log_loss(Y_valid,Y_valid_preds))"
   ]
  },
  {
   "cell_type": "code",
   "execution_count": 9,
   "metadata": {
    "collapsed": false,
    "deletable": true,
    "editable": true
   },
   "outputs": [
    {
     "name": "stdout",
     "output_type": "stream",
     "text": [
      "0.01 0.0321456473684\n",
      "0.02 0.041494461746\n",
      "0.03 0.0511184415594\n",
      "0.04 0.0609662800375\n",
      "0.05 0.0708618669771\n",
      "0.06 0.0809210601151\n",
      "0.07 0.091142297782\n",
      "0.08 0.101459532414\n",
      "0.09 0.111856189772\n",
      "0.01 0.0229834840058\n",
      "0.02 0.0323288478424\n",
      "0.03 0.0419748284103\n",
      "0.04 0.0518049377012\n",
      "0.05 0.0618038355705\n",
      "0.06 0.0719611802978\n",
      "0.07 0.0822600154233\n",
      "0.08 0.0926996149911\n",
      "0.09 0.103272747252\n"
     ]
    }
   ],
   "source": [
    "for i in range(1,10):\n",
    "    m=i/100.0\n",
    "    print(m,log_loss(Y_valid,Y_valid_preds.clip(min=m, max=1-m)))\n",
    "    \n",
    "for i in range(1,10):\n",
    "    m=i/100.0\n",
    "    print(m,log_loss(Y_train,Y_train_preds.clip(min=m, max=1-m)))\n"
   ]
  },
  {
   "cell_type": "code",
   "execution_count": 10,
   "metadata": {
    "collapsed": false,
    "deletable": true,
    "editable": true
   },
   "outputs": [
    {
     "name": "stdout",
     "output_type": "stream",
     "text": [
      "Found 12500 images belonging to 1 classes.\n"
     ]
    }
   ],
   "source": [
    "import re\n",
    "datagen = ImageDataGenerator()\n",
    "test_batches = datagen.flow_from_directory(\"test\", model.input_shape[1:3], shuffle=False, batch_size=32, class_mode=None)\n",
    "\n",
    "ids = [re.split('/|\\.',x)[1] for x in test_batches.filenames]\n"
   ]
  },
  {
   "cell_type": "code",
   "execution_count": 11,
   "metadata": {
    "collapsed": false,
    "deletable": true,
    "editable": true
   },
   "outputs": [],
   "source": [
    "Y_test = model.predict(X_test)\n"
   ]
  },
  {
   "cell_type": "code",
   "execution_count": 12,
   "metadata": {
    "collapsed": false,
    "deletable": true,
    "editable": true
   },
   "outputs": [],
   "source": [
    "Y_test_csv=np.column_stack((ids,Y_test[:,1]))\n",
    "np.savetxt('Y_test_'+NAME+'-head-Droput0.5-Dense256-Dropout.5-Dense2.csv',Y_test_csv, fmt=\"%s,%s\", header=(\"id,label\"),comments='')"
   ]
  },
  {
   "cell_type": "code",
   "execution_count": 13,
   "metadata": {
    "collapsed": false,
    "deletable": true,
    "editable": true
   },
   "outputs": [],
   "source": [
    "Y_test_csv=np.column_stack((ids,Y_test[:,1].clip(min=0.02, max=0.98)))\n",
    "np.savetxt('Y_test_'+NAME+'-head-Droput0.5-Dense256-Dropout.5-Dense2-clipped.csv',Y_test_csv, fmt=\"%s,%s\", header=(\"id,label\"),comments='')"
   ]
  },
  {
   "cell_type": "code",
   "execution_count": null,
   "metadata": {
    "collapsed": true,
    "deletable": true,
    "editable": true
   },
   "outputs": [],
   "source": []
  }
 ],
 "metadata": {
  "kernelspec": {
   "display_name": "Python 2",
   "language": "python",
   "name": "python2"
  },
  "language_info": {
   "codemirror_mode": {
    "name": "ipython",
    "version": 2
   },
   "file_extension": ".py",
   "mimetype": "text/x-python",
   "name": "python",
   "nbconvert_exporter": "python",
   "pygments_lexer": "ipython2",
   "version": "2.7.12"
  }
 },
 "nbformat": 4,
 "nbformat_minor": 2
}
