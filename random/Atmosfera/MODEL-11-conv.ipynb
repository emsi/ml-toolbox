{
 "cells": [
  {
   "cell_type": "code",
   "execution_count": 1,
   "metadata": {},
   "outputs": [
    {
     "name": "stderr",
     "output_type": "stream",
     "text": [
      "Using TensorFlow backend.\n"
     ]
    }
   ],
   "source": [
    "from __future__ import print_function\n",
    "\n",
    "import numpy as np\n",
    "from keras.datasets import imdb\n",
    "from keras.models import Sequential, Model\n",
    "from keras.layers import Dense, Input\n",
    "from keras.layers import LSTM, Convolution1D, MaxPooling1D, GlobalAveragePooling1D, concatenate, Lambda, BatchNormalization\n",
    "from keras.layers import Dropout\n",
    "from keras.layers.convolutional import Conv1D\n",
    "from keras.layers.convolutional import MaxPooling1D\n",
    "from keras.layers.embeddings import Embedding\n",
    "from keras.preprocessing import sequence\n",
    "from six.moves import cPickle as pickle\n",
    "from keras.utils.np_utils import to_categorical\n",
    "from keras.callbacks import ModelCheckpoint, EarlyStopping, LambdaCallback\n",
    "\n",
    "import matplotlib.pyplot as plt\n",
    "\n",
    "# fix random seed for reproducibility\n",
    "seed=7\n",
    "np.random.seed(seed)\n",
    "import tensorflow as tf\n",
    "tf.set_random_seed(seed)\n",
    "\n",
    "NAME=\"MODEL-11-conv-1.0\"\n",
    "split_valid_test=False"
   ]
  },
  {
   "cell_type": "markdown",
   "metadata": {},
   "source": [
    "```\n",
    "# Read data\n",
    "with open(\"Atmosfera-Incidents-2017.pickle\", 'rb') as f:\n",
    "    incidents = pickle.load(f)\n",
    "# Skonwertuj root_service do intów i zapisz \n",
    "Y=[int(i) for i in incidents[1:,3]]\n",
    "with open(\"Y.pickle\", 'wb') as f:\n",
    "    pickle.dump(Y, f, pickle.HIGHEST_PROTOCOL)\n",
    "```"
   ]
  },
  {
   "cell_type": "code",
   "execution_count": 2,
   "metadata": {
    "collapsed": true
   },
   "outputs": [],
   "source": [
    "# Dane wejściowe\n",
    "with open(\"X-sequences.pickle\", 'rb') as f:\n",
    "    X = pickle.load(f)\n",
    "with open(\"Y.pickle\", 'rb') as f:\n",
    "    Y = pickle.load(f)\n",
    "    "
   ]
  },
  {
   "cell_type": "code",
   "execution_count": 3,
   "metadata": {
    "collapsed": true
   },
   "outputs": [],
   "source": [
    "# Zostaw tylko poniższe kategorie, pozostale zmień na -1\n",
    "lista = [2183, \n",
    "         #325, \n",
    "         37, 859, 2655, 606, 412, 2729, 1683, 1305]\n",
    "# Y=[y if y in lista else -1 for y in Y]\n",
    "mask = [y in lista for y in Y]\n",
    "\n",
    "import itertools\n",
    "X = np.array(list(itertools.compress(X, mask)))\n",
    "Y = np.array(list(itertools.compress(Y, mask)))"
   ]
  },
  {
   "cell_type": "code",
   "execution_count": 4,
   "metadata": {},
   "outputs": [
    {
     "data": {
      "text/plain": [
       "array([  37,  412,  606,  859, 1305, 1683, 2183, 2655, 2729])"
      ]
     },
     "execution_count": 4,
     "metadata": {},
     "output_type": "execute_result"
    }
   ],
   "source": [
    "np.unique(Y)"
   ]
  },
  {
   "cell_type": "markdown",
   "metadata": {},
   "source": [
    "W tej wersji eksperymentu, Y zawiera root_service - 44 unikalne kategorie główne. \n",
    "Zamieńmy je na liczby z przedziału 0-43"
   ]
  },
  {
   "cell_type": "code",
   "execution_count": 5,
   "metadata": {
    "collapsed": true
   },
   "outputs": [],
   "source": [
    "root_services=np.sort(np.unique(Y))\n",
    "# skonstruuj odwrtotny indeks kategorii głównych\n",
    "services_idx={root_services[i]: i for i in range(len(root_services))}"
   ]
  },
  {
   "cell_type": "code",
   "execution_count": 6,
   "metadata": {
    "collapsed": true
   },
   "outputs": [],
   "source": [
    "# Zamień \n",
    "Y=[services_idx[y] for y in Y]"
   ]
  },
  {
   "cell_type": "code",
   "execution_count": 7,
   "metadata": {},
   "outputs": [
    {
     "data": {
      "text/plain": [
       "(14830, 9)"
      ]
     },
     "execution_count": 7,
     "metadata": {},
     "output_type": "execute_result"
    }
   ],
   "source": [
    "Y=to_categorical(Y)\n",
    "Y.shape"
   ]
  },
  {
   "cell_type": "code",
   "execution_count": 8,
   "metadata": {},
   "outputs": [
    {
     "name": "stdout",
     "output_type": "stream",
     "text": [
      "9\n"
     ]
    }
   ],
   "source": [
    "top_words = 5000\n",
    "classes=Y[0,].shape[0]\n",
    "print(classes)"
   ]
  },
  {
   "cell_type": "code",
   "execution_count": 9,
   "metadata": {
    "collapsed": true
   },
   "outputs": [],
   "source": [
    "# max_length (98th percentile is 476), padd the rest\n",
    "max_length=500\n",
    "X=sequence.pad_sequences(X, maxlen=max_length)\n",
    "\n"
   ]
  },
  {
   "cell_type": "markdown",
   "metadata": {},
   "source": [
    "# slice in half even/odds to nulify time differencies\n",
    "X_train=X[0:][::2] # even\n",
    "X_test=X[1:][::2] # odds\n",
    "\n",
    "Y_train=np.array(Y[0:][::2]) # even\n",
    "Y_test=np.array(Y[1:][::2]) # odds\n",
    "\n",
    "if split_valid_test:\n",
    "    # Split \"test\" in half for validation and final testing\n",
    "    X_valid=X_test[:len(X_test)/2]\n",
    "    Y_valid=Y_test[:len(Y_test)/2]\n",
    "    X_test=X_test[len(X_test)/2:]\n",
    "    Y_test=Y_test[len(Y_test)/2:]\n",
    "else:\n",
    "    X_valid=X_test\n",
    "    Y_valid=Y_test"
   ]
  },
  {
   "cell_type": "code",
   "execution_count": 10,
   "metadata": {},
   "outputs": [
    {
     "name": "stdout",
     "output_type": "stream",
     "text": [
      "____________________________________________________________________________________________________\n",
      "Layer (type)                     Output Shape          Param #     Connected to                     \n",
      "====================================================================================================\n",
      "input (InputLayer)               (None, 500)           0                                            \n",
      "____________________________________________________________________________________________________\n",
      "embedding_1 (Embedding)          (None, 500, 60)       300000      input[0][0]                      \n",
      "____________________________________________________________________________________________________\n",
      "conv1d_1 (Conv1D)                (None, 500, 128)      7808        embedding_1[0][0]                \n",
      "____________________________________________________________________________________________________\n",
      "conv1d_2 (Conv1D)                (None, 500, 128)      15488       embedding_1[0][0]                \n",
      "____________________________________________________________________________________________________\n",
      "conv1d_3 (Conv1D)                (None, 500, 128)      23168       embedding_1[0][0]                \n",
      "____________________________________________________________________________________________________\n",
      "conv1d_4 (Conv1D)                (None, 500, 128)      30848       embedding_1[0][0]                \n",
      "____________________________________________________________________________________________________\n",
      "conv1d_5 (Conv1D)                (None, 500, 32)       9632        embedding_1[0][0]                \n",
      "____________________________________________________________________________________________________\n",
      "conv1d_6 (Conv1D)                (None, 500, 32)       11552       embedding_1[0][0]                \n",
      "____________________________________________________________________________________________________\n",
      "global_average_pooling1d_1 (Glob (None, 128)           0           conv1d_1[0][0]                   \n",
      "____________________________________________________________________________________________________\n",
      "global_average_pooling1d_2 (Glob (None, 128)           0           conv1d_2[0][0]                   \n",
      "____________________________________________________________________________________________________\n",
      "global_average_pooling1d_3 (Glob (None, 128)           0           conv1d_3[0][0]                   \n",
      "____________________________________________________________________________________________________\n",
      "global_average_pooling1d_4 (Glob (None, 128)           0           conv1d_4[0][0]                   \n",
      "____________________________________________________________________________________________________\n",
      "global_average_pooling1d_5 (Glob (None, 32)            0           conv1d_5[0][0]                   \n",
      "____________________________________________________________________________________________________\n",
      "global_average_pooling1d_6 (Glob (None, 32)            0           conv1d_6[0][0]                   \n",
      "____________________________________________________________________________________________________\n",
      "concatenate_1 (Concatenate)      (None, 576)           0           global_average_pooling1d_1[0][0] \n",
      "                                                                   global_average_pooling1d_2[0][0] \n",
      "                                                                   global_average_pooling1d_3[0][0] \n",
      "                                                                   global_average_pooling1d_4[0][0] \n",
      "                                                                   global_average_pooling1d_5[0][0] \n",
      "                                                                   global_average_pooling1d_6[0][0] \n",
      "____________________________________________________________________________________________________\n",
      "dropout_1 (Dropout)              (None, 576)           0           concatenate_1[0][0]              \n",
      "____________________________________________________________________________________________________\n",
      "batch_normalization_1 (BatchNorm (None, 576)           2304        dropout_1[0][0]                  \n",
      "____________________________________________________________________________________________________\n",
      "dense_1 (Dense)                  (None, 300)           173100      batch_normalization_1[0][0]      \n",
      "____________________________________________________________________________________________________\n",
      "dropout_2 (Dropout)              (None, 300)           0           dense_1[0][0]                    \n",
      "____________________________________________________________________________________________________\n",
      "batch_normalization_2 (BatchNorm (None, 300)           1200        dropout_2[0][0]                  \n",
      "____________________________________________________________________________________________________\n",
      "dense_2 (Dense)                  (None, 9)             2709        batch_normalization_2[0][0]      \n",
      "====================================================================================================\n",
      "Total params: 577,809\n",
      "Trainable params: 576,057\n",
      "Non-trainable params: 1,752\n",
      "____________________________________________________________________________________________________\n",
      "None\n",
      "done\n"
     ]
    }
   ],
   "source": [
    "# create the model\n",
    "embedding_vecor_length = 60\n",
    "\n",
    "_input = Input(shape=(max_length,), name='input')\n",
    "embedding=Embedding(top_words, embedding_vecor_length, input_length=max_length)(_input)\n",
    "\n",
    "conv1 = Conv1D(filters=128, kernel_size=1, padding='same', activation='relu')\n",
    "conv2 = Conv1D(filters=128, kernel_size=2, padding='same', activation='relu')\n",
    "conv3 = Conv1D(filters=128, kernel_size=3, padding='same', activation='relu')\n",
    "conv4 = Conv1D(filters=128, kernel_size=4, padding='same', activation='relu')\n",
    "conv5 = Conv1D(filters=32, kernel_size=5, padding='same', activation='relu')\n",
    "conv6 = Conv1D(filters=32, kernel_size=6, padding='same', activation='relu')\n",
    "\n",
    "conv1 = conv1(embedding)\n",
    "glob1 = GlobalAveragePooling1D()(conv1)\n",
    "conv2 = conv2(embedding)\n",
    "glob2 = GlobalAveragePooling1D()(conv2)\n",
    "conv3 = conv3(embedding)\n",
    "glob3 = GlobalAveragePooling1D()(conv3)\n",
    "conv4 = conv4(embedding)\n",
    "glob4 = GlobalAveragePooling1D()(conv4)\n",
    "conv5 = conv5(embedding)\n",
    "glob5 = GlobalAveragePooling1D()(conv5)\n",
    "conv6 = conv6(embedding)\n",
    "glob6 = GlobalAveragePooling1D()(conv6)\n",
    "\n",
    "merge = concatenate([glob1, glob2, glob3, glob4, glob5, glob6])\n",
    "x = Dropout(0.2)(merge)\n",
    "x = BatchNormalization()(x)\n",
    "x = Dense(300, activation='relu')(x)\n",
    "x = Dropout(0.2)(x)\n",
    "x = BatchNormalization()(x)\n",
    "pred = Dense(classes, activation='softmax')(x)\n",
    "\n",
    "model = Model(inputs=[_input], outputs=pred)\n",
    "\n",
    "model.compile(loss='categorical_crossentropy', optimizer='adam', metrics=['accuracy'])#, decay=0.0000001)\n",
    "\n",
    "print(model.summary())\n",
    "\n",
    "\n",
    "# Callbacks\n",
    "early_stop_cb = EarlyStopping(monitor='val_loss', patience=20, verbose=1)\n",
    "\n",
    "checkpoit_cb = ModelCheckpoint(NAME+\".h5\", save_best_only=True)\n",
    "\n",
    "# Print the batch number at the beginning of every batch.\n",
    "batch_print_cb = LambdaCallback(on_batch_begin=lambda batch, logs: print (\".\",end=''), \n",
    "                                on_epoch_end=lambda batch, logs: print (batch))\n",
    "\n",
    "# Plot the loss after every epoch.\n",
    "plot_loss_cb = LambdaCallback(on_epoch_end=lambda epoch, logs: \n",
    "                              print (epoch, logs))\n",
    "                              #plt.plot(np.arange(epoch), logs['loss']))\n",
    "\n",
    "print(\"done\")"
   ]
  },
  {
   "cell_type": "code",
   "execution_count": 11,
   "metadata": {
    "scrolled": false
   },
   "outputs": [
    {
     "name": "stdout",
     "output_type": "stream",
     "text": [
      "......0\n",
      "0 {'val_acc': 0.29045307825941358, 'acc': 0.22235209696735758, 'val_loss': 2.1972081329444464, 'loss': 2.2907942968442958}\n",
      "......1\n",
      "1 {'val_acc': 0.38754044040764291, 'acc': 0.45135766988048404, 'val_loss': 1.8211152232066199, 'loss': 1.6764864422095549}\n",
      "......2\n",
      "2 {'val_acc': 0.5361380996956151, 'acc': 0.56374752620123547, 'val_loss': 1.5606886738712349, 'loss': 1.2684236450217607}\n",
      "......3\n",
      "3 {'val_acc': 0.47114348257243827, 'acc': 0.58793382772415836, 'val_loss': 5.2719509748193438, 'loss': 1.3116221091576219}\n",
      "......4\n",
      "4 {'val_acc': 0.580366770233537, 'acc': 0.59197986184896867, 'val_loss': 2.8518192837539229, 'loss': 1.2276255778755307}\n",
      "......5\n",
      "5 {'val_acc': 0.60409927387453588, 'acc': 0.64997303079645574, 'val_loss': 2.1651286851240981, 'loss': 1.0553123873786261}\n",
      "......6\n",
      "6 {'val_acc': 0.59924490693574839, 'acc': 0.6727207338632043, 'val_loss': 2.1094584989702048, 'loss': 0.96001683015056793}\n",
      "......7\n",
      "7 {'val_acc': 0.60544769657211139, 'acc': 0.69061319948293132, 'val_loss': 1.8495930316250173, 'loss': 0.91279203350264015}\n",
      "......8\n",
      "8 {'val_acc': 0.6267529674589698, 'acc': 0.69600791321064881, 'val_loss': 1.5374893590470349, 'loss': 0.88412005057589571}\n",
      "......9\n",
      "9 {'val_acc': 0.6442826259740605, 'acc': 0.705808310055557, 'val_loss': 1.3114557387116401, 'loss': 0.84982339656518058}\n",
      "......10\n",
      "10 {'val_acc': 0.41882418640994717, 'acc': 0.71219205313975642, 'val_loss': 2.6311618183551611, 'loss': 0.82816315963100651}\n",
      "......11\n",
      "11 {'val_acc': 0.61084138742671168, 'acc': 0.71920518391939658, 'val_loss': 1.2297421427606379, 'loss': 0.81535912826965451}\n",
      "......12\n",
      "12 {'val_acc': 0.66396983078768335, 'acc': 0.71866571236548504, 'val_loss': 0.98598118108710298, 'loss': 0.80329470641105816}\n",
      "......13\n",
      "13 {'val_acc': 0.68069039746524185, 'acc': 0.7303542503884447, 'val_loss': 0.96392727920538401, 'loss': 0.7874597999351185}\n",
      "......14\n",
      "14 {'val_acc': 0.69120821276400335, 'acc': 0.7278367175706062, 'val_loss': 0.92881643103421574, 'loss': 0.77066012991351462}\n",
      "......15\n",
      "15 {'val_acc': 0.70118660969255808, 'acc': 0.73520949248722234, 'val_loss': 0.86900980450703236, 'loss': 0.76282845489242657}\n",
      "......16\n",
      "16 {'val_acc': 0.71790726799537963, 'acc': 0.73988491746938134, 'val_loss': 0.84033114399596198, 'loss': 0.74681241423122058}\n",
      "......17\n",
      "17 {'val_acc': 0.71736790016373897, 'acc': 0.74447041647058232, 'val_loss': 0.82450463142981423, 'loss': 0.73372466586472596}\n",
      "......18\n",
      "18 {'val_acc': 0.7165588285159139, 'acc': 0.74330156868984532, 'val_loss': 0.81218666481225876, 'loss': 0.72905608661696542}\n",
      "......19\n",
      "19 {'val_acc': 0.73381879478853751, 'acc': 0.74581909639503952, 'val_loss': 0.7694707780336999, 'loss': 0.71886171329538073}\n",
      "......20\n",
      "20 {'val_acc': 0.73651563902631678, 'acc': 0.75139363520309621, 'val_loss': 0.7593699341967397, 'loss': 0.70450107716030619}\n",
      "......21\n",
      "21 {'val_acc': 0.74163973408609529, 'acc': 0.7538212590070964, 'val_loss': 0.74223658458571862, 'loss': 0.69435373269660594}\n",
      "......22\n",
      "22 {'val_acc': 0.7456850213397539, 'acc': 0.76335192058952861, 'val_loss': 0.72658181319087578, 'loss': 0.67393486607184061}\n",
      "......23\n",
      "23 {'val_acc': 0.74406688466684201, 'acc': 0.76308217950699853, 'val_loss': 0.7190839831497291, 'loss': 0.6684848498449204}\n",
      "......24\n",
      "24 {'val_acc': 0.74784250565459942, 'acc': 0.77090451602047461, 'val_loss': 0.71231908930672538, 'loss': 0.65141096064307413}\n",
      "......25\n",
      "25 {'val_acc': 0.75566343775073297, 'acc': 0.76730803723301821, 'val_loss': 0.6994797984116029, 'loss': 0.65086095735251182}\n",
      "......26\n",
      "26 {'val_acc': 0.7551240706263751, 'acc': 0.77764790377756654, 'val_loss': 0.69270061359950763, 'loss': 0.63328543652135072}\n",
      "......27\n",
      "27 {'val_acc': 0.75323626048613779, 'acc': 0.7772882496511051, 'val_loss': 0.70594515396681934, 'loss': 0.61847724833734552}\n",
      "......28\n",
      "28 {'val_acc': 0.75809062221675239, 'acc': 0.78232332148197803, 'val_loss': 0.67050066850717782, 'loss': 0.60715334654668962}\n",
      "......29\n",
      "29 {'val_acc': 0.76186622809437876, 'acc': 0.78951627138256486, 'val_loss': 0.66374586437383776, 'loss': 0.59130136456727078}\n",
      "......30\n",
      "30 {'val_acc': 0.7688781116901221, 'acc': 0.79113469061030905, 'val_loss': 0.6411825526493653, 'loss': 0.58741063924599757}\n",
      "......31\n",
      "31 {'val_acc': 0.77076592832450086, 'acc': 0.79590001593517579, 'val_loss': 0.62939092224341253, 'loss': 0.57405544111913454}\n",
      "......32\n",
      "32 {'val_acc': 0.77238406429013007, 'acc': 0.80066534475421891, 'val_loss': 0.62618418766071104, 'loss': 0.56226265688762245}\n",
      "......33\n",
      "33 {'val_acc': 0.78263213397872744, 'acc': 0.79751842880694901, 'val_loss': 0.61819955883417055, 'loss': 0.5546796339446961}\n",
      "......34\n",
      "34 {'val_acc': 0.78371088770986763, 'acc': 0.79913684276127384, 'val_loss': 0.60491779385518363, 'loss': 0.54901930773950613}\n",
      "......35\n",
      "35 {'val_acc': 0.78667746527681071, 'acc': 0.80947671441846647, 'val_loss': 0.59083299613693385, 'loss': 0.52431629969262961}\n",
      "......36\n",
      "36 {'val_acc': 0.78802592128097304, 'acc': 0.812084159433488, 'val_loss': 0.57851528697029286, 'loss': 0.51348755318276895}\n",
      "......37\n",
      "37 {'val_acc': 0.79234088849609852, 'acc': 0.82305340236563662, 'val_loss': 0.57279649463672078, 'loss': 0.4943956153477681}\n",
      "......38\n",
      "38 {'val_acc': 0.78829556806444989, 'acc': 0.82521128802392962, 'val_loss': 0.57628747200374331, 'loss': 0.48338930456999757}\n",
      "......39\n",
      "39 {'val_acc': 0.7993527324197105, 'acc': 0.82934723673611099, 'val_loss': 0.5524115675604202, 'loss': 0.47310240739563603}\n",
      "......40\n",
      "40 {'val_acc': 0.80852213421557195, 'acc': 0.83420248193248658, 'val_loss': 0.53576752186593113, 'loss': 0.45971888433984448}\n",
      "......41\n",
      "41 {'val_acc': 0.80070117685015529, 'acc': 0.83438230074260156, 'val_loss': 0.54893354073311518, 'loss': 0.45017901590843251}\n",
      "......42\n",
      "42 {'val_acc': 0.8015102765963944, 'acc': 0.83716957356041877, 'val_loss': 0.53846964574425993, 'loss': 0.45267162835227137}\n",
      "......43\n",
      "43 {'val_acc': 0.80825243477168074, 'acc': 0.8441827027859008, 'val_loss': 0.52727955193967113, 'loss': 0.4303149825869394}\n",
      "......44\n",
      "44 {'val_acc': 0.81984897416000613, 'acc': 0.84921776323390508, 'val_loss': 0.51892704080223651, 'loss': 0.41489192083507448}\n",
      "......45\n",
      "45 {'val_acc': 0.80393744736684825, 'acc': 0.83402265389388763, 'val_loss': 0.55556407516185258, 'loss': 0.45568862274447225}\n",
      "......46\n",
      "46 {'val_acc': 0.80312835270018512, 'acc': 0.84373313963488272, 'val_loss': 0.53423158803546822, 'loss': 0.43211117384138348}\n",
      "......47\n",
      "47 {'val_acc': 0.78991369824322044, 'acc': 0.84238446227210695, 'val_loss': 0.58198049577694499, 'loss': 0.43937599185215787}\n",
      "......48\n",
      "48 {'val_acc': 0.79638618873804001, 'acc': 0.85182520661974015, 'val_loss': 0.53873487313588464, 'loss': 0.4118951789296546}\n",
      "......49\n",
      "49 {'val_acc': 0.80204959543263132, 'acc': 0.85946772432310126, 'val_loss': 0.54166308177199052, 'loss': 0.3934172507006366}\n",
      "......50\n",
      "50 {'val_acc': 0.80771305903133317, 'acc': 0.8597374519219696, 'val_loss': 0.53348227129784986, 'loss': 0.38099677952646543}\n",
      "......51\n",
      "51 {'val_acc': 0.80987055774902705, 'acc': 0.87196547451089601, 'val_loss': 0.51670887156469025, 'loss': 0.36493872678702177}\n",
      "......52\n",
      "52 {'val_acc': 0.82092768892629764, 'acc': 0.8726847705342019, 'val_loss': 0.502562421907499, 'loss': 0.34770242304729915}\n",
      "......53\n",
      "53 {'val_acc': 0.82901834136331221, 'acc': 0.8796978938753196, 'val_loss': 0.48850013870251602, 'loss': 0.33832075142041534}\n",
      "......54\n",
      "54 {'val_acc': 0.827400218385966, 'acc': 0.88392375284466596, 'val_loss': 0.48627789837771379, 'loss': 0.33166902300758855}\n",
      "......55\n",
      "55 {'val_acc': 0.82928802781892053, 'acc': 0.88626146700244612, 'val_loss': 0.4769492436124026, 'loss': 0.31790780167938931}\n",
      "......56\n",
      "56 {'val_acc': 0.82874866931055224, 'acc': 0.88590181612363927, 'val_loss': 0.48265037364944285, 'loss': 0.31551378418206955}\n",
      "......57\n",
      "57 {'val_acc': 0.83306366970366774, 'acc': 0.8867110244191565, 'val_loss': 0.45566491041625845, 'loss': 0.30957865363465564}\n",
      "......58\n",
      "58 {'val_acc': 0.83683932174756692, 'acc': 0.89480309411575198, 'val_loss': 0.46510478751301892, 'loss': 0.29495946748654117}\n",
      "......59\n",
      "59 {'val_acc': 0.83683928927685969, 'acc': 0.8956122987670363, 'val_loss': 0.45536761771899598, 'loss': 0.2890417606061878}\n",
      "......60\n",
      "60 {'val_acc': 0.83845739643679207, 'acc': 0.89525264416896833, 'val_loss': 0.46851810890108253, 'loss': 0.28764614923740756}\n",
      "......61\n",
      "61 {'val_acc': 0.84412084055306968, 'acc': 0.90127675132643426, 'val_loss': 0.46091900474945446, 'loss': 0.27222128495683862}\n"
     ]
    },
    {
     "name": "stdout",
     "output_type": "stream",
     "text": [
      "......62\n",
      "62 {'val_acc': 0.84142392995931059, 'acc': 0.90568242864500725, 'val_loss': 0.44824172062909845, 'loss': 0.264214736151408}\n",
      "......63\n",
      "63 {'val_acc': 0.83872706482454151, 'acc': 0.90891925647862848, 'val_loss': 0.45720918728952914, 'loss': 0.25413832791126839}\n",
      "......64\n",
      "64 {'val_acc': 0.84573895562170909, 'acc': 0.91098723125809322, 'val_loss': 0.44338655767574536, 'loss': 0.25009644442840651}\n",
      "......65\n",
      "65 {'val_acc': 0.84439054211880915, 'acc': 0.91548282147054083, 'val_loss': 0.45743334476616004, 'loss': 0.24079575418697119}\n",
      "......66\n",
      "66 {'val_acc': 0.84088458231737695, 'acc': 0.91053767345552283, 'val_loss': 0.45074453409821469, 'loss': 0.24339439583390635}\n",
      "......67\n",
      "67 {'val_acc': 0.83899675340199809, 'acc': 0.91710124053750997, 'val_loss': 0.45197918747492466, 'loss': 0.23328486259110945}\n",
      "......68\n",
      "68 {'val_acc': 0.84492992223144991, 'acc': 0.92087753604500655, 'val_loss': 0.45333293652585921, 'loss': 0.22741374746969847}\n",
      "......69\n",
      "69 {'val_acc': 0.84196334324994138, 'acc': 0.92411436659036572, 'val_loss': 0.45852577959578145, 'loss': 0.218147308743701}\n",
      "......70\n",
      "70 {'val_acc': 0.84924485485402001, 'acc': 0.92069771893910635, 'val_loss': 0.45042189161625751, 'loss': 0.22109745922512641}\n",
      "......71\n",
      "71 {'val_acc': 0.84600863699774143, 'acc': 0.92420427746919398, 'val_loss': 0.44646974706855536, 'loss': 0.21572749233357319}\n",
      "......72\n",
      "72 {'val_acc': 0.84519958271049245, 'acc': 0.92618234439240021, 'val_loss': 0.45793645908531633, 'loss': 0.20542135242774018}\n",
      "......73\n",
      "73 {'val_acc': 0.82524275130309976, 'acc': 0.92150691956029784, 'val_loss': 0.54317765836448217, 'loss': 0.2153709939681161}\n",
      "......74\n",
      "74 {'val_acc': 0.83522118578193771, 'acc': 0.92860995757453324, 'val_loss': 0.49842754009600726, 'loss': 0.20338715807158106}\n",
      "......75\n",
      "75 {'val_acc': 0.83603024148375216, 'acc': 0.92501348204544998, 'val_loss': 0.4902216209241359, 'loss': 0.21052370459307571}\n",
      "......76\n",
      "76 {'val_acc': 0.83980584086723697, 'acc': 0.92807049323405921, 'val_loss': 0.48402536040756694, 'loss': 0.20254013530482623}\n",
      "......77\n",
      "77 {'val_acc': 0.84385114548147178, 'acc': 0.93031828837779718, 'val_loss': 0.47090847045986911, 'loss': 0.18972403455758091}\n",
      "......78\n",
      "78 {'val_acc': 0.84492992364601538, 'acc': 0.9321165194380221, 'val_loss': 0.46247410298422575, 'loss': 0.19079632724045292}\n",
      "......79\n",
      "79 {'val_acc': 0.84061493045432412, 'acc': 0.93166696605140453, 'val_loss': 0.47045621102296031, 'loss': 0.18551987360287348}\n",
      "......80\n",
      "80 {'val_acc': 0.84546925547053509, 'acc': 0.93490379427088566, 'val_loss': 0.48002627938825077, 'loss': 0.18214985232540995}\n",
      "......81\n",
      "81 {'val_acc': 0.84466021629341725, 'acc': 0.93850027104329559, 'val_loss': 0.47390633548219097, 'loss': 0.17618309332513699}\n",
      "......82\n",
      "82 {'val_acc': 0.84223299215526648, 'acc': 0.93930947732376635, 'val_loss': 0.4720966952261158, 'loss': 0.17086528550322333}\n",
      "......83\n",
      "83 {'val_acc': 0.84115425141240918, 'acc': 0.94281604019477838, 'val_loss': 0.4694143904065623, 'loss': 0.16478477954339305}\n",
      "......84\n",
      "84 {'val_acc': 0.84061486409834418, 'acc': 0.94200683391430762, 'val_loss': 0.48459243311465366, 'loss': 0.16357148064220364}\n",
      "......85\n",
      "85 {'val_acc': 0.84358148924612564, 'acc': 0.94029851419379917, 'val_loss': 0.47290484914244701, 'loss': 0.1612867624146371}\n",
      "Epoch 00085: early stopping\n"
     ]
    }
   ],
   "source": [
    "history = model.fit(\n",
    "        X,#_train,\n",
    "        Y,#_train,\n",
    "#        initial_epoch=1200,\n",
    "        epochs=1500,\n",
    "        batch_size=2048,\n",
    "        #validation_data=(X_valid,Y_valid),\n",
    "        validation_split=0.25,\n",
    "        callbacks=[early_stop_cb, checkpoit_cb, batch_print_cb, plot_loss_cb],\n",
    "        verbose=0\n",
    "        )\n",
    "\n",
    "#history=model.fit(X_train, Y_train, validation_data=(X_test, Y_test), nb_epoch=3, batch_size=512)"
   ]
  },
  {
   "cell_type": "code",
   "execution_count": 12,
   "metadata": {},
   "outputs": [
    {
     "data": {
      "image/png": "[encoded data removed]",
      "text/plain": [
       "<matplotlib.figure.Figure at 0x7fab51f9d198>"
      ]
     },
     "metadata": {},
     "output_type": "display_data"
    },
    {
     "data": {
      "image/png": "[encoded data removed]",
      "text/plain": [
       "<matplotlib.figure.Figure at 0x7fab51f9d7f0>"
      ]
     },
     "metadata": {},
     "output_type": "display_data"
    }
   ],
   "source": [
    "import matplotlib.pyplot as plt\n",
    "# summarize history for accuracy\n",
    "plt.plot(history.history['acc'])\n",
    "plt.plot(history.history['val_acc'])\n",
    "plt.title('model accuracy')\n",
    "plt.ylabel('accuracy')\n",
    "plt.xlabel('epoch')\n",
    "plt.legend(['train', 'val'], loc='lower right')\n",
    "plt.show()\n",
    "\n",
    "\n",
    "# summarize history for loss\n",
    "plt.plot(history.history['loss'])\n",
    "plt.plot(history.history['val_loss'])\n",
    "plt.title('model loss')\n",
    "plt.ylabel('loss')\n",
    "plt.xlabel('epoch')\n",
    "plt.legend(['train', 'val'], loc='upper right')\n",
    "# plt.title('model loss (log scale)')\n",
    "# plt.yscale('log')\n",
    "plt.show()"
   ]
  },
  {
   "cell_type": "code",
   "execution_count": 60,
   "metadata": {
    "scrolled": false
   },
   "outputs": [
    {
     "name": "stdout",
     "output_type": "stream",
     "text": [
      "..............10000\n",
      "10000 {'acc': 0.92942234211274544, 'loss': 0.24218799137770838, 'val_acc': 0.82063384744981138, 'val_loss': 0.60090364376114414}\n",
      "..............10001\n",
      "10001 {'acc': 0.91623585825423015, 'loss': 0.2689954228043297, 'val_acc': 0.82130815604210539, 'val_loss': 0.57255609547537245}\n",
      "..............10002\n",
      "10002 {'acc': 0.91256462126767102, 'loss': 0.26002808122422494, 'val_acc': 0.82198247745562791, 'val_loss': 0.55839366890334308}\n",
      "..............10003\n",
      "10003 {'acc': 0.91676032069364077, 'loss': 0.2551032062205445, 'val_acc': 0.81726230352373441, 'val_loss': 0.5396233856557433}\n",
      "..............10004\n",
      "10004 {'acc': 0.90971753953538725, 'loss': 0.26793382654272591, 'val_acc': 0.82333110135226983, 'val_loss': 0.54280942650317177}\n",
      "..............10005\n",
      "10005 {'acc': 0.91331385330929871, 'loss': 0.25824233047893597, 'val_acc': 0.81928523625382199, 'val_loss': 0.55742760879802122}\n",
      "..............10006\n",
      "10006 {'acc': 0.90664568818302349, 'loss': 0.28339036189188821, 'val_acc': 0.80512474488343888, 'val_loss': 0.56352438925892934}\n",
      "..............10007\n",
      "10007 {'acc': 0.90484753129830064, 'loss': 0.28393372885518336, 'val_acc': 0.8118678209995468, 'val_loss': 0.54795667181445873}\n",
      "..............10008\n",
      "10008 {'acc': 0.91016707875321867, 'loss': 0.27542920117231934, 'val_acc': 0.83074846749199616, 'val_loss': 0.53539828758181873}\n",
      "..............10009\n",
      "10009 {'acc': 0.90387352964552437, 'loss': 0.29051856199788667, 'val_acc': 0.82467970069163732, 'val_loss': 0.53889474190334496}\n",
      "Epoch 01365: early stopping\n"
     ]
    }
   ],
   "source": [
    "\n",
    "history2 = model.fit(\n",
    "        X,#_train,\n",
    "        Y,#_train,\n",
    "        initial_epoch=10000,    \n",
    "        epochs=10010,\n",
    "        batch_size=1024,\n",
    "        #validation_data=(X_valid,Y_valid),\n",
    "        validation_split=0.1,\n",
    "        callbacks=[early_stop_cb, checkpoit_cb, batch_print_cb, plot_loss_cb],\n",
    "        verbose=0\n",
    "        )    "
   ]
  },
  {
   "cell_type": "code",
   "execution_count": 15,
   "metadata": {
    "scrolled": true
   },
   "outputs": [
    {
     "ename": "NameError",
     "evalue": "name 'X_test' is not defined",
     "output_type": "error",
     "traceback": [
      "\u001b[0;31m\u001b[0m",
      "\u001b[0;31mNameError\u001b[0mTraceback (most recent call last)",
      "\u001b[0;32m<ipython-input-15-e678b5269ea6>\u001b[0m in \u001b[0;36m<module>\u001b[0;34m()\u001b[0m\n\u001b[0;32m----> 1\u001b[0;31m \u001b[0mscore\u001b[0m\u001b[0;34m=\u001b[0m\u001b[0mmodel\u001b[0m\u001b[0;34m.\u001b[0m\u001b[0mevaluate\u001b[0m\u001b[0;34m(\u001b[0m\u001b[0mX_test\u001b[0m\u001b[0;34m,\u001b[0m\u001b[0mY_test\u001b[0m\u001b[0;34m,\u001b[0m \u001b[0mverbose\u001b[0m\u001b[0;34m=\u001b[0m\u001b[0;36m0\u001b[0m\u001b[0;34m)\u001b[0m\u001b[0;34m\u001b[0m\u001b[0m\n\u001b[0m\u001b[1;32m      2\u001b[0m \u001b[0;32mprint\u001b[0m\u001b[0;34m(\u001b[0m\u001b[0;34m\"OOS %s: %.2f%%\"\u001b[0m \u001b[0;34m%\u001b[0m \u001b[0;34m(\u001b[0m\u001b[0mmodel\u001b[0m\u001b[0;34m.\u001b[0m\u001b[0mmetrics_names\u001b[0m\u001b[0;34m[\u001b[0m\u001b[0;36m1\u001b[0m\u001b[0;34m]\u001b[0m\u001b[0;34m,\u001b[0m \u001b[0mscore\u001b[0m\u001b[0;34m[\u001b[0m\u001b[0;36m1\u001b[0m\u001b[0;34m]\u001b[0m\u001b[0;34m*\u001b[0m\u001b[0;36m100\u001b[0m\u001b[0;34m)\u001b[0m\u001b[0;34m)\u001b[0m\u001b[0;34m\u001b[0m\u001b[0m\n\u001b[1;32m      3\u001b[0m \u001b[0;32mprint\u001b[0m\u001b[0;34m(\u001b[0m\u001b[0;34m\"OOS %s: %.2f\"\u001b[0m \u001b[0;34m%\u001b[0m \u001b[0;34m(\u001b[0m\u001b[0mmodel\u001b[0m\u001b[0;34m.\u001b[0m\u001b[0mmetrics_names\u001b[0m\u001b[0;34m[\u001b[0m\u001b[0;36m0\u001b[0m\u001b[0;34m]\u001b[0m\u001b[0;34m,\u001b[0m \u001b[0mscore\u001b[0m\u001b[0;34m[\u001b[0m\u001b[0;36m0\u001b[0m\u001b[0;34m]\u001b[0m\u001b[0;34m)\u001b[0m\u001b[0;34m)\u001b[0m\u001b[0;34m\u001b[0m\u001b[0m\n",
      "\u001b[0;31mNameError\u001b[0m: name 'X_test' is not defined"
     ]
    }
   ],
   "source": [
    "score=model.evaluate(X_test,Y_test, verbose=0)\n",
    "print(\"OOS %s: %.2f%%\" % (model.metrics_names[1], score[1]*100))\n",
    "print(\"OOS %s: %.2f\" % (model.metrics_names[0], score[0]))"
   ]
  },
  {
   "cell_type": "code",
   "execution_count": 50,
   "metadata": {},
   "outputs": [
    {
     "data": {
      "image/png": "[encoded data removed]",
      "text/plain": [
       "<matplotlib.figure.Figure at 0x7f3322ef6f90>"
      ]
     },
     "metadata": {},
     "output_type": "display_data"
    },
    {
     "data": {
      "image/png": "[encoded data removed]",
      "text/plain": [
       "<matplotlib.figure.Figure at 0x7f325d1689d0>"
      ]
     },
     "metadata": {},
     "output_type": "display_data"
    }
   ],
   "source": [
    "import matplotlib.pyplot as plt\n",
    "# summarize history for accuracy\n",
    "plt.plot(history2.history['acc'])\n",
    "plt.plot(history2.history['val_acc'])\n",
    "plt.title('model accuracy')\n",
    "plt.ylabel('accuracy')\n",
    "plt.xlabel('epoch')\n",
    "plt.legend(['train', 'val'], loc='lower right')\n",
    "plt.show()\n",
    "\n",
    "\n",
    "# summarize history for loss\n",
    "plt.plot(history2.history['loss'])\n",
    "plt.plot(history2.history['val_loss'])\n",
    "plt.title('model loss (log scale)')\n",
    "plt.ylabel('loss')\n",
    "plt.xlabel('epoch')\n",
    "plt.legend(['train', 'val'], loc='upper right')\n",
    "plt.yscale('log')\n",
    "plt.show()"
   ]
  },
  {
   "cell_type": "code",
   "execution_count": 15,
   "metadata": {},
   "outputs": [
    {
     "name": "stdout",
     "output_type": "stream",
     "text": [
      "................60\n",
      "60 {'acc': 0.69396716357036081, 'loss': 1.0682002606852541, 'val_acc': 0.61906176239181299, 'val_loss': 1.4453319599962575}\n",
      "................61\n",
      "61 {'acc': 0.7037037048871484, 'loss': 1.0332637657505632, 'val_acc': 0.61564727237275552, 'val_loss': 1.4414969362725554}\n",
      "................62\n",
      "62 {'acc': 0.70701285371711209, 'loss': 1.0041220267947522, 'val_acc': 0.62232779267281646, 'val_loss': 1.4268438312050282}\n",
      "................63\n",
      "63 {'acc': 0.71197658232548955, 'loss': 0.99611397675313584, 'val_acc': 0.62262470591946051, 'val_loss': 1.4255109716764256}\n",
      "................64\n",
      "64 {'acc': 0.71834033401439978, 'loss': 0.97293814648437305, 'val_acc': 0.62069477901889136, 'val_loss': 1.4260232516535671}\n",
      "................65\n",
      "65 {'acc': 0.72184039811467771, 'loss': 0.97190722480626812, 'val_acc': 0.61935867436424852, 'val_loss': 1.4186554088162131}\n",
      "................66\n",
      "66 {'acc': 0.72578592269766862, 'loss': 0.94906096593772571, 'val_acc': 0.62024940674208684, 'val_loss': 1.4094102914995932}\n",
      "................67\n",
      "67 {'acc': 0.69625811521767567, 'loss': 1.0645167365607617, 'val_acc': 0.60243468216649143, 'val_loss': 1.4889457426841355}\n",
      "................68\n",
      "68 {'acc': 0.69625811337423305, 'loss': 1.0706597206716062, 'val_acc': 0.60599762640203259, 'val_loss': 1.4689711890141357}\n",
      "................69\n",
      "69 {'acc': 0.69950362780902231, 'loss': 1.0387265352221471, 'val_acc': 0.60881829502463625, 'val_loss': 1.4538306377279504}\n",
      "................70\n",
      "70 {'acc': 0.71000381935123758, 'loss': 1.0077977372259679, 'val_acc': 0.61624109844130748, 'val_loss': 1.4287678232668697}\n",
      "................71\n",
      "71 {'acc': 0.70134911596949534, 'loss': 1.0318226642518822, 'val_acc': 0.60213777005247715, 'val_loss': 1.4894028610401653}\n",
      "................72\n",
      "72 {'acc': 0.68760341133524538, 'loss': 1.099111608152886, 'val_acc': 0.60733373091509679, 'val_loss': 1.479072934658114}\n",
      "................73\n",
      "73 {'acc': 0.69142166257617699, 'loss': 1.0872183346605733, 'val_acc': 0.60213776608827274, 'val_loss': 1.4834875916075536}\n",
      "................74\n",
      "74 {'acc': 0.69994909045379761, 'loss': 1.058706705785972, 'val_acc': 0.60881829021095946, 'val_loss': 1.4884105396950329}\n",
      "................75\n",
      "75 {'acc': 0.70306732959687834, 'loss': 1.037833027186035, 'val_acc': 0.61564726826697236, 'val_loss': 1.4449179574599458}\n",
      "................76\n",
      "76 {'acc': 0.70364006627405573, 'loss': 1.0262630202470731, 'val_acc': 0.61861639280500436, 'val_loss': 1.4351270128032658}\n",
      "................77\n",
      "77 {'acc': 0.70949471811612808, 'loss': 1.0033399172831814, 'val_acc': 0.61831947729310066, 'val_loss': 1.4346362315560746}\n",
      "................78\n",
      "78 {'acc': 0.71541300888232673, 'loss': 0.98309921032602254, 'val_acc': 0.62054632282030553, 'val_loss': 1.4234220100978208}\n",
      "................79\n",
      "79 {'acc': 0.71961308407149305, 'loss': 0.97791410750281926, 'val_acc': 0.62277315843699943, 'val_loss': 1.434774916981858}\n",
      "................80\n",
      "80 {'acc': 0.71840397145163393, 'loss': 0.98115001725258377, 'val_acc': 0.61460808280528012, 'val_loss': 1.4496738825727811}\n",
      "................81\n",
      "81 {'acc': 0.7203767358520885, 'loss': 0.95888457092541513, 'val_acc': 0.61980404253526988, 'val_loss': 1.4341611703614441}\n",
      "................82\n",
      "82 {'acc': 0.72572228624663826, 'loss': 0.95314105417007133, 'val_acc': 0.6193586749305634, 'val_loss': 1.4350798064909185}\n",
      "................83\n",
      "83 {'acc': 0.72871324873249754, 'loss': 0.93137366312430436, 'val_acc': 0.6227731577291058, 'val_loss': 1.4264792727744495}\n",
      "................84\n",
      "84 {'acc': 0.73036782408057999, 'loss': 0.93253052497890232, 'val_acc': 0.62470309694702442, 'val_loss': 1.43061292313057}\n",
      "................85\n",
      "85 {'acc': 0.7329133257271756, 'loss': 0.90921011269358076, 'val_acc': 0.62425771943180697, 'val_loss': 1.4309742467703559}\n",
      "................86\n",
      "86 {'acc': 0.73475881330351256, 'loss': 0.90705162541654194, 'val_acc': 0.62381236003866669, 'val_loss': 1.4259913146071084}\n",
      "................87\n",
      "87 {'acc': 0.73711340282806026, 'loss': 0.91535873602437079, 'val_acc': 0.62841448846169157, 'val_loss': 1.4194937236518588}\n",
      "Epoch 00087: early stopping\n"
     ]
    }
   ],
   "source": [
    "history3 = model.fit(\n",
    "        X,#_train,\n",
    "        Y,#_train,\n",
    "        initial_epoch=60,    \n",
    "        epochs=90,\n",
    "        batch_size=1024,\n",
    "        #validation_data=(X_valid,Y_valid),\n",
    "        validation_split=0.3,\n",
    "        callbacks=[early_stop_cb, checkpoit_cb, batch_print_cb, plot_loss_cb],\n",
    "        verbose=0\n",
    "        )"
   ]
  },
  {
   "cell_type": "code",
   "execution_count": 16,
   "metadata": {},
   "outputs": [
    {
     "data": {
      "image/png": "[encoded data removed]",
      "text/plain": [
       "<matplotlib.figure.Figure at 0x7faff6c9a490>"
      ]
     },
     "metadata": {},
     "output_type": "display_data"
    },
    {
     "data": {
      "image/png": "[encoded data removed]",
      "text/plain": [
       "<matplotlib.figure.Figure at 0x7faff6bfaf50>"
      ]
     },
     "metadata": {},
     "output_type": "display_data"
    }
   ],
   "source": [
    "import matplotlib.pyplot as plt\n",
    "# summarize history for accuracy\n",
    "plt.plot(history3.history['acc'])\n",
    "plt.plot(history3.history['val_acc'])\n",
    "plt.title('model accuracy')\n",
    "plt.ylabel('accuracy')\n",
    "plt.xlabel('epoch')\n",
    "plt.legend(['train', 'val'], loc='lower right')\n",
    "plt.show()\n",
    "\n",
    "\n",
    "# summarize history for loss\n",
    "plt.plot(history3.history['loss'])\n",
    "plt.plot(history3.history['val_loss'])\n",
    "plt.title('model loss (log scale)')\n",
    "plt.ylabel('loss')\n",
    "plt.xlabel('epoch')\n",
    "plt.legend(['train', 'val'], loc='upper right')\n",
    "plt.yscale('log')\n",
    "plt.show()"
   ]
  },
  {
   "cell_type": "code",
   "execution_count": null,
   "metadata": {
    "collapsed": true
   },
   "outputs": [],
   "source": []
  }
 ],
 "metadata": {
  "kernelspec": {
   "display_name": "Python 3",
   "language": "python",
   "name": "python3"
  },
  "language_info": {
   "codemirror_mode": {
    "name": "ipython",
    "version": 3
   },
   "file_extension": ".py",
   "mimetype": "text/x-python",
   "name": "python",
   "nbconvert_exporter": "python",
   "pygments_lexer": "ipython3",
   "version": "3.5.2"
  }
 },
 "nbformat": 4,
 "nbformat_minor": 2
}
