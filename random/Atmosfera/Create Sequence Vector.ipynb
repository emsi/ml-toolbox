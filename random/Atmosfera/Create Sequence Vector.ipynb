{
 "cells": [
  {
   "cell_type": "code",
   "execution_count": 26,
   "metadata": {
    "collapsed": false
   },
   "outputs": [],
   "source": [
    "from six.moves import cPickle as pickle\n",
    "from keras.preprocessing.text import Tokenizer, text_to_word_sequence\n",
    "import numpy as np\n",
    "\n",
    "# Requires patch from my git\n",
    "# pip install --upgrade git+https://github.com/emsi/keras\n",
    "# https://github.com/fchollet/keras/pull/5747\n",
    "# @@ -34,7 +34,7 @@ def text_to_word_sequence(text,\n",
    "#       \"\"\"\n",
    "#       if lower:\n",
    "#           text = text.lower()\n",
    "#  -    text = text.translate(maketrans(filters, split * len(filters)))\n",
    "#  +    text = text.translate(maketrans(filters, split * len(filters)).decode(\"iso-8859-1\"))\n",
    "#       seq = text.split(split)\n",
    "#       return [i for i in seq if i]\n",
    "  "
   ]
  },
  {
   "cell_type": "code",
   "execution_count": null,
   "metadata": {
    "collapsed": true
   },
   "outputs": [],
   "source": [
    "# Read data\n",
    "with open(\"Atmosfera-Incidents-2017.pickle\", 'rb') as f:\n",
    "    incidents = pickle.load(f)"
   ]
  },
  {
   "cell_type": "code",
   "execution_count": null,
   "metadata": {
    "collapsed": false
   },
   "outputs": [],
   "source": [
    "# pick only the  summary and description_plain_text columns\n",
    "print incidents[0,[1,7]]\n",
    "texts=incidents[1:,[1,7]]\n"
   ]
  },
  {
   "cell_type": "code",
   "execution_count": null,
   "metadata": {
    "collapsed": false
   },
   "outputs": [],
   "source": [
    "# Join to list of texts\n",
    "txt=[i for l in texts for i in l if i != None]\n",
    "#txt=\" \".join(txt[:]).lower().replace('/',' ').replace('_',' ')"
   ]
  },
  {
   "cell_type": "code",
   "execution_count": null,
   "metadata": {
    "collapsed": false
   },
   "outputs": [],
   "source": [
    "# Tokenize\n",
    "tknzr = Tokenizer(lower=True, split=\" \")\n",
    "tknzr.fit_on_texts(txt)\n",
    "# vocabulary:\n",
    "#print(tknzr.word_index)"
   ]
  },
  {
   "cell_type": "code",
   "execution_count": 55,
   "metadata": {
    "collapsed": false
   },
   "outputs": [
    {
     "name": "stdout",
     "output_type": "stream",
     "text": [
      "(22450,)\n"
     ]
    }
   ],
   "source": [
    "# making sequences:\n",
    "X_train = [[i if (i is not None) else \"\" for i in l ]for l in texts]\n",
    "X_train = [\". \".join(l) for l in X_train]\n",
    "X_train = np.asarray(tknzr.texts_to_sequences(X_train))\n",
    "\n",
    "print X_train.shape"
   ]
  },
  {
   "cell_type": "code",
   "execution_count": 62,
   "metadata": {
    "collapsed": false
   },
   "outputs": [
    {
     "name": "stdout",
     "output_type": "stream",
     "text": [
      "[u'Sprawdzenie okablowania w salach'\n",
      " u\"Prosz\\u0119 o sprawdznie sal: Faraday, Newton. Bell, Einstain, Klientomania Od: Tomasz Caderek/HeadQ\\n\\nDo: Wojciech Chobot/HeadQ@NETIA\\n\\nData: 2013-07-08 11:08\\n\\nTemat: PD: Faraday\\n\\nCze\\u015b\\u0107 Wojtku,Sprawd\\u017acie prosz\\u0119 kwesti\\u0119 sieci i okablowania w Faradayu. \\n\\nWyznacz prosz\\u0119 jeden dzie\\u0144 w tygodniu rano, \\u017ceby kt\\xf3ry\\u015b z ch\\u0142opak\\xf3w chodzi\\u0142 po g\\u0142\\xf3wnych salach i sprawdza\\u0142 okablowanie itp..Pozdrawiam,\\n\\nTomek   Od: Malgorzata Babik/HeadQ\\n\\nDo: Tomasz Caderek/HeadQ@NETIA\\n\\nDW: Pawel Zytecki/HeadQ@NETIA\\n\\nData: 2013-07-08 11:01\\n\\nTemat: Faraday\\n\\nTomek,To, co si\\u0119 dzieje w Faraday'u to jest totalna pora\\u017cka. W zesz\\u0142ym tygodniu mieli\\u015bmy tam bardzo wa\\u017cnych go\\u015bci z Komisji Europejskiej. Chcieli\\u015bmy zrobi\\u0107 prezentacj\\u0119 telewizji osobistej.\\n\\nPo\\u0142aczenie - i ethernet i WiFi - uda\\u0142o si\\u0119 po p\\xf3\\u0142 godzinie, pl\\u0105tanina kabli, kt\\xf3r\\u0105 Grzesiek Grzegorski pr\\xf3bowa\\u0142 uporz\\u0105dkowa\\u0107, \\u017ceby w og\\xf3le cokolwiek zadzia\\u0142a\\u0142o - horror.To jest sala, w kt\\xf3rej cz\\u0119sto odbywaj\\u0105 si\\u0119 wa\\u017cne prezentacje - spr\\xf3bujmy to uporz\\u0105dkowa\\u0107, bo kto\\u015b kiedy\\u015b bardzo si\\u0119 bedzie wstydzi\\u0142 przed go\\u015bcmi.Pozdr\\n\\nM\"]\n",
      "[31, 25, 1, 17, 9, 23, 157, 233, 24, 68, 177, 192, 249, 22, 56, 37, 13, 19, 104, 78, 13, 11, 59, 30, 39, 16, 50, 16, 51, 64, 24, 116, 266, 108, 9, 141, 272, 14, 25, 1, 139, 117, 9, 156, 281, 1, 61, 180, 45, 182, 7, 267, 142, 47, 120, 17, 14, 264, 53, 76, 20, 48, 22, 91, 130, 13, 19, 56, 37, 13, 11, 105, 144, 133, 13, 11, 59, 30, 39, 16, 50, 15, 51, 24, 48, 2, 44, 10, 256, 1, 94, 2, 55, 230, 70, 1, 181, 61, 241, 243, 27, 71, 258, 7, 168, 199, 244, 196, 98, 203, 75, 163, 14, 284, 14, 279, 173, 10, 47, 166, 240, 143, 185, 137, 269, 124, 151, 34, 45, 1, 204, 83, 79, 93, 2, 55, 278, 1, 229, 206, 129, 10, 74, 195, 232, 2, 34, 155, 184, 273, 27, 10, 271, 162, 197, 174, 77, 280]\n",
      "sprawdzenie okablowania w salach proszę o sprawdznie sal faraday newton bell einstain klientomania od tomasz caderek headq do wojciech chobot headq netia data 2013 07 08 11 08 temat pd faraday cześć wojtku sprawdźcie proszę kwestię sieci i okablowania w faradayu wyznacz proszę jeden dzień w tygodniu rano żeby któryś z chłopaków chodził po głównych salach i sprawdzał okablowanie itp pozdrawiam tomek od malgorzata babik headq do tomasz caderek headq netia dw pawel zytecki headq netia data 2013 07 08 11 01 temat faraday tomek to co się dzieje w faraday'u to jest totalna porażka w zeszłym tygodniu mieliśmy tam bardzo ważnych gości z komisji europejskiej chcieliśmy zrobić prezentację telewizji osobistej połaczenie i ethernet i wifi udało się po pół godzinie plątanina kabli którą grzesiek grzegorski próbował uporządkować żeby w ogóle cokolwiek zadziałało horror to jest sala w której często odbywają się ważne prezentacje spróbujmy to uporządkować bo ktoś kiedyś bardzo się bedzie wstydził przed goścmi pozdr m\n"
     ]
    }
   ],
   "source": [
    "print (texts[0])\n",
    "print(X_train[0])\n",
    "\n",
    "word_dict = {idx: word for word, idx in tknzr.word_index.items()}\n",
    "sample = []\n",
    "for idx in X_train[0]:\n",
    "        sample.append(word_dict[idx])\n",
    "print (' '.join(sample))"
   ]
  },
  {
   "cell_type": "code",
   "execution_count": 63,
   "metadata": {
    "collapsed": false
   },
   "outputs": [],
   "source": [
    "# Pickle\n",
    "with open(\"X-sequences.pickle\", 'wb') as f:\n",
    "    pickle.dump(X_train, f, pickle.HIGHEST_PROTOCOL)"
   ]
  },
  {
   "cell_type": "code",
   "execution_count": 64,
   "metadata": {
    "collapsed": false
   },
   "outputs": [],
   "source": [
    "# Skonwertuj incident_class do intów i zapisz \n",
    "Y=[int(i) for i in incidents[1:,2]]\n",
    "with open(\"Y.pickle\", 'wb') as f:\n",
    "    pickle.dump(Y, f, pickle.HIGHEST_PROTOCOL)"
   ]
  },
  {
   "cell_type": "code",
   "execution_count": null,
   "metadata": {
    "collapsed": false
   },
   "outputs": [],
   "source": []
  },
  {
   "cell_type": "code",
   "execution_count": null,
   "metadata": {
    "collapsed": false
   },
   "outputs": [],
   "source": []
  },
  {
   "cell_type": "code",
   "execution_count": null,
   "metadata": {
    "collapsed": true
   },
   "outputs": [],
   "source": []
  }
 ],
 "metadata": {
  "kernelspec": {
   "display_name": "Python 2",
   "language": "python",
   "name": "python2"
  },
  "language_info": {
   "codemirror_mode": {
    "name": "ipython",
    "version": 2
   },
   "file_extension": ".py",
   "mimetype": "text/x-python",
   "name": "python",
   "nbconvert_exporter": "python",
   "pygments_lexer": "ipython2",
   "version": "2.7.12"
  }
 },
 "nbformat": 4,
 "nbformat_minor": 2
}
