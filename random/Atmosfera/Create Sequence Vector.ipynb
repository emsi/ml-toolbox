{
 "cells": [
  {
   "cell_type": "code",
   "execution_count": 1,
   "metadata": {
    "collapsed": false,
    "deletable": true,
    "editable": true
   },
   "outputs": [
    {
     "name": "stderr",
     "output_type": "stream",
     "text": [
      "Using TensorFlow backend.\n"
     ]
    }
   ],
   "source": [
    "from six.moves import cPickle as pickle\n",
    "from keras.preprocessing.text import Tokenizer, text_to_word_sequence\n",
    "import numpy as np\n",
    "\n",
    "# Requires patch from my git\n",
    "# pip install --upgrade git+https://github.com/emsi/keras\n",
    "# https://github.com/fchollet/keras/pull/5747\n",
    "# @@ -14,7 +14,7 @@\n",
    "#  import warnings\n",
    "# \n",
    "#  if sys.version_info < (3,):\n",
    "# -    maketrans = string.maketrans\n",
    "# +    maketrans = lambda intab, outtab: string.maketrans(intab, outtab).decode('latin-1')\n",
    "#  else:\n",
    "#      maketrans = str.maketrans\n",
    " \n",
    "  "
   ]
  },
  {
   "cell_type": "code",
   "execution_count": 2,
   "metadata": {
    "collapsed": true,
    "deletable": true,
    "editable": true
   },
   "outputs": [],
   "source": [
    "# Read data\n",
    "with open(\"Atmosfera-Incidents-2017.pickle\", 'rb') as f:\n",
    "    incidents = pickle.load(f)"
   ]
  },
  {
   "cell_type": "code",
   "execution_count": 3,
   "metadata": {
    "collapsed": false,
    "deletable": true,
    "editable": true
   },
   "outputs": [
    {
     "name": "stdout",
     "output_type": "stream",
     "text": [
      "[u'summary' u'description_plain_text']\n"
     ]
    }
   ],
   "source": [
    "# pick only the  summary and description_plain_text columns\n",
    "print incidents[0,[1,7]]\n",
    "texts=incidents[1:,[1,7]]\n"
   ]
  },
  {
   "cell_type": "code",
   "execution_count": 4,
   "metadata": {
    "collapsed": false,
    "deletable": true,
    "editable": true
   },
   "outputs": [],
   "source": [
    "# Join to list of texts\n",
    "txt=[i for l in texts for i in l if i != None]\n",
    "#txt=\" \".join(txt[:]).lower().replace('/',' ').replace('_',' ')"
   ]
  },
  {
   "cell_type": "code",
   "execution_count": 5,
   "metadata": {
    "collapsed": false,
    "deletable": true,
    "editable": true
   },
   "outputs": [],
   "source": [
    "# Tokenize\n",
    "tknzr = Tokenizer(lower=True, split=\" \")\n",
    "tknzr.fit_on_texts(txt)\n",
    "# vocabulary:\n",
    "#print(tknzr.word_index)"
   ]
  },
  {
   "cell_type": "code",
   "execution_count": 6,
   "metadata": {
    "collapsed": false,
    "deletable": true,
    "editable": true
   },
   "outputs": [
    {
     "name": "stdout",
     "output_type": "stream",
     "text": [
      "(22450,)\n"
     ]
    }
   ],
   "source": [
    "# making sequences:\n",
    "X_train = [[i if (i is not None) else \"\" for i in l ]for l in texts]\n",
    "X_train = [\". \".join(l) for l in X_train]\n",
    "X_train = np.asarray(tknzr.texts_to_sequences(X_train))\n",
    "\n",
    "print X_train.shape"
   ]
  },
  {
   "cell_type": "code",
   "execution_count": null,
   "metadata": {
    "collapsed": false,
    "deletable": true,
    "editable": true
   },
   "outputs": [],
   "source": [
    "print (texts[0])\n",
    "print(X_train[0])\n",
    "\n",
    "word_dict = {idx: word for word, idx in tknzr.word_index.items()}\n",
    "sample = []\n",
    "for idx in X_train[0]:\n",
    "        sample.append(word_dict[idx])\n",
    "print (' '.join(sample))"
   ]
  },
  {
   "cell_type": "code",
   "execution_count": null,
   "metadata": {
    "collapsed": false,
    "deletable": true,
    "editable": true
   },
   "outputs": [],
   "source": [
    "# Pickle\n",
    "with open(\"X-sequences.pickle\", 'wb') as f:\n",
    "    pickle.dump(X_train, f, pickle.HIGHEST_PROTOCOL)"
   ]
  },
  {
   "cell_type": "code",
   "execution_count": null,
   "metadata": {
    "collapsed": false,
    "deletable": true,
    "editable": true
   },
   "outputs": [],
   "source": [
    "# Skonwertuj root_service do intów i zapisz \n",
    "Y=[int(i) for i in incidents[1:,3]]\n",
    "with open(\"Y.pickle\", 'wb') as f:\n",
    "    pickle.dump(Y, f, pickle.HIGHEST_PROTOCOL)"
   ]
  },
  {
   "cell_type": "code",
   "execution_count": null,
   "metadata": {
    "collapsed": false,
    "deletable": true,
    "editable": true
   },
   "outputs": [],
   "source": []
  },
  {
   "cell_type": "code",
   "execution_count": null,
   "metadata": {
    "collapsed": false,
    "deletable": true,
    "editable": true
   },
   "outputs": [],
   "source": []
  },
  {
   "cell_type": "code",
   "execution_count": null,
   "metadata": {
    "collapsed": true,
    "deletable": true,
    "editable": true
   },
   "outputs": [],
   "source": []
  }
 ],
 "metadata": {
  "kernelspec": {
   "display_name": "Python 2",
   "language": "python",
   "name": "python2"
  },
  "language_info": {
   "codemirror_mode": {
    "name": "ipython",
    "version": 2
   },
   "file_extension": ".py",
   "mimetype": "text/x-python",
   "name": "python",
   "nbconvert_exporter": "python",
   "pygments_lexer": "ipython2",
   "version": "2.7.12"
  }
 },
 "nbformat": 4,
 "nbformat_minor": 2
}
