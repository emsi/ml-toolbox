{
 "cells": [
  {
   "cell_type": "code",
   "execution_count": 26,
   "metadata": {
    "collapsed": false
   },
   "outputs": [],
   "source": [
    "from six.moves import cPickle as pickle\n",
    "from keras.preprocessing.text import Tokenizer, text_to_word_sequence\n",
    "import numpy as np\n",
    "\n",
    "# Requires patch from my git\n",
    "# pip install --upgrade git+https://github.com/emsi/keras\n",
    "# https://github.com/fchollet/keras/pull/5747\n",
    "# @@ -34,7 +34,7 @@ def text_to_word_sequence(text,\n",
    "#       \"\"\"\n",
    "#       if lower:\n",
    "#           text = text.lower()\n",
    "#  -    text = text.translate(maketrans(filters, split * len(filters)))\n",
    "#  +    text = text.translate(maketrans(filters, split * len(filters)).decode(\"iso-8859-1\"))\n",
    "#       seq = text.split(split)\n",
    "#       return [i for i in seq if i]\n",
    "  "
   ]
  },
  {
   "cell_type": "code",
   "execution_count": null,
   "metadata": {
    "collapsed": true
   },
   "outputs": [],
   "source": [
    "# Read data\n",
    "with open(\"Atmosfera-Incidents-2017.pickle\", 'rb') as f:\n",
    "    incidents = pickle.load(f)"
   ]
  },
  {
   "cell_type": "code",
   "execution_count": null,
   "metadata": {
    "collapsed": false
   },
   "outputs": [],
   "source": [
    "# pick only the  summary and description_plain_text columns\n",
    "print incidents[0,[1,7]]\n",
    "texts=incidents[1:,[1,7]]\n"
   ]
  },
  {
   "cell_type": "code",
   "execution_count": null,
   "metadata": {
    "collapsed": false
   },
   "outputs": [],
   "source": [
    "# Join to list of texts\n",
    "txt=[i for l in texts for i in l if i != None]\n",
    "#txt=\" \".join(txt[:]).lower().replace('/',' ').replace('_',' ')"
   ]
  },
  {
   "cell_type": "code",
   "execution_count": null,
   "metadata": {
    "collapsed": false
   },
   "outputs": [],
   "source": [
    "# Tokenize\n",
    "tknzr = Tokenizer(lower=True, split=\" \")\n",
    "tknzr.fit_on_texts(txt)\n",
    "# vocabulary:\n",
    "#print(tknzr.word_index)"
   ]
  },
  {
   "cell_type": "code",
   "execution_count": 55,
   "metadata": {
    "collapsed": false
   },
   "outputs": [
    {
     "name": "stdout",
     "output_type": "stream",
     "text": [
      "(22450,)\n"
     ]
    }
   ],
   "source": [
    "# making sequences:\n",
    "X_train = [[i if (i is not None) else \"\" for i in l ]for l in texts]\n",
    "X_train = [\". \".join(l) for l in X_train]\n",
    "X_train = np.asarray(tknzr.texts_to_sequences(X_train))\n",
    "\n",
    "print X_train.shape"
   ]
  },
  {
   "cell_type": "code",
   "execution_count": null,
   "metadata": {
    "collapsed": false
   },
   "outputs": [],
   "source": [
    "print (texts[0])\n",
    "print(X_train[0])\n",
    "\n",
    "word_dict = {idx: word for word, idx in tknzr.word_index.items()}\n",
    "sample = []\n",
    "for idx in X_train[0]:\n",
    "        sample.append(word_dict[idx])\n",
    "print (' '.join(sample))"
   ]
  },
  {
   "cell_type": "code",
   "execution_count": 63,
   "metadata": {
    "collapsed": false
   },
   "outputs": [],
   "source": [
    "# Pickle\n",
    "with open(\"X-sequences.pickle\", 'wb') as f:\n",
    "    pickle.dump(X_train, f, pickle.HIGHEST_PROTOCOL)"
   ]
  },
  {
   "cell_type": "code",
   "execution_count": 64,
   "metadata": {
    "collapsed": false
   },
   "outputs": [],
   "source": [
    "# Skonwertuj incident_class do intów i zapisz \n",
    "Y=[int(i) for i in incidents[1:,2]]\n",
    "with open(\"Y.pickle\", 'wb') as f:\n",
    "    pickle.dump(Y, f, pickle.HIGHEST_PROTOCOL)"
   ]
  },
  {
   "cell_type": "code",
   "execution_count": null,
   "metadata": {
    "collapsed": false
   },
   "outputs": [],
   "source": []
  },
  {
   "cell_type": "code",
   "execution_count": null,
   "metadata": {
    "collapsed": false
   },
   "outputs": [],
   "source": []
  },
  {
   "cell_type": "code",
   "execution_count": null,
   "metadata": {
    "collapsed": true
   },
   "outputs": [],
   "source": []
  }
 ],
 "metadata": {
  "kernelspec": {
   "display_name": "Python 2",
   "language": "python",
   "name": "python2"
  },
  "language_info": {
   "codemirror_mode": {
    "name": "ipython",
    "version": 2
   },
   "file_extension": ".py",
   "mimetype": "text/x-python",
   "name": "python",
   "nbconvert_exporter": "python",
   "pygments_lexer": "ipython2",
   "version": "2.7.12"
  }
 },
 "nbformat": 4,
 "nbformat_minor": 2
}
