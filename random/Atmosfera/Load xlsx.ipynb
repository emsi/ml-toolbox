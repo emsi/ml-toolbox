{
 "cells": [
  {
   "cell_type": "code",
   "execution_count": 1,
   "metadata": {
    "collapsed": false,
    "deletable": true,
    "editable": true
   },
   "outputs": [],
   "source": [
    "#import openpyxl\n",
    "from openpyxl import load_workbook\n",
    "import numpy as np\n",
    "from six.moves import cPickle as pickle\n"
   ]
  },
  {
   "cell_type": "code",
   "execution_count": 2,
   "metadata": {
    "collapsed": false,
    "deletable": true,
    "editable": true
   },
   "outputs": [
    {
     "name": "stdout",
     "output_type": "stream",
     "text": [
      "[u'Sheet2', u'Sheet3', u'Sheet5', u'Sheet6']\n"
     ]
    }
   ],
   "source": [
    "# Otwórz XLSX z incydentami\n",
    "wb2 = load_workbook(\"Atmosfera-Incidents-2017.xlsx\")\n",
    "print wb2.get_sheet_names()\n"
   ]
  },
  {
   "cell_type": "code",
   "execution_count": 3,
   "metadata": {
    "collapsed": false,
    "deletable": true,
    "editable": true
   },
   "outputs": [],
   "source": [
    "# wybierz zakładkę\n",
    "p = wb2.get_sheet_by_name(name = 'Sheet2')"
   ]
  },
  {
   "cell_type": "code",
   "execution_count": 22,
   "metadata": {
    "collapsed": false
   },
   "outputs": [],
   "source": [
    "# Wczytaj dane ciurkiem do listy\n",
    "a=[]\n",
    "for row in p.iter_rows():\n",
    "    for k in row:\n",
    "        a.append(k.internal_value)"
   ]
  },
  {
   "cell_type": "code",
   "execution_count": 23,
   "metadata": {
    "collapsed": false
   },
   "outputs": [],
   "source": [
    "# skonwertuj do np.array\n",
    "aa=np.asarray(a)"
   ]
  },
  {
   "cell_type": "code",
   "execution_count": 24,
   "metadata": {
    "collapsed": false
   },
   "outputs": [],
   "source": [
    "# Ten export ma 82 kolumny chociaż dane sa tylko w 21 pierwszych\n",
    "# Zmień więc kształt na kwadratowa tablicę o 82 kolumnach i 22451 wierszach\n",
    "aa=aa.reshape((22451,82))"
   ]
  },
  {
   "cell_type": "code",
   "execution_count": 25,
   "metadata": {
    "collapsed": false
   },
   "outputs": [],
   "source": [
    "# Weź tylko pierwsze 21 kolumn\n",
    "aa=aa[:,:21]"
   ]
  },
  {
   "cell_type": "code",
   "execution_count": 26,
   "metadata": {
    "collapsed": false
   },
   "outputs": [],
   "source": [
    "# Zapekluj do pliku na później\n",
    "with open(\"Atmosfera-Incidents-2017.pickle\", 'wb') as f:\n",
    "    pickle.dump(aa, f, pickle.HIGHEST_PROTOCOL)"
   ]
  },
  {
   "cell_type": "code",
   "execution_count": null,
   "metadata": {
    "collapsed": false
   },
   "outputs": [],
   "source": [
    "# Print ładnie wyświetla polskie literki\n",
    "print aa[1,7] # Nie potrzeba .decode('unicode_escape'), stringi wyświetla dobrze\n",
    "print aa[2] # tabele gorzej ale dane są OK."
   ]
  },
  {
   "cell_type": "code",
   "execution_count": null,
   "metadata": {
    "collapsed": false
   },
   "outputs": [],
   "source": []
  },
  {
   "cell_type": "code",
   "execution_count": null,
   "metadata": {
    "collapsed": true
   },
   "outputs": [],
   "source": []
  }
 ],
 "metadata": {
  "kernelspec": {
   "display_name": "Python 2",
   "language": "python",
   "name": "python2"
  },
  "language_info": {
   "codemirror_mode": {
    "name": "ipython",
    "version": 2
   },
   "file_extension": ".py",
   "mimetype": "text/x-python",
   "name": "python",
   "nbconvert_exporter": "python",
   "pygments_lexer": "ipython2",
   "version": "2.7.12"
  }
 },
 "nbformat": 4,
 "nbformat_minor": 2
}
