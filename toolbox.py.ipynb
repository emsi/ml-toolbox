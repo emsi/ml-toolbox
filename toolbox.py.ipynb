{
 "cells": [
  {
   "cell_type": "code",
   "execution_count": null,
   "metadata": {
    "collapsed": true
   },
   "outputs": [],
   "source": [
    "def read_image(filepath):\n",
    "    im = io.imread(filepath)\n",
    "    # scale\n",
    "    (w, h,_) = im.shape\n",
    "    if (w>h): # height is greater than width\n",
    "        resizeto = (IMAGE_SIZE, int (round (IMAGE_SIZE * (float (h)  / w))));\n",
    "    else:\n",
    "        resizeto = (int (round (IMAGE_SIZE * (float (w)  / h))), IMAGE_SIZE);\n",
    "    im = misc.imresize(im, resizeto, interp='bicubic').astype(np.float32) # it's float32 as of now\n",
    "    # swap RBG->BGR\n",
    "    im = im[:, :, ::-1]\n",
    "    \n",
    "    # remove mean (sueezenet mean values)\n",
    "    im[:, :, 0] -= 104.006\n",
    "    im[:, :, 1] -= 116.669\n",
    "    im[:, :, 2] -= 122.679\n",
    "\n",
    "    \n",
    "    # padd with 0 (since we're already mean centered the 0 os correct value for padding)\n",
    "    paddim=np.array((IMAGE_SIZE,IMAGE_SIZE))-np.array(resizeto)\n",
    "    npad=((0,paddim[0]),(0,paddim[1]),(0,0))\n",
    "    im = np.pad(im,npad, mode='constant')\n",
    "    return im\n",
    "\n",
    "def unprocess_image(im):   \n",
    "    # restore mean (sueezenet mean values)\n",
    "    im[:, :, 0] += 104.006\n",
    "    im[:, :, 1] += 116.669\n",
    "    im[:, :, 2] += 122.679\n",
    "    \n",
    "    # swap RBGR->RBG\n",
    "    im = im[:, :, ::-1]\n",
    "    \n",
    "    return im\n",
    "\n"
   ]
  }
 ],
 "metadata": {
  "kernelspec": {
   "display_name": "Python 2",
   "language": "python",
   "name": "python2"
  },
  "language_info": {
   "codemirror_mode": {
    "name": "ipython",
    "version": 2
   },
   "file_extension": ".py",
   "mimetype": "text/x-python",
   "name": "python",
   "nbconvert_exporter": "python",
   "pygments_lexer": "ipython2",
   "version": "2.7.12"
  }
 },
 "nbformat": 4,
 "nbformat_minor": 2
}
